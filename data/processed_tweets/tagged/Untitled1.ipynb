{
 "cells": [
  {
   "cell_type": "code",
   "execution_count": 463,
   "metadata": {
    "collapsed": false
   },
   "outputs": [],
   "source": [
    "import pandas as pd\n",
    "import numpy as np\n",
    "from bs4 import BeautifulSoup  \n",
    "import re\n",
    "import nltk\n",
    "from nltk.corpus import stopwords"
   ]
  },
  {
   "cell_type": "code",
   "execution_count": 464,
   "metadata": {
    "collapsed": true
   },
   "outputs": [],
   "source": [
    "from sklearn.feature_extraction.text import CountVectorizer\n",
    "from sklearn.ensemble import RandomForestClassifier\n",
    "from sklearn.cross_validation import train_test_split\n",
    "from sklearn.naive_bayes import MultinomialNB\n",
    "from sklearn import svm\n",
    "from sklearn.cross_validation import KFold"
   ]
  },
  {
   "cell_type": "code",
   "execution_count": 465,
   "metadata": {
    "collapsed": false
   },
   "outputs": [],
   "source": [
    "t1 = pd.read_csv('art_lover_processed.csv', header=None)\n",
    "t2 = pd.read_csv('conservative_processed.csv', header=None)\n",
    "t3 = pd.read_csv('fashion_lover_processed.csv', header=None)\n",
    "t4 = pd.read_csv('food_lover_processed.csv', header=None)\n",
    "t5 = pd.read_csv('gamer_processed.csv', header=None)\n",
    "t6 = pd.read_csv('liberal_processed.csv', header=None)\n",
    "t7 = pd.read_csv('music_lover_processed.csv', header=None)\n",
    "t8 = pd.read_csv('religious_processed.csv', header=None)\n",
    "t9 = pd.read_csv('science_lover_processed.csv', header=None)\n",
    "t10 = pd.read_csv('sports_fan_processed.csv', header=None)"
   ]
  },
  {
   "cell_type": "code",
   "execution_count": 466,
   "metadata": {
    "collapsed": false
   },
   "outputs": [],
   "source": [
    "t1['CATEGORY'] = \"ART\"\n",
    "t2['CATEGORY'] = \"CONSERVATIVE\"\n",
    "t3['CATEGORY'] = \"FASHION\"\n",
    "t4['CATEGORY'] = \"FOOD\"\n",
    "t5['CATEGORY'] = \"GAMER\"\n",
    "t6['CATEGORY'] = \"LIBERAL\"\n",
    "t7['CATEGORY'] = \"MUSIC\"\n",
    "t8['CATEGORY'] = \"RELIGIOUS\"\n",
    "t9['CATEGORY'] = \"SCIENCE\"\n",
    "t10['CATEGORY'] = \"SPORTS\""
   ]
  },
  {
   "cell_type": "code",
   "execution_count": 467,
   "metadata": {
    "collapsed": true
   },
   "outputs": [],
   "source": [
    "frames = [t1, t2, t3, t4, t5, t6, t7, t8, t9, t10]"
   ]
  },
  {
   "cell_type": "code",
   "execution_count": 482,
   "metadata": {
    "collapsed": false,
    "scrolled": true
   },
   "outputs": [
    {
     "data": {
      "text/html": [
       "<div>\n",
       "<table border=\"1\" class=\"dataframe\">\n",
       "  <thead>\n",
       "    <tr style=\"text-align: right;\">\n",
       "      <th></th>\n",
       "      <th>0</th>\n",
       "      <th>1</th>\n",
       "      <th>2</th>\n",
       "      <th>3</th>\n",
       "      <th>4</th>\n",
       "      <th>CATEGORY</th>\n",
       "    </tr>\n",
       "  </thead>\n",
       "  <tbody>\n",
       "    <tr>\n",
       "      <th>0</th>\n",
       "      <td>855771976442544129</td>\n",
       "      <td>Saatchi Art</td>\n",
       "      <td>2017-04-22 13:15:13</td>\n",
       "      <td>33</td>\n",
       "      <td>relja penez s dreamlik take smog ridden la sky...</td>\n",
       "      <td>ART</td>\n",
       "    </tr>\n",
       "    <tr>\n",
       "      <th>1</th>\n",
       "      <td>855683860838973441</td>\n",
       "      <td>Saatchi Art</td>\n",
       "      <td>2017-04-22 07:25:04</td>\n",
       "      <td>35</td>\n",
       "      <td>susan adam see susan' work artistoftheday</td>\n",
       "      <td>ART</td>\n",
       "    </tr>\n",
       "    <tr>\n",
       "      <th>2</th>\n",
       "      <td>855589490257256448</td>\n",
       "      <td>Saatchi Art</td>\n",
       "      <td>2017-04-22 01:10:05</td>\n",
       "      <td>9</td>\n",
       "      <td>canva escap road connect world imagin</td>\n",
       "      <td>ART</td>\n",
       "    </tr>\n",
       "    <tr>\n",
       "      <th>3</th>\n",
       "      <td>855498914555932672</td>\n",
       "      <td>Saatchi Art</td>\n",
       "      <td>2017-04-21 19:10:10</td>\n",
       "      <td>14</td>\n",
       "      <td>better get know one ubiquit style</td>\n",
       "      <td>ART</td>\n",
       "    </tr>\n",
       "    <tr>\n",
       "      <th>4</th>\n",
       "      <td>855451275164614657</td>\n",
       "      <td>Saatchi Art</td>\n",
       "      <td>2017-04-21 16:00:52</td>\n",
       "      <td>7</td>\n",
       "      <td>dan tagu see dan' work artistoftheday</td>\n",
       "      <td>ART</td>\n",
       "    </tr>\n",
       "    <tr>\n",
       "      <th>5</th>\n",
       "      <td>855133406295928833</td>\n",
       "      <td>Saatchi Art</td>\n",
       "      <td>2017-04-20 18:57:46</td>\n",
       "      <td>64</td>\n",
       "      <td>tri appli color like word shape poem like note...</td>\n",
       "      <td>ART</td>\n",
       "    </tr>\n",
       "    <tr>\n",
       "      <th>6</th>\n",
       "      <td>854952861536530433</td>\n",
       "      <td>Saatchi Art</td>\n",
       "      <td>2017-04-20 07:00:21</td>\n",
       "      <td>32</td>\n",
       "      <td>nep see work artistoftheday</td>\n",
       "      <td>ART</td>\n",
       "    </tr>\n",
       "    <tr>\n",
       "      <th>7</th>\n",
       "      <td>854816252778364929</td>\n",
       "      <td>Saatchi Art</td>\n",
       "      <td>2017-04-19 21:57:31</td>\n",
       "      <td>14</td>\n",
       "      <td>anniqu delphin make bold statement photographi...</td>\n",
       "      <td>ART</td>\n",
       "    </tr>\n",
       "    <tr>\n",
       "      <th>8</th>\n",
       "      <td>854804716563308544</td>\n",
       "      <td>Saatchi Art</td>\n",
       "      <td>2017-04-19 21:11:40</td>\n",
       "      <td>14</td>\n",
       "      <td>peek insid studio see look like exactli</td>\n",
       "      <td>ART</td>\n",
       "    </tr>\n",
       "    <tr>\n",
       "      <th>9</th>\n",
       "      <td>854764953215000576</td>\n",
       "      <td>Saatchi Art</td>\n",
       "      <td>2017-04-19 18:33:40</td>\n",
       "      <td>8</td>\n",
       "      <td>spot us phoenixmaguk' list 9 beauti object tha...</td>\n",
       "      <td>ART</td>\n",
       "    </tr>\n",
       "    <tr>\n",
       "      <th>10</th>\n",
       "      <td>854590478678978560</td>\n",
       "      <td>Saatchi Art</td>\n",
       "      <td>2017-04-19 07:00:22</td>\n",
       "      <td>28</td>\n",
       "      <td>nick archer see nick' work artistoftheday</td>\n",
       "      <td>ART</td>\n",
       "    </tr>\n",
       "    <tr>\n",
       "      <th>11</th>\n",
       "      <td>854401801529032704</td>\n",
       "      <td>Saatchi Art</td>\n",
       "      <td>2017-04-18 18:30:38</td>\n",
       "      <td>32</td>\n",
       "      <td>se rin park creat abstract layer landscap meet...</td>\n",
       "      <td>ART</td>\n",
       "    </tr>\n",
       "    <tr>\n",
       "      <th>12</th>\n",
       "      <td>854230553087836160</td>\n",
       "      <td>Saatchi Art</td>\n",
       "      <td>2017-04-18 07:10:09</td>\n",
       "      <td>29</td>\n",
       "      <td>don bishop see don' work artistoftheday</td>\n",
       "      <td>ART</td>\n",
       "    </tr>\n",
       "    <tr>\n",
       "      <th>13</th>\n",
       "      <td>854112652351512576</td>\n",
       "      <td>Saatchi Art</td>\n",
       "      <td>2017-04-17 23:21:39</td>\n",
       "      <td>18</td>\n",
       "      <td>floral spring decor idea will convinc</td>\n",
       "      <td>ART</td>\n",
       "    </tr>\n",
       "    <tr>\n",
       "      <th>14</th>\n",
       "      <td>854061524419325954</td>\n",
       "      <td>Saatchi Art</td>\n",
       "      <td>2017-04-17 19:58:29</td>\n",
       "      <td>42</td>\n",
       "      <td>monday new art brows mondaymotiv</td>\n",
       "      <td>ART</td>\n",
       "    </tr>\n",
       "    <tr>\n",
       "      <th>15</th>\n",
       "      <td>853866900362846209</td>\n",
       "      <td>Saatchi Art</td>\n",
       "      <td>2017-04-17 07:05:07</td>\n",
       "      <td>24</td>\n",
       "      <td>leif erik johansen see leif' work artistoftheday</td>\n",
       "      <td>ART</td>\n",
       "    </tr>\n",
       "    <tr>\n",
       "      <th>16</th>\n",
       "      <td>853700805416947713</td>\n",
       "      <td>Saatchi Art</td>\n",
       "      <td>2017-04-16 20:05:07</td>\n",
       "      <td>27</td>\n",
       "      <td>frame like</td>\n",
       "      <td>ART</td>\n",
       "    </tr>\n",
       "    <tr>\n",
       "      <th>17</th>\n",
       "      <td>853594038699778048</td>\n",
       "      <td>Saatchi Art</td>\n",
       "      <td>2017-04-16 13:00:52</td>\n",
       "      <td>19</td>\n",
       "      <td>learn chang game arthistori</td>\n",
       "      <td>ART</td>\n",
       "    </tr>\n",
       "    <tr>\n",
       "      <th>18</th>\n",
       "      <td>853504508604940291</td>\n",
       "      <td>Saatchi Art</td>\n",
       "      <td>2017-04-16 07:05:06</td>\n",
       "      <td>13</td>\n",
       "      <td>natalia ryabova see natalia' work artistoftheday</td>\n",
       "      <td>ART</td>\n",
       "    </tr>\n",
       "    <tr>\n",
       "      <th>19</th>\n",
       "      <td>853412730883239936</td>\n",
       "      <td>Saatchi Art</td>\n",
       "      <td>2017-04-16 01:00:25</td>\n",
       "      <td>18</td>\n",
       "      <td>littl goe long way</td>\n",
       "      <td>ART</td>\n",
       "    </tr>\n",
       "    <tr>\n",
       "      <th>20</th>\n",
       "      <td>853322176795209730</td>\n",
       "      <td>Saatchi Art</td>\n",
       "      <td>2017-04-15 19:00:35</td>\n",
       "      <td>11</td>\n",
       "      <td>meet theotherartfair' robin clare whose work e...</td>\n",
       "      <td>ART</td>\n",
       "    </tr>\n",
       "    <tr>\n",
       "      <th>21</th>\n",
       "      <td>853232733363073024</td>\n",
       "      <td>Saatchi Art</td>\n",
       "      <td>2017-04-15 13:05:10</td>\n",
       "      <td>34</td>\n",
       "      <td>revisit sacr piec honor da vinci' 565th birthday</td>\n",
       "      <td>ART</td>\n",
       "    </tr>\n",
       "    <tr>\n",
       "      <th>22</th>\n",
       "      <td>853143383254196224</td>\n",
       "      <td>Saatchi Art</td>\n",
       "      <td>2017-04-15 07:10:07</td>\n",
       "      <td>13</td>\n",
       "      <td>leah saulnier see leah' work artistoftheday</td>\n",
       "      <td>ART</td>\n",
       "    </tr>\n",
       "    <tr>\n",
       "      <th>23</th>\n",
       "      <td>853050319735066626</td>\n",
       "      <td>Saatchi Art</td>\n",
       "      <td>2017-04-15 01:00:19</td>\n",
       "      <td>15</td>\n",
       "      <td>familiar one oldest medium arthistori</td>\n",
       "      <td>ART</td>\n",
       "    </tr>\n",
       "    <tr>\n",
       "      <th>24</th>\n",
       "      <td>852991125128445953</td>\n",
       "      <td>Saatchi Art</td>\n",
       "      <td>2017-04-14 21:05:06</td>\n",
       "      <td>34</td>\n",
       "      <td>nadia attura build layer creat dynam imag peek...</td>\n",
       "      <td>ART</td>\n",
       "    </tr>\n",
       "    <tr>\n",
       "      <th>25</th>\n",
       "      <td>852959753361817600</td>\n",
       "      <td>Saatchi Art</td>\n",
       "      <td>2017-04-14 19:00:27</td>\n",
       "      <td>27</td>\n",
       "      <td>everyth alway want know frame afraid ask</td>\n",
       "      <td>ART</td>\n",
       "    </tr>\n",
       "    <tr>\n",
       "      <th>26</th>\n",
       "      <td>852910930279190530</td>\n",
       "      <td>Saatchi Art</td>\n",
       "      <td>2017-04-14 15:46:26</td>\n",
       "      <td>23</td>\n",
       "      <td>andrzej roszczak see andrzej' work artistoftheday</td>\n",
       "      <td>ART</td>\n",
       "    </tr>\n",
       "    <tr>\n",
       "      <th>27</th>\n",
       "      <td>852694634350481410</td>\n",
       "      <td>Saatchi Art</td>\n",
       "      <td>2017-04-14 01:26:57</td>\n",
       "      <td>18</td>\n",
       "      <td>know women help shape pop art</td>\n",
       "      <td>ART</td>\n",
       "    </tr>\n",
       "    <tr>\n",
       "      <th>28</th>\n",
       "      <td>852586310112092162</td>\n",
       "      <td>Saatchi Art</td>\n",
       "      <td>2017-04-13 18:16:31</td>\n",
       "      <td>39</td>\n",
       "      <td>see 64 new figur paint emerg artist around world</td>\n",
       "      <td>ART</td>\n",
       "    </tr>\n",
       "    <tr>\n",
       "      <th>29</th>\n",
       "      <td>852418598505259009</td>\n",
       "      <td>Saatchi Art</td>\n",
       "      <td>2017-04-13 07:10:05</td>\n",
       "      <td>17</td>\n",
       "      <td>guglielmo alfaron see guglielmo' work artistof...</td>\n",
       "      <td>ART</td>\n",
       "    </tr>\n",
       "    <tr>\n",
       "      <th>...</th>\n",
       "      <td>...</td>\n",
       "      <td>...</td>\n",
       "      <td>...</td>\n",
       "      <td>...</td>\n",
       "      <td>...</td>\n",
       "      <td>...</td>\n",
       "    </tr>\n",
       "    <tr>\n",
       "      <th>217859</th>\n",
       "      <td>809467103535243266</td>\n",
       "      <td>L.A. Times Sports</td>\n",
       "      <td>2016-12-15 18:36:11</td>\n",
       "      <td>0</td>\n",
       "      <td>box refere kenni bayless discuss canelo golovk...</td>\n",
       "      <td>SPORTS</td>\n",
       "    </tr>\n",
       "    <tr>\n",
       "      <th>217860</th>\n",
       "      <td>809457676832808961</td>\n",
       "      <td>L.A. Times Sports</td>\n",
       "      <td>2016-12-15 17:58:43</td>\n",
       "      <td>1</td>\n",
       "      <td>expert predict bowl game result week 1</td>\n",
       "      <td>SPORTS</td>\n",
       "    </tr>\n",
       "    <tr>\n",
       "      <th>217861</th>\n",
       "      <td>809443322561380352</td>\n",
       "      <td>L.A. Times Sports</td>\n",
       "      <td>2016-12-15 17:01:41</td>\n",
       "      <td>3</td>\n",
       "      <td>life california chrome retir go difficult fan</td>\n",
       "      <td>SPORTS</td>\n",
       "    </tr>\n",
       "    <tr>\n",
       "      <th>217862</th>\n",
       "      <td>809419396867198976</td>\n",
       "      <td>L.A. Times Sports</td>\n",
       "      <td>2016-12-15 15:26:37</td>\n",
       "      <td>0</td>\n",
       "      <td>five takeaway clippers' 113 108 win magic</td>\n",
       "      <td>SPORTS</td>\n",
       "    </tr>\n",
       "    <tr>\n",
       "      <th>217863</th>\n",
       "      <td>809371218130284544</td>\n",
       "      <td>L.A. Times Sports</td>\n",
       "      <td>2016-12-15 12:15:10</td>\n",
       "      <td>2</td>\n",
       "      <td>ram must deliv seahawk watch</td>\n",
       "      <td>SPORTS</td>\n",
       "    </tr>\n",
       "    <tr>\n",
       "      <th>217864</th>\n",
       "      <td>809354102098362369</td>\n",
       "      <td>L.A. Times Sports</td>\n",
       "      <td>2016-12-15 11:07:09</td>\n",
       "      <td>0</td>\n",
       "      <td>ram vs seahawk match</td>\n",
       "      <td>SPORTS</td>\n",
       "    </tr>\n",
       "    <tr>\n",
       "      <th>217865</th>\n",
       "      <td>809288162186915840</td>\n",
       "      <td>L.A. Times Sports</td>\n",
       "      <td>2016-12-15 06:45:08</td>\n",
       "      <td>1</td>\n",
       "      <td>colleg basketbal roundup arizona hold grand ca...</td>\n",
       "      <td>SPORTS</td>\n",
       "    </tr>\n",
       "    <tr>\n",
       "      <th>217866</th>\n",
       "      <td>809264635660484608</td>\n",
       "      <td>L.A. Times Sports</td>\n",
       "      <td>2016-12-15 05:11:39</td>\n",
       "      <td>2</td>\n",
       "      <td>adoree' jackson say go make nfl mock draft wil...</td>\n",
       "      <td>SPORTS</td>\n",
       "    </tr>\n",
       "    <tr>\n",
       "      <th>217867</th>\n",
       "      <td>809262242730360832</td>\n",
       "      <td>L.A. Times Sports</td>\n",
       "      <td>2016-12-15 05:02:08</td>\n",
       "      <td>1</td>\n",
       "      <td>clippers' river rare form homecom</td>\n",
       "      <td>SPORTS</td>\n",
       "    </tr>\n",
       "    <tr>\n",
       "      <th>217868</th>\n",
       "      <td>809257470648422400</td>\n",
       "      <td>L.A. Times Sports</td>\n",
       "      <td>2016-12-15 04:43:10</td>\n",
       "      <td>0</td>\n",
       "      <td>around nfl receiv releas arrest</td>\n",
       "      <td>SPORTS</td>\n",
       "    </tr>\n",
       "    <tr>\n",
       "      <th>217869</th>\n",
       "      <td>809236333436682240</td>\n",
       "      <td>L.A. Times Sports</td>\n",
       "      <td>2016-12-15 03:19:11</td>\n",
       "      <td>4</td>\n",
       "      <td>ducks' cogliano guard ironman streak routin</td>\n",
       "      <td>SPORTS</td>\n",
       "    </tr>\n",
       "    <tr>\n",
       "      <th>217870</th>\n",
       "      <td>809232309933076481</td>\n",
       "      <td>L.A. Times Sports</td>\n",
       "      <td>2016-12-15 03:03:12</td>\n",
       "      <td>1</td>\n",
       "      <td>seven 3 pointer austin rivers' return lead cli...</td>\n",
       "      <td>SPORTS</td>\n",
       "    </tr>\n",
       "    <tr>\n",
       "      <th>217871</th>\n",
       "      <td>809217478270205952</td>\n",
       "      <td>L.A. Times Sports</td>\n",
       "      <td>2016-12-15 02:04:16</td>\n",
       "      <td>3</td>\n",
       "      <td>bernard hopkin 51 prepar final fight saturday ...</td>\n",
       "      <td>SPORTS</td>\n",
       "    </tr>\n",
       "    <tr>\n",
       "      <th>217872</th>\n",
       "      <td>809204389642547200</td>\n",
       "      <td>L.A. Times Sports</td>\n",
       "      <td>2016-12-15 01:12:15</td>\n",
       "      <td>2</td>\n",
       "      <td>'no reason optimism' oakland raider san diego ...</td>\n",
       "      <td>SPORTS</td>\n",
       "    </tr>\n",
       "    <tr>\n",
       "      <th>217873</th>\n",
       "      <td>809194558122643460</td>\n",
       "      <td>L.A. Times Sports</td>\n",
       "      <td>2016-12-15 00:33:11</td>\n",
       "      <td>0</td>\n",
       "      <td>kings' dean lombardi say goali jonathan quick ...</td>\n",
       "      <td>SPORTS</td>\n",
       "    </tr>\n",
       "    <tr>\n",
       "      <th>217874</th>\n",
       "      <td>809192033587822592</td>\n",
       "      <td>L.A. Times Sports</td>\n",
       "      <td>2016-12-15 00:23:09</td>\n",
       "      <td>0</td>\n",
       "      <td>kings' dean lombardi say goali jonathan quick ...</td>\n",
       "      <td>SPORTS</td>\n",
       "    </tr>\n",
       "    <tr>\n",
       "      <th>217875</th>\n",
       "      <td>809189557044322304</td>\n",
       "      <td>L.A. Times Sports</td>\n",
       "      <td>2016-12-15 00:13:19</td>\n",
       "      <td>0</td>\n",
       "      <td>times' sam farmer predict seahawk will defeat ...</td>\n",
       "      <td>SPORTS</td>\n",
       "    </tr>\n",
       "    <tr>\n",
       "      <th>217876</th>\n",
       "      <td>809187255797456896</td>\n",
       "      <td>L.A. Times Sports</td>\n",
       "      <td>2016-12-15 00:04:10</td>\n",
       "      <td>0</td>\n",
       "      <td>world box council mandatori fight assign leav ...</td>\n",
       "      <td>SPORTS</td>\n",
       "    </tr>\n",
       "    <tr>\n",
       "      <th>217877</th>\n",
       "      <td>809177047696175104</td>\n",
       "      <td>L.A. Times Sports</td>\n",
       "      <td>2016-12-14 23:23:36</td>\n",
       "      <td>4</td>\n",
       "      <td>nba fine laker coach luke walton 15 000</td>\n",
       "      <td>SPORTS</td>\n",
       "    </tr>\n",
       "    <tr>\n",
       "      <th>217878</th>\n",
       "      <td>809153301329522688</td>\n",
       "      <td>L.A. Times Sports</td>\n",
       "      <td>2016-12-14 21:49:15</td>\n",
       "      <td>15</td>\n",
       "      <td>ram fan al michael recal first trip coliseum s...</td>\n",
       "      <td>SPORTS</td>\n",
       "    </tr>\n",
       "    <tr>\n",
       "      <th>217879</th>\n",
       "      <td>809106866647142401</td>\n",
       "      <td>L.A. Times Sports</td>\n",
       "      <td>2016-12-14 18:44:44</td>\n",
       "      <td>9</td>\n",
       "      <td>former duck u s coach ron wilson recov stroke</td>\n",
       "      <td>SPORTS</td>\n",
       "    </tr>\n",
       "    <tr>\n",
       "      <th>217880</th>\n",
       "      <td>809087234280329216</td>\n",
       "      <td>L.A. Times Sports</td>\n",
       "      <td>2016-12-14 17:26:43</td>\n",
       "      <td>1</td>\n",
       "      <td>russian consid lawsuit bobls skeleton champion...</td>\n",
       "      <td>SPORTS</td>\n",
       "    </tr>\n",
       "    <tr>\n",
       "      <th>217881</th>\n",
       "      <td>809067736567463936</td>\n",
       "      <td>L.A. Times Sports</td>\n",
       "      <td>2016-12-14 16:09:14</td>\n",
       "      <td>2</td>\n",
       "      <td>nfl meet live updat charger raider move topic ...</td>\n",
       "      <td>SPORTS</td>\n",
       "    </tr>\n",
       "    <tr>\n",
       "      <th>217882</th>\n",
       "      <td>809057466491113472</td>\n",
       "      <td>L.A. Times Sports</td>\n",
       "      <td>2016-12-14 15:28:26</td>\n",
       "      <td>0</td>\n",
       "      <td>learn kings' 6 3 loss buffalo sabr</td>\n",
       "      <td>SPORTS</td>\n",
       "    </tr>\n",
       "    <tr>\n",
       "      <th>217883</th>\n",
       "      <td>809054901816803328</td>\n",
       "      <td>L.A. Times Sports</td>\n",
       "      <td>2016-12-14 15:18:14</td>\n",
       "      <td>1</td>\n",
       "      <td>learn kings' 6 3 loss buffalo sabr</td>\n",
       "      <td>SPORTS</td>\n",
       "    </tr>\n",
       "    <tr>\n",
       "      <th>217884</th>\n",
       "      <td>809027630217314305</td>\n",
       "      <td>L.A. Times Sports</td>\n",
       "      <td>2016-12-14 13:29:52</td>\n",
       "      <td>0</td>\n",
       "      <td>lo angeles' olymp bid remain focus summer 2024</td>\n",
       "      <td>SPORTS</td>\n",
       "    </tr>\n",
       "    <tr>\n",
       "      <th>217885</th>\n",
       "      <td>809021309824794625</td>\n",
       "      <td>L.A. Times Sports</td>\n",
       "      <td>2016-12-14 13:04:45</td>\n",
       "      <td>1</td>\n",
       "      <td>snub 'cyborg' rais question ufc' creation new ...</td>\n",
       "      <td>SPORTS</td>\n",
       "    </tr>\n",
       "    <tr>\n",
       "      <th>217886</th>\n",
       "      <td>808928794841116673</td>\n",
       "      <td>L.A. Times Sports</td>\n",
       "      <td>2016-12-14 06:57:08</td>\n",
       "      <td>0</td>\n",
       "      <td>nba portland trail blazer wallop oklahoma citi...</td>\n",
       "      <td>SPORTS</td>\n",
       "    </tr>\n",
       "    <tr>\n",
       "      <th>217887</th>\n",
       "      <td>808925032055504896</td>\n",
       "      <td>L.A. Times Sports</td>\n",
       "      <td>2016-12-14 06:42:11</td>\n",
       "      <td>5</td>\n",
       "      <td>citi counti offici ok negoti new 1 3 billion r...</td>\n",
       "      <td>SPORTS</td>\n",
       "    </tr>\n",
       "    <tr>\n",
       "      <th>217888</th>\n",
       "      <td>808910199205535744</td>\n",
       "      <td>L.A. Times Sports</td>\n",
       "      <td>2016-12-14 05:43:14</td>\n",
       "      <td>17</td>\n",
       "      <td>chino hill keep entertain win ball brother bea...</td>\n",
       "      <td>SPORTS</td>\n",
       "    </tr>\n",
       "  </tbody>\n",
       "</table>\n",
       "<p>217889 rows × 6 columns</p>\n",
       "</div>"
      ],
      "text/plain": [
       "                         0                  1                    2   3  \\\n",
       "0       855771976442544129        Saatchi Art  2017-04-22 13:15:13  33   \n",
       "1       855683860838973441        Saatchi Art  2017-04-22 07:25:04  35   \n",
       "2       855589490257256448        Saatchi Art  2017-04-22 01:10:05   9   \n",
       "3       855498914555932672        Saatchi Art  2017-04-21 19:10:10  14   \n",
       "4       855451275164614657        Saatchi Art  2017-04-21 16:00:52   7   \n",
       "5       855133406295928833        Saatchi Art  2017-04-20 18:57:46  64   \n",
       "6       854952861536530433        Saatchi Art  2017-04-20 07:00:21  32   \n",
       "7       854816252778364929        Saatchi Art  2017-04-19 21:57:31  14   \n",
       "8       854804716563308544        Saatchi Art  2017-04-19 21:11:40  14   \n",
       "9       854764953215000576        Saatchi Art  2017-04-19 18:33:40   8   \n",
       "10      854590478678978560        Saatchi Art  2017-04-19 07:00:22  28   \n",
       "11      854401801529032704        Saatchi Art  2017-04-18 18:30:38  32   \n",
       "12      854230553087836160        Saatchi Art  2017-04-18 07:10:09  29   \n",
       "13      854112652351512576        Saatchi Art  2017-04-17 23:21:39  18   \n",
       "14      854061524419325954        Saatchi Art  2017-04-17 19:58:29  42   \n",
       "15      853866900362846209        Saatchi Art  2017-04-17 07:05:07  24   \n",
       "16      853700805416947713        Saatchi Art  2017-04-16 20:05:07  27   \n",
       "17      853594038699778048        Saatchi Art  2017-04-16 13:00:52  19   \n",
       "18      853504508604940291        Saatchi Art  2017-04-16 07:05:06  13   \n",
       "19      853412730883239936        Saatchi Art  2017-04-16 01:00:25  18   \n",
       "20      853322176795209730        Saatchi Art  2017-04-15 19:00:35  11   \n",
       "21      853232733363073024        Saatchi Art  2017-04-15 13:05:10  34   \n",
       "22      853143383254196224        Saatchi Art  2017-04-15 07:10:07  13   \n",
       "23      853050319735066626        Saatchi Art  2017-04-15 01:00:19  15   \n",
       "24      852991125128445953        Saatchi Art  2017-04-14 21:05:06  34   \n",
       "25      852959753361817600        Saatchi Art  2017-04-14 19:00:27  27   \n",
       "26      852910930279190530        Saatchi Art  2017-04-14 15:46:26  23   \n",
       "27      852694634350481410        Saatchi Art  2017-04-14 01:26:57  18   \n",
       "28      852586310112092162        Saatchi Art  2017-04-13 18:16:31  39   \n",
       "29      852418598505259009        Saatchi Art  2017-04-13 07:10:05  17   \n",
       "...                    ...                ...                  ...  ..   \n",
       "217859  809467103535243266  L.A. Times Sports  2016-12-15 18:36:11   0   \n",
       "217860  809457676832808961  L.A. Times Sports  2016-12-15 17:58:43   1   \n",
       "217861  809443322561380352  L.A. Times Sports  2016-12-15 17:01:41   3   \n",
       "217862  809419396867198976  L.A. Times Sports  2016-12-15 15:26:37   0   \n",
       "217863  809371218130284544  L.A. Times Sports  2016-12-15 12:15:10   2   \n",
       "217864  809354102098362369  L.A. Times Sports  2016-12-15 11:07:09   0   \n",
       "217865  809288162186915840  L.A. Times Sports  2016-12-15 06:45:08   1   \n",
       "217866  809264635660484608  L.A. Times Sports  2016-12-15 05:11:39   2   \n",
       "217867  809262242730360832  L.A. Times Sports  2016-12-15 05:02:08   1   \n",
       "217868  809257470648422400  L.A. Times Sports  2016-12-15 04:43:10   0   \n",
       "217869  809236333436682240  L.A. Times Sports  2016-12-15 03:19:11   4   \n",
       "217870  809232309933076481  L.A. Times Sports  2016-12-15 03:03:12   1   \n",
       "217871  809217478270205952  L.A. Times Sports  2016-12-15 02:04:16   3   \n",
       "217872  809204389642547200  L.A. Times Sports  2016-12-15 01:12:15   2   \n",
       "217873  809194558122643460  L.A. Times Sports  2016-12-15 00:33:11   0   \n",
       "217874  809192033587822592  L.A. Times Sports  2016-12-15 00:23:09   0   \n",
       "217875  809189557044322304  L.A. Times Sports  2016-12-15 00:13:19   0   \n",
       "217876  809187255797456896  L.A. Times Sports  2016-12-15 00:04:10   0   \n",
       "217877  809177047696175104  L.A. Times Sports  2016-12-14 23:23:36   4   \n",
       "217878  809153301329522688  L.A. Times Sports  2016-12-14 21:49:15  15   \n",
       "217879  809106866647142401  L.A. Times Sports  2016-12-14 18:44:44   9   \n",
       "217880  809087234280329216  L.A. Times Sports  2016-12-14 17:26:43   1   \n",
       "217881  809067736567463936  L.A. Times Sports  2016-12-14 16:09:14   2   \n",
       "217882  809057466491113472  L.A. Times Sports  2016-12-14 15:28:26   0   \n",
       "217883  809054901816803328  L.A. Times Sports  2016-12-14 15:18:14   1   \n",
       "217884  809027630217314305  L.A. Times Sports  2016-12-14 13:29:52   0   \n",
       "217885  809021309824794625  L.A. Times Sports  2016-12-14 13:04:45   1   \n",
       "217886  808928794841116673  L.A. Times Sports  2016-12-14 06:57:08   0   \n",
       "217887  808925032055504896  L.A. Times Sports  2016-12-14 06:42:11   5   \n",
       "217888  808910199205535744  L.A. Times Sports  2016-12-14 05:43:14  17   \n",
       "\n",
       "                                                        4 CATEGORY  \n",
       "0       relja penez s dreamlik take smog ridden la sky...      ART  \n",
       "1               susan adam see susan' work artistoftheday      ART  \n",
       "2                   canva escap road connect world imagin      ART  \n",
       "3                       better get know one ubiquit style      ART  \n",
       "4                   dan tagu see dan' work artistoftheday      ART  \n",
       "5       tri appli color like word shape poem like note...      ART  \n",
       "6                             nep see work artistoftheday      ART  \n",
       "7       anniqu delphin make bold statement photographi...      ART  \n",
       "8                 peek insid studio see look like exactli      ART  \n",
       "9       spot us phoenixmaguk' list 9 beauti object tha...      ART  \n",
       "10              nick archer see nick' work artistoftheday      ART  \n",
       "11      se rin park creat abstract layer landscap meet...      ART  \n",
       "12                don bishop see don' work artistoftheday      ART  \n",
       "13                  floral spring decor idea will convinc      ART  \n",
       "14                       monday new art brows mondaymotiv      ART  \n",
       "15       leif erik johansen see leif' work artistoftheday      ART  \n",
       "16                                             frame like      ART  \n",
       "17                            learn chang game arthistori      ART  \n",
       "18       natalia ryabova see natalia' work artistoftheday      ART  \n",
       "19                                     littl goe long way      ART  \n",
       "20      meet theotherartfair' robin clare whose work e...      ART  \n",
       "21       revisit sacr piec honor da vinci' 565th birthday      ART  \n",
       "22            leah saulnier see leah' work artistoftheday      ART  \n",
       "23                  familiar one oldest medium arthistori      ART  \n",
       "24      nadia attura build layer creat dynam imag peek...      ART  \n",
       "25               everyth alway want know frame afraid ask      ART  \n",
       "26      andrzej roszczak see andrzej' work artistoftheday      ART  \n",
       "27                          know women help shape pop art      ART  \n",
       "28       see 64 new figur paint emerg artist around world      ART  \n",
       "29      guglielmo alfaron see guglielmo' work artistof...      ART  \n",
       "...                                                   ...      ...  \n",
       "217859  box refere kenni bayless discuss canelo golovk...   SPORTS  \n",
       "217860             expert predict bowl game result week 1   SPORTS  \n",
       "217861      life california chrome retir go difficult fan   SPORTS  \n",
       "217862          five takeaway clippers' 113 108 win magic   SPORTS  \n",
       "217863                       ram must deliv seahawk watch   SPORTS  \n",
       "217864                               ram vs seahawk match   SPORTS  \n",
       "217865  colleg basketbal roundup arizona hold grand ca...   SPORTS  \n",
       "217866  adoree' jackson say go make nfl mock draft wil...   SPORTS  \n",
       "217867                  clippers' river rare form homecom   SPORTS  \n",
       "217868                    around nfl receiv releas arrest   SPORTS  \n",
       "217869        ducks' cogliano guard ironman streak routin   SPORTS  \n",
       "217870  seven 3 pointer austin rivers' return lead cli...   SPORTS  \n",
       "217871  bernard hopkin 51 prepar final fight saturday ...   SPORTS  \n",
       "217872  'no reason optimism' oakland raider san diego ...   SPORTS  \n",
       "217873  kings' dean lombardi say goali jonathan quick ...   SPORTS  \n",
       "217874  kings' dean lombardi say goali jonathan quick ...   SPORTS  \n",
       "217875  times' sam farmer predict seahawk will defeat ...   SPORTS  \n",
       "217876  world box council mandatori fight assign leav ...   SPORTS  \n",
       "217877            nba fine laker coach luke walton 15 000   SPORTS  \n",
       "217878  ram fan al michael recal first trip coliseum s...   SPORTS  \n",
       "217879      former duck u s coach ron wilson recov stroke   SPORTS  \n",
       "217880  russian consid lawsuit bobls skeleton champion...   SPORTS  \n",
       "217881  nfl meet live updat charger raider move topic ...   SPORTS  \n",
       "217882                 learn kings' 6 3 loss buffalo sabr   SPORTS  \n",
       "217883                 learn kings' 6 3 loss buffalo sabr   SPORTS  \n",
       "217884     lo angeles' olymp bid remain focus summer 2024   SPORTS  \n",
       "217885  snub 'cyborg' rais question ufc' creation new ...   SPORTS  \n",
       "217886  nba portland trail blazer wallop oklahoma citi...   SPORTS  \n",
       "217887  citi counti offici ok negoti new 1 3 billion r...   SPORTS  \n",
       "217888  chino hill keep entertain win ball brother bea...   SPORTS  \n",
       "\n",
       "[217889 rows x 6 columns]"
      ]
     },
     "execution_count": 482,
     "metadata": {},
     "output_type": "execute_result"
    }
   ],
   "source": [
    "tweets = pd.concat(frames, ignore_index = True)\n",
    "tweets"
   ]
  },
  {
   "cell_type": "code",
   "execution_count": 469,
   "metadata": {
    "collapsed": false
   },
   "outputs": [],
   "source": [
    "def aggregate_tweets(data):\n",
    "    text = \"\"\n",
    "    users = []\n",
    "    tweets = []\n",
    "    category = []\n",
    "    for index, row in data.iterrows():\n",
    "        if len(users) == 0:\n",
    "            users.append(row[1])\n",
    "            category.append(row[5])\n",
    "        elif users[-1] != row[1]:\n",
    "            users.append(row[1])\n",
    "            category.append(row[5])\n",
    "            tweets.append(text)\n",
    "            text = \"\"\n",
    "        text = text + row[4] + \" \" \n",
    "    tweets.append(text)\n",
    "    return pd.DataFrame({'User': users, 'Tweets': tweets, 'Category': category})\n",
    "\n",
    "agg_tweets = aggregate_tweets(tweets)"
   ]
  },
  {
   "cell_type": "code",
   "execution_count": 470,
   "metadata": {
    "collapsed": false
   },
   "outputs": [
    {
     "data": {
      "text/html": [
       "<div>\n",
       "<table border=\"1\" class=\"dataframe\">\n",
       "  <thead>\n",
       "    <tr style=\"text-align: right;\">\n",
       "      <th></th>\n",
       "      <th>Category</th>\n",
       "      <th>Tweets</th>\n",
       "      <th>User</th>\n",
       "    </tr>\n",
       "  </thead>\n",
       "  <tbody>\n",
       "    <tr>\n",
       "      <th>0</th>\n",
       "      <td>ART</td>\n",
       "      <td>relja penez s dreamlik take smog ridden la sky...</td>\n",
       "      <td>Saatchi Art</td>\n",
       "    </tr>\n",
       "    <tr>\n",
       "      <th>1</th>\n",
       "      <td>ART</td>\n",
       "      <td>metmuseum host dinner parti 5 000 year art roo...</td>\n",
       "      <td>Artsy</td>\n",
       "    </tr>\n",
       "    <tr>\n",
       "      <th>2</th>\n",
       "      <td>ART</td>\n",
       "      <td>creat one' world art take courag georgia o'kee...</td>\n",
       "      <td>Art.com</td>\n",
       "    </tr>\n",
       "    <tr>\n",
       "      <th>3</th>\n",
       "      <td>ART</td>\n",
       "      <td>fill diari art monthli calendar wide rang even...</td>\n",
       "      <td>Art Monthly</td>\n",
       "    </tr>\n",
       "    <tr>\n",
       "      <th>4</th>\n",
       "      <td>ART</td>\n",
       "      <td>crazi new interfac make zero sens now todd ebe...</td>\n",
       "      <td>Co.Design</td>\n",
       "    </tr>\n",
       "    <tr>\n",
       "      <th>5</th>\n",
       "      <td>ART</td>\n",
       "      <td>'a journey light' time see cerithwynevans' maj...</td>\n",
       "      <td>Tate</td>\n",
       "    </tr>\n",
       "    <tr>\n",
       "      <th>6</th>\n",
       "      <td>ART</td>\n",
       "      <td>philipp kaiser co curat swiss pavilion la_bien...</td>\n",
       "      <td>ArtReview</td>\n",
       "    </tr>\n",
       "    <tr>\n",
       "      <th>7</th>\n",
       "      <td>CONSERVATIVE</td>\n",
       "      <td>one week potu s 100th day offic get piec unfor...</td>\n",
       "      <td>GOP</td>\n",
       "    </tr>\n",
       "    <tr>\n",
       "      <th>8</th>\n",
       "      <td>CONSERVATIVE</td>\n",
       "      <td>attack afghan soldier reveal true natur insurg...</td>\n",
       "      <td>Paul Ryan</td>\n",
       "    </tr>\n",
       "    <tr>\n",
       "      <th>9</th>\n",
       "      <td>CONSERVATIVE</td>\n",
       "      <td>tax reform grow economi increas peopl s payche...</td>\n",
       "      <td>House Republicans</td>\n",
       "    </tr>\n",
       "    <tr>\n",
       "      <th>10</th>\n",
       "      <td>CONSERVATIVE</td>\n",
       "      <td>unreal oh boy ye wh determin fulfil major camp...</td>\n",
       "      <td>Sarah Palin</td>\n",
       "    </tr>\n",
       "    <tr>\n",
       "      <th>11</th>\n",
       "      <td>CONSERVATIVE</td>\n",
       "      <td>181 yr ago texa secur independ battl san jacin...</td>\n",
       "      <td>Ted Cruz</td>\n",
       "    </tr>\n",
       "    <tr>\n",
       "      <th>12</th>\n",
       "      <td>CONSERVATIVE</td>\n",
       "      <td>tonight justic judgejeanin goe one one anncoul...</td>\n",
       "      <td>Fox News</td>\n",
       "    </tr>\n",
       "    <tr>\n",
       "      <th>13</th>\n",
       "      <td>CONSERVATIVE</td>\n",
       "      <td>mani area state feder govern share respons imm...</td>\n",
       "      <td>Jim DeMint</td>\n",
       "    </tr>\n",
       "    <tr>\n",
       "      <th>14</th>\n",
       "      <td>CONSERVATIVE</td>\n",
       "      <td>crack conservat thought will wikipedia stop us...</td>\n",
       "      <td>Mark R. Levin</td>\n",
       "    </tr>\n",
       "    <tr>\n",
       "      <th>15</th>\n",
       "      <td>CONSERVATIVE</td>\n",
       "      <td>dem trot tire 'bigotry' smear new trump appoin...</td>\n",
       "      <td>Conservative Review</td>\n",
       "    </tr>\n",
       "    <tr>\n",
       "      <th>16</th>\n",
       "      <td>FASHION</td>\n",
       "      <td>posh less dosh harrywalker1 best buy victoriab...</td>\n",
       "      <td>Times Fashion</td>\n",
       "    </tr>\n",
       "    <tr>\n",
       "      <th>17</th>\n",
       "      <td>FASHION</td>\n",
       "      <td>80 20 wardrob plan will chang life plant showe...</td>\n",
       "      <td>Who What Wear</td>\n",
       "    </tr>\n",
       "    <tr>\n",
       "      <th>18</th>\n",
       "      <td>FASHION</td>\n",
       "      <td>georg amal clooney reportedli decid will rais ...</td>\n",
       "      <td>Vogue Magazine</td>\n",
       "    </tr>\n",
       "    <tr>\n",
       "      <th>19</th>\n",
       "      <td>FASHION</td>\n",
       "      <td>good look zara apoli fashion basic specif type...</td>\n",
       "      <td>NYT Fashion</td>\n",
       "    </tr>\n",
       "    <tr>\n",
       "      <th>20</th>\n",
       "      <td>FASHION</td>\n",
       "      <td>rihanna work cashier fentyxpuma pop fashion ne...</td>\n",
       "      <td>FashionWeek</td>\n",
       "    </tr>\n",
       "    <tr>\n",
       "      <th>21</th>\n",
       "      <td>FASHION</td>\n",
       "      <td>kimkardashian kyliejenn store us see full mosc...</td>\n",
       "      <td>Fashionista.com</td>\n",
       "    </tr>\n",
       "    <tr>\n",
       "      <th>22</th>\n",
       "      <td>FASHION</td>\n",
       "      <td>louisvuitton just reveal locat cruis fashion s...</td>\n",
       "      <td>WWD</td>\n",
       "    </tr>\n",
       "    <tr>\n",
       "      <th>23</th>\n",
       "      <td>FASHION</td>\n",
       "      <td>posh day palac former spice girl design victor...</td>\n",
       "      <td>AP Fashion</td>\n",
       "    </tr>\n",
       "    <tr>\n",
       "      <th>24</th>\n",
       "      <td>FOOD</td>\n",
       "      <td>gin gave champagn final rose burrata babi burr...</td>\n",
       "      <td>Bon Appétit</td>\n",
       "    </tr>\n",
       "    <tr>\n",
       "      <th>25</th>\n",
       "      <td>FOOD</td>\n",
       "      <td>delic yet flavor effort will reward spectacula...</td>\n",
       "      <td>NYT Food</td>\n",
       "    </tr>\n",
       "    <tr>\n",
       "      <th>26</th>\n",
       "      <td>FOOD</td>\n",
       "      <td>chefludo among particip lafoodbowl may join us...</td>\n",
       "      <td>L.A. Times Food</td>\n",
       "    </tr>\n",
       "    <tr>\n",
       "      <th>27</th>\n",
       "      <td>FOOD</td>\n",
       "      <td>love sweet sour ginger chicken special ingredi...</td>\n",
       "      <td>PBS Food</td>\n",
       "    </tr>\n",
       "    <tr>\n",
       "      <th>28</th>\n",
       "      <td>FOOD</td>\n",
       "      <td>today celebr scienc friday' chees plate becom ...</td>\n",
       "      <td>Serious Eats</td>\n",
       "    </tr>\n",
       "    <tr>\n",
       "      <th>29</th>\n",
       "      <td>FOOD</td>\n",
       "      <td>ever becam real life get danger earth day cupc...</td>\n",
       "      <td>Spoon University</td>\n",
       "    </tr>\n",
       "    <tr>\n",
       "      <th>...</th>\n",
       "      <td>...</td>\n",
       "      <td>...</td>\n",
       "      <td>...</td>\n",
       "    </tr>\n",
       "    <tr>\n",
       "      <th>58</th>\n",
       "      <td>MUSIC</td>\n",
       "      <td>sometim just need chill hous perfect playlist ...</td>\n",
       "      <td>Vevo</td>\n",
       "    </tr>\n",
       "    <tr>\n",
       "      <th>59</th>\n",
       "      <td>MUSIC</td>\n",
       "      <td>peopl go crazi 22 year old dj oliverhelden rec...</td>\n",
       "      <td>Recording Academy</td>\n",
       "    </tr>\n",
       "    <tr>\n",
       "      <th>60</th>\n",
       "      <td>MUSIC</td>\n",
       "      <td>danc hollywood sign get lust life lanadelrey' ...</td>\n",
       "      <td>Pandora</td>\n",
       "    </tr>\n",
       "    <tr>\n",
       "      <th>61</th>\n",
       "      <td>MUSIC</td>\n",
       "      <td>now new remix 'that' like brunomar noth hold b...</td>\n",
       "      <td>Spotify</td>\n",
       "    </tr>\n",
       "    <tr>\n",
       "      <th>62</th>\n",
       "      <td>RELIGIOUS</td>\n",
       "      <td>recycl tire religi liberti suprem court find p...</td>\n",
       "      <td>CNN Religion</td>\n",
       "    </tr>\n",
       "    <tr>\n",
       "      <th>63</th>\n",
       "      <td>RELIGIOUS</td>\n",
       "      <td>earth day need greater sens global respons bas...</td>\n",
       "      <td>Dalai Lama</td>\n",
       "    </tr>\n",
       "    <tr>\n",
       "      <th>64</th>\n",
       "      <td>RELIGIOUS</td>\n",
       "      <td>lord bring heal live may protect world prey ma...</td>\n",
       "      <td>Pope Francis</td>\n",
       "    </tr>\n",
       "    <tr>\n",
       "      <th>65</th>\n",
       "      <td>RELIGIOUS</td>\n",
       "      <td>winner chandleraward receiv cash prize amp fre...</td>\n",
       "      <td>Religion News</td>\n",
       "    </tr>\n",
       "    <tr>\n",
       "      <th>66</th>\n",
       "      <td>RELIGIOUS</td>\n",
       "      <td>sing diplomat fred smith insid s view australi...</td>\n",
       "      <td>ABC Religion&amp;Ethics</td>\n",
       "    </tr>\n",
       "    <tr>\n",
       "      <th>67</th>\n",
       "      <td>RELIGIOUS</td>\n",
       "      <td>name may three time less like get job intervie...</td>\n",
       "      <td>HuffPost Religion</td>\n",
       "    </tr>\n",
       "    <tr>\n",
       "      <th>68</th>\n",
       "      <td>RELIGIOUS</td>\n",
       "      <td>good friend rabbi andrew jacob lead year' invo...</td>\n",
       "      <td>Father Albert Cutie</td>\n",
       "    </tr>\n",
       "    <tr>\n",
       "      <th>69</th>\n",
       "      <td>RELIGIOUS</td>\n",
       "      <td>belat easter gift enjoy new singl saddlebackwo...</td>\n",
       "      <td>Rick Warren</td>\n",
       "    </tr>\n",
       "    <tr>\n",
       "      <th>70</th>\n",
       "      <td>RELIGIOUS</td>\n",
       "      <td>celebr environment scientif pioneer 1972 s dai...</td>\n",
       "      <td>Thich Nhat Hanh</td>\n",
       "    </tr>\n",
       "    <tr>\n",
       "      <th>71</th>\n",
       "      <td>SCIENCE</td>\n",
       "      <td>swirl flow show ten thousand ocean current hel...</td>\n",
       "      <td>NASA</td>\n",
       "    </tr>\n",
       "    <tr>\n",
       "      <th>72</th>\n",
       "      <td>SCIENCE</td>\n",
       "      <td>medievalist scientist look back histori clue i...</td>\n",
       "      <td>Scientific American</td>\n",
       "    </tr>\n",
       "    <tr>\n",
       "      <th>73</th>\n",
       "      <td>SCIENCE</td>\n",
       "      <td>keep latest research new episod scienc podcast...</td>\n",
       "      <td>Science Magazine</td>\n",
       "    </tr>\n",
       "    <tr>\n",
       "      <th>74</th>\n",
       "      <td>SCIENCE</td>\n",
       "      <td>test urin particular protein key prevent kidne...</td>\n",
       "      <td>Science</td>\n",
       "    </tr>\n",
       "    <tr>\n",
       "      <th>75</th>\n",
       "      <td>SCIENCE</td>\n",
       "      <td>puppi feel altern fact san francisco marchfors...</td>\n",
       "      <td>WIRED Science</td>\n",
       "    </tr>\n",
       "    <tr>\n",
       "      <th>76</th>\n",
       "      <td>SCIENCE</td>\n",
       "      <td>carbon dioxid emiss soil dwell microb increas ...</td>\n",
       "      <td>Science News</td>\n",
       "    </tr>\n",
       "    <tr>\n",
       "      <th>77</th>\n",
       "      <td>SCIENCE</td>\n",
       "      <td>languag train artifici intellig replic human b...</td>\n",
       "      <td>Popular Science</td>\n",
       "    </tr>\n",
       "    <tr>\n",
       "      <th>78</th>\n",
       "      <td>SCIENCE</td>\n",
       "      <td>now hail weather hail hail natur naturephotogr...</td>\n",
       "      <td>Sci Curious</td>\n",
       "    </tr>\n",
       "    <tr>\n",
       "      <th>79</th>\n",
       "      <td>SCIENCE</td>\n",
       "      <td>u s navi test new submarin steam suit lobster ...</td>\n",
       "      <td>science</td>\n",
       "    </tr>\n",
       "    <tr>\n",
       "      <th>80</th>\n",
       "      <td>SPORTS</td>\n",
       "      <td>myle garrett quarterback brown defens help cow...</td>\n",
       "      <td>ESPN</td>\n",
       "    </tr>\n",
       "    <tr>\n",
       "      <th>81</th>\n",
       "      <td>SPORTS</td>\n",
       "      <td>just nasti john wall seri may tie buck win soc...</td>\n",
       "      <td>Yahoo Sports</td>\n",
       "    </tr>\n",
       "    <tr>\n",
       "      <th>82</th>\n",
       "      <td>SPORTS</td>\n",
       "      <td>mattnelson34 twitter live basebal twitter g_mi...</td>\n",
       "      <td>Twitter Sports</td>\n",
       "    </tr>\n",
       "    <tr>\n",
       "      <th>83</th>\n",
       "      <td>SPORTS</td>\n",
       "      <td>america rememb pat tillman 13th anniversari de...</td>\n",
       "      <td>FOX Sports</td>\n",
       "    </tr>\n",
       "    <tr>\n",
       "      <th>84</th>\n",
       "      <td>SPORTS</td>\n",
       "      <td>game time celtic bull think seri will play go ...</td>\n",
       "      <td>SportsNation</td>\n",
       "    </tr>\n",
       "    <tr>\n",
       "      <th>85</th>\n",
       "      <td>SPORTS</td>\n",
       "      <td>john wall good graciou check raptor fan think ...</td>\n",
       "      <td>CBS Sports</td>\n",
       "    </tr>\n",
       "    <tr>\n",
       "      <th>86</th>\n",
       "      <td>SPORTS</td>\n",
       "      <td>demar derozan raptor rebound game 4 even seri ...</td>\n",
       "      <td>USA TODAY Sports</td>\n",
       "    </tr>\n",
       "    <tr>\n",
       "      <th>87</th>\n",
       "      <td>SPORTS</td>\n",
       "      <td>will ml champion sounder turn around slow star...</td>\n",
       "      <td>L.A. Times Sports</td>\n",
       "    </tr>\n",
       "  </tbody>\n",
       "</table>\n",
       "<p>88 rows × 3 columns</p>\n",
       "</div>"
      ],
      "text/plain": [
       "        Category                                             Tweets  \\\n",
       "0            ART  relja penez s dreamlik take smog ridden la sky...   \n",
       "1            ART  metmuseum host dinner parti 5 000 year art roo...   \n",
       "2            ART  creat one' world art take courag georgia o'kee...   \n",
       "3            ART  fill diari art monthli calendar wide rang even...   \n",
       "4            ART  crazi new interfac make zero sens now todd ebe...   \n",
       "5            ART  'a journey light' time see cerithwynevans' maj...   \n",
       "6            ART  philipp kaiser co curat swiss pavilion la_bien...   \n",
       "7   CONSERVATIVE  one week potu s 100th day offic get piec unfor...   \n",
       "8   CONSERVATIVE  attack afghan soldier reveal true natur insurg...   \n",
       "9   CONSERVATIVE  tax reform grow economi increas peopl s payche...   \n",
       "10  CONSERVATIVE  unreal oh boy ye wh determin fulfil major camp...   \n",
       "11  CONSERVATIVE  181 yr ago texa secur independ battl san jacin...   \n",
       "12  CONSERVATIVE  tonight justic judgejeanin goe one one anncoul...   \n",
       "13  CONSERVATIVE  mani area state feder govern share respons imm...   \n",
       "14  CONSERVATIVE  crack conservat thought will wikipedia stop us...   \n",
       "15  CONSERVATIVE  dem trot tire 'bigotry' smear new trump appoin...   \n",
       "16       FASHION  posh less dosh harrywalker1 best buy victoriab...   \n",
       "17       FASHION  80 20 wardrob plan will chang life plant showe...   \n",
       "18       FASHION  georg amal clooney reportedli decid will rais ...   \n",
       "19       FASHION  good look zara apoli fashion basic specif type...   \n",
       "20       FASHION  rihanna work cashier fentyxpuma pop fashion ne...   \n",
       "21       FASHION  kimkardashian kyliejenn store us see full mosc...   \n",
       "22       FASHION  louisvuitton just reveal locat cruis fashion s...   \n",
       "23       FASHION  posh day palac former spice girl design victor...   \n",
       "24          FOOD  gin gave champagn final rose burrata babi burr...   \n",
       "25          FOOD  delic yet flavor effort will reward spectacula...   \n",
       "26          FOOD  chefludo among particip lafoodbowl may join us...   \n",
       "27          FOOD  love sweet sour ginger chicken special ingredi...   \n",
       "28          FOOD  today celebr scienc friday' chees plate becom ...   \n",
       "29          FOOD  ever becam real life get danger earth day cupc...   \n",
       "..           ...                                                ...   \n",
       "58         MUSIC  sometim just need chill hous perfect playlist ...   \n",
       "59         MUSIC  peopl go crazi 22 year old dj oliverhelden rec...   \n",
       "60         MUSIC  danc hollywood sign get lust life lanadelrey' ...   \n",
       "61         MUSIC  now new remix 'that' like brunomar noth hold b...   \n",
       "62     RELIGIOUS  recycl tire religi liberti suprem court find p...   \n",
       "63     RELIGIOUS  earth day need greater sens global respons bas...   \n",
       "64     RELIGIOUS  lord bring heal live may protect world prey ma...   \n",
       "65     RELIGIOUS  winner chandleraward receiv cash prize amp fre...   \n",
       "66     RELIGIOUS  sing diplomat fred smith insid s view australi...   \n",
       "67     RELIGIOUS  name may three time less like get job intervie...   \n",
       "68     RELIGIOUS  good friend rabbi andrew jacob lead year' invo...   \n",
       "69     RELIGIOUS  belat easter gift enjoy new singl saddlebackwo...   \n",
       "70     RELIGIOUS  celebr environment scientif pioneer 1972 s dai...   \n",
       "71       SCIENCE  swirl flow show ten thousand ocean current hel...   \n",
       "72       SCIENCE  medievalist scientist look back histori clue i...   \n",
       "73       SCIENCE  keep latest research new episod scienc podcast...   \n",
       "74       SCIENCE  test urin particular protein key prevent kidne...   \n",
       "75       SCIENCE  puppi feel altern fact san francisco marchfors...   \n",
       "76       SCIENCE  carbon dioxid emiss soil dwell microb increas ...   \n",
       "77       SCIENCE  languag train artifici intellig replic human b...   \n",
       "78       SCIENCE  now hail weather hail hail natur naturephotogr...   \n",
       "79       SCIENCE  u s navi test new submarin steam suit lobster ...   \n",
       "80        SPORTS  myle garrett quarterback brown defens help cow...   \n",
       "81        SPORTS  just nasti john wall seri may tie buck win soc...   \n",
       "82        SPORTS  mattnelson34 twitter live basebal twitter g_mi...   \n",
       "83        SPORTS  america rememb pat tillman 13th anniversari de...   \n",
       "84        SPORTS  game time celtic bull think seri will play go ...   \n",
       "85        SPORTS  john wall good graciou check raptor fan think ...   \n",
       "86        SPORTS  demar derozan raptor rebound game 4 even seri ...   \n",
       "87        SPORTS  will ml champion sounder turn around slow star...   \n",
       "\n",
       "                   User  \n",
       "0           Saatchi Art  \n",
       "1                 Artsy  \n",
       "2               Art.com  \n",
       "3           Art Monthly  \n",
       "4             Co.Design  \n",
       "5                  Tate  \n",
       "6             ArtReview  \n",
       "7                   GOP  \n",
       "8             Paul Ryan  \n",
       "9     House Republicans  \n",
       "10          Sarah Palin  \n",
       "11             Ted Cruz  \n",
       "12             Fox News  \n",
       "13           Jim DeMint  \n",
       "14        Mark R. Levin  \n",
       "15  Conservative Review  \n",
       "16        Times Fashion  \n",
       "17        Who What Wear  \n",
       "18       Vogue Magazine  \n",
       "19          NYT Fashion  \n",
       "20          FashionWeek  \n",
       "21      Fashionista.com  \n",
       "22                  WWD  \n",
       "23           AP Fashion  \n",
       "24          Bon Appétit  \n",
       "25             NYT Food  \n",
       "26      L.A. Times Food  \n",
       "27             PBS Food  \n",
       "28         Serious Eats  \n",
       "29     Spoon University  \n",
       "..                  ...  \n",
       "58                 Vevo  \n",
       "59    Recording Academy  \n",
       "60              Pandora  \n",
       "61              Spotify  \n",
       "62         CNN Religion  \n",
       "63           Dalai Lama  \n",
       "64         Pope Francis  \n",
       "65        Religion News  \n",
       "66  ABC Religion&Ethics  \n",
       "67    HuffPost Religion  \n",
       "68  Father Albert Cutie  \n",
       "69          Rick Warren  \n",
       "70      Thich Nhat Hanh  \n",
       "71                 NASA  \n",
       "72  Scientific American  \n",
       "73     Science Magazine  \n",
       "74              Science  \n",
       "75        WIRED Science  \n",
       "76         Science News  \n",
       "77      Popular Science  \n",
       "78          Sci Curious  \n",
       "79              science  \n",
       "80                 ESPN  \n",
       "81         Yahoo Sports  \n",
       "82       Twitter Sports  \n",
       "83           FOX Sports  \n",
       "84         SportsNation  \n",
       "85           CBS Sports  \n",
       "86     USA TODAY Sports  \n",
       "87    L.A. Times Sports  \n",
       "\n",
       "[88 rows x 3 columns]"
      ]
     },
     "execution_count": 470,
     "metadata": {},
     "output_type": "execute_result"
    }
   ],
   "source": [
    "agg_tweets"
   ]
  },
  {
   "cell_type": "code",
   "execution_count": 7,
   "metadata": {
    "collapsed": true
   },
   "outputs": [],
   "source": [
    "def tweets_to_words(tweet):\n",
    "    tweet = re.sub(r\"http\\S+\", \" \", tweet)\n",
    "\n",
    "    text = BeautifulSoup(tweet).get_text() \n",
    "    \n",
    "    letters_only = re.sub(\"[^a-zA-Z]\", \" \", text) \n",
    "   \n",
    "    words = letters_only.lower().split()                             \n",
    "\n",
    "    stops = set(stopwords.words(\"english\"))                  \n",
    "    \n",
    "    meaningful_words = [w for w in words if not w in stops]   \n",
    "\n",
    "    return( \" \".join( meaningful_words ))   "
   ]
  },
  {
   "cell_type": "code",
   "execution_count": 8,
   "metadata": {
    "collapsed": false
   },
   "outputs": [
    {
     "name": "stderr",
     "output_type": "stream",
     "text": [
      "/Users/ltang/anaconda2/lib/python2.7/site-packages/bs4/__init__.py:181: UserWarning: No parser was explicitly specified, so I'm using the best available HTML parser for this system (\"lxml\"). This usually isn't a problem, but if you run this code on another system, or in a different virtual environment, it may use a different parser and behave differently.\n",
      "\n",
      "The code that caused this warning is on line 174 of the file /Users/ltang/anaconda2/lib/python2.7/runpy.py. To get rid of this warning, change code that looks like this:\n",
      "\n",
      " BeautifulSoup([your markup])\n",
      "\n",
      "to this:\n",
      "\n",
      " BeautifulSoup([your markup], \"lxml\")\n",
      "\n",
      "  markup_type=markup_type))\n"
     ]
    },
    {
     "name": "stdout",
     "output_type": "stream",
     "text": [
      "PROCESSSING\n",
      "PROCESSSING\n",
      "PROCESSSING\n",
      "PROCESSSING\n",
      "PROCESSSING\n",
      "PROCESSSING\n",
      "PROCESSSING\n",
      "PROCESSSING\n",
      "PROCESSSING\n",
      "PROCESSSING\n",
      "PROCESSSING\n",
      "PROCESSSING\n",
      "PROCESSSING\n",
      "PROCESSSING\n",
      "PROCESSSING\n",
      "PROCESSSING\n"
     ]
    }
   ],
   "source": [
    "num_tweets = tweets[4].size\n",
    "clean_tweets = []\n",
    "for i in xrange( 0, num_tweets ):\n",
    "    clean_tweets.append(tweets_to_words(tweets[4][i]))\n",
    "    if i %10000 == 0:\n",
    "        print(\"PROCESSSING\")"
   ]
  },
  {
   "cell_type": "code",
   "execution_count": 256,
   "metadata": {
    "collapsed": false,
    "scrolled": true
   },
   "outputs": [
    {
     "name": "stdout",
     "output_type": "stream",
     "text": [
      "[u'icymi anything resounding iowa win loss clinton iacaucus', u'leadright', u'first votes happen today iowa find iacaucus location', u'ia caucuses today nh debate days nh primary days gopconvention days election days', u'despite decrying influx money politics clinton benefitting figure checks super pacs']\n",
      "12000    CONSERVATIVE\n",
      "12001    CONSERVATIVE\n",
      "12002    CONSERVATIVE\n",
      "12003    CONSERVATIVE\n",
      "12004    CONSERVATIVE\n",
      "Name: CATEGORY, dtype: category\n",
      "Categories (10, object): [ART, CONSERVATIVE, FASHION, FOOD, ..., MUSIC, RELIGIOUS, SCIENCE, SPORTS]\n"
     ]
    }
   ],
   "source": [
    "print clean_tweets[12000:12005]\n",
    "print tweets['CATEGORY'][12000:12005]"
   ]
  },
  {
   "cell_type": "code",
   "execution_count": 257,
   "metadata": {
    "collapsed": false
   },
   "outputs": [],
   "source": [
    "vectorizer = CountVectorizer(analyzer = \"word\", tokenizer = None, preprocessor = None, stop_words = None, max_features = 6000)\n",
    "X_train, X_test, y_train, y_test = train_test_split(clean_tweets, tweets['CATEGORY'], test_size=0.05, random_state=1)"
   ]
  },
  {
   "cell_type": "code",
   "execution_count": 250,
   "metadata": {
    "collapsed": true
   },
   "outputs": [],
   "source": [
    "features = vectorizer.fit_transform(clean_tweets)\n",
    "train_data_features = features.toarray()\n",
    "\n",
    "test_data_features = vectorizer.transform(X_test)\n",
    "test_data_features = test_data_features.toarray()"
   ]
  },
  {
   "cell_type": "code",
   "execution_count": 242,
   "metadata": {
    "collapsed": true
   },
   "outputs": [],
   "source": [
    "X_train_features = vectorizer.fit_transform(clean_tweets)\n",
    "X_test_features = vectorizer.fit_transform(X_test)\n",
    "\n",
    "# X_train_tfidf = tfidf_transformer.fit_transform(X_train_features)\n",
    "# X_test_tfidf = tfidf_transformer.transform(X_test_features)"
   ]
  },
  {
   "cell_type": "code",
   "execution_count": 251,
   "metadata": {
    "collapsed": false
   },
   "outputs": [],
   "source": [
    "rf = RandomForestClassifier(n_estimators = 100) \n",
    "# rf = rf.fit(X_train_tfidf, y_train)\n",
    "rf = rf.fit(train_data_features, tweets['CATEGORY'])"
   ]
  },
  {
   "cell_type": "code",
   "execution_count": 263,
   "metadata": {
    "collapsed": false
   },
   "outputs": [
    {
     "data": {
      "text/plain": [
       "array([[ 0.       ,  0.89     ,  0.       , ...,  0.       ,  0.       ,\n",
       "         0.       ],\n",
       "       [ 0.       ,  0.       ,  0.       , ...,  0.       ,  0.       ,\n",
       "         0.       ],\n",
       "       [ 1.       ,  0.       ,  0.       , ...,  0.       ,  0.       ,\n",
       "         0.       ],\n",
       "       ..., \n",
       "       [ 0.       ,  0.       ,  0.       , ...,  0.       ,  0.       ,\n",
       "         1.       ],\n",
       "       [ 0.62     ,  0.03     ,  0.0461039, ...,  0.01     ,  0.01     ,\n",
       "         0.09     ],\n",
       "       [ 0.       ,  0.       ,  0.       , ...,  0.       ,  0.       ,\n",
       "         0.       ]])"
      ]
     },
     "execution_count": 263,
     "metadata": {},
     "output_type": "execute_result"
    }
   ],
   "source": [
    "pred = rf.predict_proba(test_data_features)\n",
    "pred"
   ]
  },
  {
   "cell_type": "code",
   "execution_count": 259,
   "metadata": {
    "collapsed": false
   },
   "outputs": [
    {
     "data": {
      "text/plain": [
       "array(['CONSERVATIVE', 'GAMER', 'ART', ..., 'SPORTS', 'ART', 'FOOD'], dtype=object)"
      ]
     },
     "execution_count": 259,
     "metadata": {},
     "output_type": "execute_result"
    }
   ],
   "source": [
    "obs = np.array(y_test)\n",
    "obs"
   ]
  },
  {
   "cell_type": "code",
   "execution_count": 260,
   "metadata": {
    "collapsed": false,
    "scrolled": true
   },
   "outputs": [
    {
     "data": {
      "text/plain": [
       "0.017056467243829952"
      ]
     },
     "execution_count": 260,
     "metadata": {},
     "output_type": "execute_result"
    }
   ],
   "source": [
    "error = np.mean( pred != obs )\n",
    "error"
   ]
  },
  {
   "cell_type": "code",
   "execution_count": 255,
   "metadata": {
    "collapsed": false
   },
   "outputs": [],
   "source": [
    "vectorizer = CountVectorizer(analyzer = \"word\", tokenizer = None, preprocessor = None, stop_words = None)\n",
    "X_train, X_test, y_train, y_test = train_test_split(clean_tweets, tweets['CATEGORY'], test_size=0.1, random_state=129)"
   ]
  },
  {
   "cell_type": "code",
   "execution_count": 256,
   "metadata": {
    "collapsed": false
   },
   "outputs": [],
   "source": [
    "X_train = vectorizer.fit_transform(X_train)\n",
    "X_test = vectorizer.transform(X_test)"
   ]
  },
  {
   "cell_type": "code",
   "execution_count": 257,
   "metadata": {
    "collapsed": false
   },
   "outputs": [
    {
     "data": {
      "text/plain": [
       "LinearSVC(C=1.0, class_weight=None, dual=True, fit_intercept=True,\n",
       "     intercept_scaling=1, loss='squared_hinge', max_iter=1000,\n",
       "     multi_class='ovr', penalty='l2', random_state=None, tol=0.0001,\n",
       "     verbose=0)"
      ]
     },
     "execution_count": 257,
     "metadata": {},
     "output_type": "execute_result"
    }
   ],
   "source": [
    "nb = MultinomialNB()\n",
    "nb.fit(X_train, y_train)\n",
    "\n",
    "llf = svm.LinearSVC()\n",
    "llf.fit(X_train, y_train)"
   ]
  },
  {
   "cell_type": "code",
   "execution_count": 258,
   "metadata": {
    "collapsed": false
   },
   "outputs": [],
   "source": [
    "pred_prob_nb = nb.predict_proba(X_test)\n",
    "pred_nb = nb.predict(X_test)\n",
    "\n",
    "pred_svm = llf.predict(X_test)"
   ]
  },
  {
   "cell_type": "code",
   "execution_count": 219,
   "metadata": {
    "collapsed": false
   },
   "outputs": [
    {
     "name": "stdout",
     "output_type": "stream",
     "text": [
      "['SCIENCE' 'GAMER' 'MUSIC' 'LIBERAL' 'MUSIC' 'SCIENCE' 'SCIENCE' 'GAMER'\n",
      " 'MUSIC' 'ART']\n",
      "['SCIENCE' 'GAMER' 'MUSIC' 'CONSERVATIVE' 'MUSIC' 'SCIENCE' 'SCIENCE'\n",
      " 'GAMER' 'MUSIC' 'ART']\n"
     ]
    }
   ],
   "source": [
    "print pred_nb[10:20]\n",
    "print pred_svm[10:20]"
   ]
  },
  {
   "cell_type": "code",
   "execution_count": 259,
   "metadata": {
    "collapsed": false,
    "scrolled": false
   },
   "outputs": [
    {
     "name": "stdout",
     "output_type": "stream",
     "text": [
      "0.858768718802\n",
      "0.888519134775\n"
     ]
    }
   ],
   "source": [
    "print np.mean(pred_nb == np.array(y_test))\n",
    "print np.mean(pred_svm == np.array(y_test))"
   ]
  },
  {
   "cell_type": "code",
   "execution_count": 230,
   "metadata": {
    "collapsed": false,
    "scrolled": true
   },
   "outputs": [
    {
     "data": {
      "text/plain": [
       "61794            GAMER\n",
       "107327           MUSIC\n",
       "67729            GAMER\n",
       "128994         SCIENCE\n",
       "86432            MUSIC\n",
       "28477          FASHION\n",
       "45424            GAMER\n",
       "131943         SCIENCE\n",
       "15303     CONSERVATIVE\n",
       "129840         SCIENCE\n",
       "Name: CATEGORY, dtype: object"
      ]
     },
     "execution_count": 230,
     "metadata": {},
     "output_type": "execute_result"
    }
   ],
   "source": [
    "y_test[0:10]"
   ]
  },
  {
   "cell_type": "code",
   "execution_count": 207,
   "metadata": {
    "collapsed": false
   },
   "outputs": [
    {
     "data": {
      "text/plain": [
       "Index([u'ART', u'CONSERVATIVE', u'FASHION', u'FOOD', u'GAMER', u'LIBERAL',\n",
       "       u'MUSIC', u'RELIGIOUS', u'SCIENCE', u'SPORTS'],\n",
       "      dtype='object')"
      ]
     },
     "execution_count": 207,
     "metadata": {},
     "output_type": "execute_result"
    }
   ],
   "source": [
    "pd.Series(y_test, dtype=\"category\").cat.categories"
   ]
  },
  {
   "cell_type": "code",
   "execution_count": 265,
   "metadata": {
    "collapsed": false
   },
   "outputs": [
    {
     "data": {
      "text/plain": [
       "array([ 0.82429285,  0.03447587,  0.06422629,  0.07700499])"
      ]
     },
     "execution_count": 265,
     "metadata": {},
     "output_type": "execute_result"
    }
   ],
   "source": [
    "#SVM is right more often which makes sense\n",
    "table = [0,0,0,0]\n",
    "total = len(y_test)\n",
    "for i, cat in enumerate(np.array(y_test)):\n",
    "    if pred_nb[i] == cat and pred_svm[i] == cat:\n",
    "        table[0] += 1\n",
    "    elif pred_nb[i] == cat:\n",
    "        table[1] +=1\n",
    "    elif pred_svm[i] == cat:\n",
    "        table[2] += 1\n",
    "    else:\n",
    "        table[3] += 1\n",
    "np.divide(table, float(total))"
   ]
  },
  {
   "cell_type": "code",
   "execution_count": 330,
   "metadata": {
    "collapsed": false
   },
   "outputs": [],
   "source": [
    "# for i, row in enumerate(pred_prob[0:500]):\n",
    "#     if np.max(row) < 0.5:\n",
    "#         print np.array(X_test)[i]\n",
    "#         print \"nb: \" + pred_nb[i]\n",
    "#         print np.max(row)\n",
    "#         print \"svm: \" + pred_svm[i]\n",
    "#         print \"Actual: \" + np.array(y_test)[i]\n",
    "#         print \"\""
   ]
  },
  {
   "cell_type": "code",
   "execution_count": 134,
   "metadata": {
    "collapsed": false
   },
   "outputs": [],
   "source": [
    "kf = KFold(len(tweets), n_folds = 10, shuffle=True)    "
   ]
  },
  {
   "cell_type": "code",
   "execution_count": 135,
   "metadata": {
    "collapsed": true
   },
   "outputs": [],
   "source": [
    "vectorizer = CountVectorizer(analyzer = \"word\", tokenizer = None, preprocessor = None, stop_words = 'english')"
   ]
  },
  {
   "cell_type": "code",
   "execution_count": 157,
   "metadata": {
    "collapsed": false
   },
   "outputs": [
    {
     "name": "stdout",
     "output_type": "stream",
     "text": [
      "Avg Accuracy: 0.854301896112\n",
      "[0.85271214642262894, 0.85291181364392676, 0.85710482529118137, 0.85144758735440929, 0.8547753743760399, 0.85397670549084859, 0.85104825291181363, 0.84998336106489181, 0.85916805324459233, 0.85989084132055382]\n"
     ]
    }
   ],
   "source": [
    "accuracy = []\n",
    "for train_idx, test_idx in kf:\n",
    "    X_train = vectorizer.fit_transform(np.array(clean_tweets)[train_idx])\n",
    "    X_test = vectorizer.transform(np.array(clean_tweets)[test_idx])\n",
    "      \n",
    "    nb = MultinomialNB()\n",
    "    nb.fit(X_train, tweets['CATEGORY'][train_idx])\n",
    "    pred = nb.predict(X_test)\n",
    "    accuracy.append(np.mean(pred == np.array(tweets['CATEGORY'][test_idx])))\n",
    "\n",
    "print(\"Avg Accuracy: \" + str(np.mean(accuracy)))\n",
    "print(accuracy)"
   ]
  },
  {
   "cell_type": "code",
   "execution_count": 307,
   "metadata": {
    "collapsed": false
   },
   "outputs": [
    {
     "data": {
      "text/plain": [
       "0.88851913477537436"
      ]
     },
     "execution_count": 307,
     "metadata": {},
     "output_type": "execute_result"
    }
   ],
   "source": [
    "X_train, X_test, y_train, y_test = train_test_split(clean_tweets, tweets['CATEGORY'], test_size=0.1, random_state=129)\n",
    "\n",
    "X_train = vectorizer.fit_transform(X_train)\n",
    "X_test = vectorizer.transform(X_test)\n",
    "\n",
    "llf = svm.LinearSVC()\n",
    "llf.fit(X_train, y_train)\n",
    "pred = llf.predict(X_test)\n",
    "np.mean(pred == np.array(y_test))"
   ]
  },
  {
   "cell_type": "code",
   "execution_count": 346,
   "metadata": {
    "collapsed": false
   },
   "outputs": [],
   "source": [
    "#How to make final model\n",
    "idx_to_cat = [u'ART', u'CONSERVATIVE', u'FASHION', u'FOOD', u'GAMER', u'LIBERAL',u'MUSIC', u'RELIGIOUS', u'SCIENCE', u'SPORTS']\n",
    "cat_to_idx = {u'ART':0,\n",
    "              u'CONSERVATIVE':1, \n",
    "              u'FASHION':2, \n",
    "              u'FOOD':3, \n",
    "              u'GAMER':4, \n",
    "              u'LIBERAL':5,\n",
    "              u'MUSIC':6,\n",
    "              u'RELIGIOUS':7, \n",
    "              u'SCIENCE':8, \n",
    "              u'SPORTS':9}\n",
    "\n",
    "X_train, X_test, y_train, y_test = train_test_split(clean_tweets, tweets['CATEGORY'], test_size=0.1, random_state=129)\n",
    "X_train = vectorizer.fit_transform(X_train)\n",
    "X_test = vectorizer.transform(X_test)\n",
    "\n",
    "llf = svm.LinearSVC()\n",
    "llf.fit(X_train, y_train)\n",
    "\n",
    "nb = MultinomialNB()\n",
    "nb.fit(X_train, y_train)\n",
    "\n",
    "pred_nb_prob = nb.predict_proba(X_test)\n",
    "pred_nb = nb.predict(X_test)\n",
    "\n",
    "pred_svm = llf.predict(X_test)\n",
    "\n",
    "pred = pred_svm\n",
    "pred_prob = pred_nb_prob\n",
    "for i, row in enumerate(pred_nb_prob):\n",
    "    if np.max(row) >= 0.95:\n",
    "        pred[i] = pred_nb[i]\n",
    "    else:\n",
    "        svm_prob = [0]*10;\n",
    "        svm_prob[cat_to_idx[pred_svm[i]]] = 1\n",
    "        pred_prob[i] = np.divide(np.add(row, svm_prob),2.0)"
   ]
  },
  {
   "cell_type": "code",
   "execution_count": 356,
   "metadata": {
    "collapsed": false
   },
   "outputs": [],
   "source": [
    "# for i in range(200, 300):\n",
    "#     print np.array(y_test)[i]\n",
    "#     print pred[i]\n",
    "#     print idx_to_cat[np.argmax(pred_prob[i])]\n",
    "#     print np.max(pred_prob[i])\n",
    "#     print \"\""
   ]
  },
  {
   "cell_type": "code",
   "execution_count": 347,
   "metadata": {
    "collapsed": false
   },
   "outputs": [
    {
     "data": {
      "text/plain": [
       "0.8901164725457571"
      ]
     },
     "execution_count": 347,
     "metadata": {},
     "output_type": "execute_result"
    }
   ],
   "source": [
    "np.mean(pred == np.array(y_test))"
   ]
  },
  {
   "cell_type": "code",
   "execution_count": 355,
   "metadata": {
    "collapsed": false
   },
   "outputs": [],
   "source": [
    "# print pd.Series(y_test, dtype=\"category\").cat.categories\n",
    "# for i, row in enumerate(pred_prob[0:500]):\n",
    "#     if np.max(row) < 0.95:\n",
    "#         print np.array(X_test)[i]\n",
    "#         print \"nb: \" + pred_nb[i]\n",
    "#         print row\n",
    "#         print \"svm: \" + pred_svm[i]\n",
    "#         print \"Actual: \" + np.array(y_test)[i]\n",
    "#         print \"\""
   ]
  },
  {
   "cell_type": "code",
   "execution_count": 328,
   "metadata": {
    "collapsed": false
   },
   "outputs": [
    {
     "data": {
      "text/plain": [
       "0.88851913477537436"
      ]
     },
     "execution_count": 328,
     "metadata": {},
     "output_type": "execute_result"
    }
   ],
   "source": [
    "pred = llf.predict(X_test)\n",
    "np.mean(pred == np.array(y_test))"
   ]
  },
  {
   "cell_type": "code",
   "execution_count": 298,
   "metadata": {
    "collapsed": false,
    "scrolled": true
   },
   "outputs": [
    {
     "data": {
      "text/plain": [
       "array([ 0.9635043 ,  0.0364957 ,  0.96045552,  0.03954448])"
      ]
     },
     "execution_count": 298,
     "metadata": {},
     "output_type": "execute_result"
    }
   ],
   "source": [
    "#At what point does NB make less correct choices than svm?\n",
    "table = [0,0,0,0]\n",
    "total = 0\n",
    "for i, cat in enumerate(np.array(y_test)):\n",
    "    if np.max(pred_prob_nb[i]) > 0.9:\n",
    "        if pred_nb[i] == cat:\n",
    "            table[0] += 1\n",
    "        else: \n",
    "            table[1] += 1\n",
    "        \n",
    "        if pred_svm[i] == cat:\n",
    "            table[2] += 1\n",
    "        else:\n",
    "            table[3] += 1\n",
    "        \n",
    "        total += 1\n",
    "np.divide(table, float(total))"
   ]
  },
  {
   "cell_type": "code",
   "execution_count": 303,
   "metadata": {
    "collapsed": true
   },
   "outputs": [],
   "source": [
    "kf = KFold(len(tweets), n_folds = 10, shuffle=True)    \n",
    "vectorizer = CountVectorizer(analyzer = \"word\", tokenizer = None, preprocessor = None, stop_words = None)"
   ]
  },
  {
   "cell_type": "code",
   "execution_count": 184,
   "metadata": {
    "collapsed": false
   },
   "outputs": [
    {
     "name": "stdout",
     "output_type": "stream",
     "text": [
      "Avg Accuracy: 0.886421863897\n",
      "[0.88805324459234614, 0.88698835274542431, 0.88985024958402659, 0.88918469217970053, 0.88399334442595678, 0.88665557404326123, 0.88039933444259566, 0.88532445923460901, 0.88871880199667219, 0.88505058572949946]\n"
     ]
    }
   ],
   "source": [
    "accuracy = []\n",
    "for train_idx, test_idx in kf:\n",
    "    X_train = vectorizer.fit_transform(np.array(clean_tweets)[train_idx])\n",
    "    X_test = vectorizer.transform(np.array(clean_tweets)[test_idx])\n",
    "      \n",
    "    llf = svm.LinearSVC()\n",
    "    llf.fit(X_train, tweets['CATEGORY'][train_idx])\n",
    "    pred_svm = llf.predict(X_test)\n",
    "    accuracy.append(np.mean(pred == np.array(tweets['CATEGORY'][test_idx])))\n",
    "\n",
    "print(\"Avg Accuracy: \" + str(np.mean(accuracy)))\n",
    "print(accuracy)"
   ]
  },
  {
   "cell_type": "code",
   "execution_count": 368,
   "metadata": {
    "collapsed": true
   },
   "outputs": [],
   "source": [
    "kf = KFold(len(tweets), n_folds = 10, shuffle=True)    \n",
    "vectorizer = CountVectorizer(analyzer = \"word\", tokenizer = None, preprocessor = None, stop_words = None)"
   ]
  },
  {
   "cell_type": "code",
   "execution_count": 343,
   "metadata": {
    "collapsed": false
   },
   "outputs": [
    {
     "data": {
      "text/plain": [
       "Index([u'ART', u'CONSERVATIVE', u'FASHION', u'FOOD', u'GAMER', u'LIBERAL',\n",
       "       u'MUSIC', u'RELIGIOUS', u'SCIENCE', u'SPORTS'],\n",
       "      dtype='object')"
      ]
     },
     "execution_count": 343,
     "metadata": {},
     "output_type": "execute_result"
    }
   ],
   "source": [
    "pd.Series(y_test, dtype=\"category\").cat.categories"
   ]
  },
  {
   "cell_type": "code",
   "execution_count": 305,
   "metadata": {
    "collapsed": false
   },
   "outputs": [
    {
     "name": "stdout",
     "output_type": "stream",
     "text": [
      "Avg Accuracy: 0.886574952732\n",
      "[0.88865224625623962, 0.8920465890183028, 0.88326123128119804, 0.88625623960066557, 0.88173044925124788, 0.88425956738768718, 0.88712146422628957, 0.88525790349417632, 0.89051580698835275, 0.8866480298189563]\n"
     ]
    }
   ],
   "source": [
    "accuracy = []\n",
    "for train_idx, test_idx in kf:\n",
    "    X_train = vectorizer.fit_transform(np.array(clean_tweets)[train_idx])\n",
    "    X_test = vectorizer.transform(np.array(clean_tweets)[test_idx])\n",
    "      \n",
    "    nb = MultinomialNB()\n",
    "    nb.fit(X_train, tweets['CATEGORY'][train_idx])\n",
    "    \n",
    "    llf = svm.LinearSVC()\n",
    "    llf.fit(X_train, tweets['CATEGORY'][train_idx])\n",
    "\n",
    "    pred_nb = nb.predict(X_test)\n",
    "    pred_nb_prob = nb.predict_proba(X_test)\n",
    "    \n",
    "    pred_svm = llf.predict(X_test)\n",
    "    \n",
    "    pred = pred_svm\n",
    "    for i, row in enumerate(pred_nb_prob):\n",
    "        if np.max(row) >= 0.9:\n",
    "            pred[i] = pred_nb[i]\n",
    "            \n",
    "    accuracy.append(np.mean(pred == np.array(tweets['CATEGORY'][test_idx])))\n",
    "\n",
    "print(\"Avg Accuracy: \" + str(np.mean(accuracy)))\n",
    "print(accuracy)"
   ]
  },
  {
   "cell_type": "code",
   "execution_count": 378,
   "metadata": {
    "collapsed": false
   },
   "outputs": [
    {
     "name": "stdout",
     "output_type": "stream",
     "text": [
      "Avg Accuracy: 0.887060788374\n",
      "[0.88525790349417632, 0.88246256239600662, 0.88831946755407654, 0.88811980033277871, 0.88725457570715471, 0.89331114808652246, 0.88266222961730445, 0.89364392678868554, 0.88612312811980032, 0.88345314164004263]\n"
     ]
    }
   ],
   "source": [
    "#For now final model\n",
    "accuracy = []\n",
    "for train_idx, test_idx in kf:\n",
    "    X_train = vectorizer.fit_transform(np.array(clean_tweets)[train_idx])\n",
    "    X_test = vectorizer.transform(np.array(clean_tweets)[test_idx])\n",
    "      \n",
    "    nb = MultinomialNB()\n",
    "    nb.fit(X_train, tweets['CATEGORY'][train_idx])\n",
    "    \n",
    "    llf = svm.LinearSVC()\n",
    "    llf.fit(X_train, tweets['CATEGORY'][train_idx])\n",
    "\n",
    "    pred_nb = nb.predict(X_test)\n",
    "    pred_nb_prob = nb.predict_proba(X_test)\n",
    "    \n",
    "    pred_svm = llf.predict(X_test)\n",
    "    \n",
    "    pred = pred_svm\n",
    "    for i, row in enumerate(pred_nb_prob):\n",
    "        if np.max(row) >= 0.95:\n",
    "            pred[i] = pred_nb[i]\n",
    "            \n",
    "    accuracy.append(np.mean(pred == np.array(tweets['CATEGORY'][test_idx])))\n",
    "\n",
    "print(\"Avg Accuracy: \" + str(np.mean(accuracy)))\n",
    "print(accuracy)"
   ]
  },
  {
   "cell_type": "code",
   "execution_count": 388,
   "metadata": {
    "collapsed": false
   },
   "outputs": [
    {
     "name": "stdout",
     "output_type": "stream",
     "text": [
      "Avg Accuracy: 0.887992570955\n",
      "[0.88519134775374375, 0.88452579034941758, 0.88905158069883528, 0.88905158069883528, 0.88745424292845254, 0.89450915141430953, 0.88379367720465896, 0.89437603993344428, 0.88818635607321128, 0.88378594249201281]\n"
     ]
    }
   ],
   "source": [
    "idx_to_cat = [u'ART', u'CONSERVATIVE', u'FASHION', u'FOOD', u'GAMER', u'LIBERAL',u'MUSIC', u'RELIGIOUS', u'SCIENCE', u'SPORTS']\n",
    "cat_to_idx = {u'ART':0,\n",
    "              u'CONSERVATIVE':1, \n",
    "              u'FASHION':2, \n",
    "              u'FOOD':3, \n",
    "              u'GAMER':4, \n",
    "              u'LIBERAL':5,\n",
    "              u'MUSIC':6,\n",
    "              u'RELIGIOUS':7, \n",
    "              u'SCIENCE':8, \n",
    "              u'SPORTS':9}\n",
    "\n",
    "#Testing to see if average probability weight actually works better\n",
    "accuracy = []\n",
    "for train_idx, test_idx in kf:\n",
    "    X_train = vectorizer.fit_transform(np.array(tweets[4])[train_idx])\n",
    "    X_test = vectorizer.transform(np.array(tweets[4])[test_idx])\n",
    "      \n",
    "    nb = MultinomialNB()\n",
    "    nb.fit(X_train, tweets['CATEGORY'][train_idx])\n",
    "    \n",
    "    llf = svm.LinearSVC()\n",
    "    llf.fit(X_train, tweets['CATEGORY'][train_idx])\n",
    "\n",
    "    pred_nb = nb.predict(X_test)\n",
    "    pred_nb_prob = nb.predict_proba(X_test)\n",
    "    \n",
    "    pred_svm = llf.predict(X_test)\n",
    "            \n",
    "    pred = pred_svm\n",
    "    pred_prob = pred_nb_prob\n",
    "    for i, row in enumerate(pred_nb_prob):\n",
    "        if np.max(row) >= 0.95:\n",
    "            pred[i] = pred_nb[i]\n",
    "        else:\n",
    "            svm_prob = [0]*10;\n",
    "            svm_prob[cat_to_idx[pred_svm[i]]] = 1\n",
    "            pred_prob[i] = np.add(np.multiply(0.5, row), np.multiply(0.5,svm_prob))\n",
    "            pred[i] = idx_to_cat[np.argmax(pred_prob[i])]\n",
    "            \n",
    "    accuracy.append(np.mean(pred == np.array(tweets['CATEGORY'][test_idx])))\n",
    "\n",
    "print(\"Avg Accuracy: \" + str(np.mean(accuracy)))\n",
    "print(accuracy)"
   ]
  },
  {
   "cell_type": "code",
   "execution_count": 451,
   "metadata": {
    "collapsed": false
   },
   "outputs": [
    {
     "data": {
      "text/plain": [
       "6"
      ]
     },
     "execution_count": 451,
     "metadata": {},
     "output_type": "execute_result"
    }
   ],
   "source": [
    "len(agg_tweets)\n",
    "60/10"
   ]
  },
  {
   "cell_type": "code",
   "execution_count": 478,
   "metadata": {
    "collapsed": false
   },
   "outputs": [
    {
     "name": "stdout",
     "output_type": "stream",
     "text": [
      "Avg Accuracy: 0.931944444444\n",
      "[0.88888888888888884, 0.88888888888888884, 1.0, 1.0, 0.88888888888888884, 0.88888888888888884, 0.88888888888888884, 1.0, 0.875, 1.0]\n",
      "Avg Accuracy: 0.909722222222\n",
      "[1.0, 1.0, 1.0, 0.44444444444444442, 1.0, 1.0, 0.88888888888888884, 0.88888888888888884, 0.875, 1.0]\n",
      "Avg Accuracy: 0.955555555556\n",
      "[1.0, 0.88888888888888884, 1.0, 0.77777777777777779, 1.0, 0.88888888888888884, 1.0, 1.0, 1.0, 1.0]\n",
      "Avg Accuracy: 0.977777777778\n",
      "[0.88888888888888884, 1.0, 1.0, 1.0, 1.0, 0.88888888888888884, 1.0, 1.0, 1.0, 1.0]\n",
      "Avg Accuracy: 0.944444444444\n",
      "[0.88888888888888884, 0.88888888888888884, 0.88888888888888884, 1.0, 1.0, 1.0, 0.88888888888888884, 0.88888888888888884, 1.0, 1.0]\n"
     ]
    }
   ],
   "source": [
    "for _ in range(0,5):\n",
    "    kf = KFold(len(agg_tweets), n_folds = 10, shuffle=True)    \n",
    "    vectorizer = CountVectorizer(analyzer = \"word\", tokenizer = None, preprocessor = None, stop_words = 'english')\n",
    "    accuracy = []\n",
    "    for train_idx, test_idx in kf:\n",
    "        X_train = vectorizer.fit_transform(np.array(agg_tweets['Tweets'])[train_idx])\n",
    "        X_test = vectorizer.transform(np.array(agg_tweets['Tweets'])[test_idx])\n",
    "\n",
    "        nb = MultinomialNB()\n",
    "        nb.fit(X_train, agg_tweets['Category'][train_idx])\n",
    "\n",
    "        pred_nb = nb.predict(X_test)\n",
    "        pred_nb_prob = nb.predict_proba(X_test)\n",
    "\n",
    "        pred = pred_nb\n",
    "\n",
    "        accuracy.append(np.mean(pred == np.array(agg_tweets['Category'][test_idx])))\n",
    "\n",
    "    print(\"Avg Accuracy: \" + str(np.mean(accuracy)))\n",
    "    print(accuracy)"
   ]
  },
  {
   "cell_type": "code",
   "execution_count": 480,
   "metadata": {
    "collapsed": false
   },
   "outputs": [
    {
     "name": "stdout",
     "output_type": "stream",
     "text": [
      "1.0\n"
     ]
    }
   ],
   "source": [
    "vectorizer = CountVectorizer(analyzer = \"word\", tokenizer = None, preprocessor = None, stop_words = 'english')\n",
    "\n",
    "X_train = vectorizer.fit_transform(np.array(agg_tweets['Tweets']))\n",
    "X_test = vectorizer.transform(np.array(agg_tweets['Tweets']))\n",
    "\n",
    "nb = MultinomialNB()\n",
    "nb.fit(X_train, agg_tweets['Category'])\n",
    "\n",
    "llf = svm.LinearSVC()\n",
    "llf.fit(X_train, agg_tweets['Category'])\n",
    "\n",
    "pred_nb = nb.predict(X_test)\n",
    "pred_nb_prob = nb.predict_proba(X_test)\n",
    "\n",
    "pred = pred_nb\n",
    "\n",
    "print np.mean(pred == np.array(agg_tweets['Category']))"
   ]
  },
  {
   "cell_type": "code",
   "execution_count": 481,
   "metadata": {
    "collapsed": false
   },
   "outputs": [
    {
     "name": "stdout",
     "output_type": "stream",
     "text": [
      "relja penez s dreamlik take smog ridden la skylin ask us consid impact read susan adam see susan' work artistoftheday canva escap road connect world imagin better get know one ubiquit style dan tagu see dan' work artistoftheday tri appli color like word shape poem like note shape music miro bornonthisday 1893 nep see work artistoftheday anniqu delphin make bold statement photographi watch see peek insid studio see look like exactli spot us phoenixmaguk' list 9 beauti object that'll make pad spring readi nick archer see nick' work artistoftheday se rin park creat abstract layer landscap meet se interview don bishop see don' work artistoftheday floral spring decor idea will convinc monday new art brows mondaymotiv leif erik johansen see leif' work artistoftheday frame like learn chang game arthistori natalia ryabova see natalia' work artistoftheday littl goe long way meet theotherartfair' robin clare whose work explor jamaican pop cultur revisit sacr piec honor da vinci' 565th birthday leah saulnier see leah' work artistoftheday familiar one oldest medium arthistori nadia attura build layer creat dynam imag peek insid studio everyth alway want know frame afraid ask andrzej roszczak see andrzej' work artistoftheday know women help shape pop art see 64 new figur paint emerg artist around world guglielmo alfaron see guglielmo' work artistoftheday congrat former fair guest artist martin parr get know bit interview attn artist toaf_bristol now accept applic appli escap se rin park' dreami landscap onetowatch jann gill johannesen see janne' work artistoftheday use littl luxuri life set mood spring ali king see ali' work artistoftheday grad season come right catch us esquir list portrait abstract week' collect new work zaza tuschmalischvili see zara' work artistoftheday charlott evan use vivid color echo way detail distort memori meet spring catalog everi form base color everi color attribut form vasar bornonthisday 1906 benjamin bridg see benjamin' work artistoftheday fresh outlook see exhibit next month' toaf_melbourn angi wright see angie' work artistoftheday bit piec come togeth portrait abstract collect collag see world nadia' eye australia toaf_melbourn open one month secur ticket today 50 code saatchi50 eva de visser see eva' work artistoftheday daniel mullen explor question realiti work meet daniel spring catalog meet 5 trend artist march randal arvilla see randal' work artistoftheday fresher ever spring reflect march offer best month collect kathryn dunlevi see kathryn' work artistoftheday love see artist work revisit insid studio seri dose inspo glad art sourc stylistmagazine' list tori lin see tory' work artistoftheday meet eric stefanski use repetit imageri symbol forg connect cultur lexicon see new work emerg artist learn flavin' impact minimalist art arthistory101 light said plain open direct art will ever find dan flavin hbd m nika k r ndi see m nika' work artistoftheday see new work recent onetowatch artist bold unexpect high cultur meet low eric stefanski' paint onetowatch london ticket theotherartfair still avail door miss chanc see buy art jurij frey see jurij' work artistoftheday 6 inspir quotat vincent van gogh van gogh larg unsung life sell one paint ford crull see ford' work artistoftheday mid centuri botan spring catalog one stop fair app let easili brows art artist find app store googl play alejandra varga d az see alejandra' work artistoftheday ask question get start artisttip introduc theotherartfair app offer osceola refetoff see osceola' work artistoftheday want featur artistoftheday tip keep profil date aleta lederwasch inspir human figur learn visit theotherartfair open 3 30 londo new week new art day left save march offer dongwook lim see dongwook' work artistoftheday revisit one watch seri meet promis artist rise oliv wan see oliv' work artistoftheday sold artwork now meet artist see work theotherartfair see spring catalog work jorg labarca see jorge' work artistoftheday follow flow abstract expressionist get seriou get social revisit edward weston' classic nude honor birthday plu famou nude zlatka paneva see zlatka' work artistoftheday peopl can find mean within someon els s stori michel rainey see michelle' work artistoftheday see transform power art right eye tough imposs 7 tip buy art coupl follow thread art somehow discov path allow live kusama happi birthday j henri fair see work artistoftheday consumm art teacher paint can see whole world han hofmann franck de la merced see franck' work artistoftheday best trick trade artisttip see new week saatchi art mondaymotiv cosmin vaida see cosmin' work artistoftheday take minut artisttip marit went drastic measur learn art mean joan barrant see joan' work artistoftheday learn missaniela' photograph practic took shape grown onetowatch go beyond fold spring catalog artist excit prize theotherartfair librarylondon giveaway prize detail entri simon fairless see simon' work artistoftheday chief curat rebecca wilson divulg one favorit femal artist thecut 5womenartist eye ireland stpatricksday lucki winner theotherartfair' sweep librarylondon learn enter link spotlight ireland collect featur artwork requir pot gold sorri stpatricksday arpad forgo see arpad' work artistoftheday design slump revisit idea get inspir go behind extravag scene missaniela onetowatch max de winter see max' work artistoftheday brows budget friendli abstract fool j no huszti' pare palett photorealist paint pack punch meet j no ignacio barcel see ignacio' work artistoftheday profil imag artwork descript artisttip think photograph secret secret tell less know dian arbu matthia haker see matthias' work artistoftheday save 15 origin art month offer detail top start week brand new art brows beata chrzanowska see beata' work artistoftheday see artist turn curat special select work artist us receiv weekli email sign paint primarili verb noun event first secondarili imag elain de koon marina emphietzi harri see marina' work artistoftheday case awar tell us littl sanja milenkov inject everyday moment vibranc meet sanja spring catalog richard tulli see richard' work artistoftheday peek insid spring catalog discov best emerg art around world michael jame talbot see michael' work artistoftheday brows new pop art sometim humor alway relev learn unexpect materi becom intric pattern revisit piec chief curat rebecca wilson 5womenartist make sure price right artisttip celebr women artist today everyday internationalwomensday campbel laird see campbell' work artistoftheday artisttip amp best practic help navig world onlin art sell check blog go pure modern mondrian art made anybodi time everybodi mondrian bornonthisday 1872 jessica kirkpatrick see jessica' work artistoftheday revisit holi select see brand new saatchi art week tatiana ivchenkova see tatiana' work artistoftheday see new face raluca caragea see raluca' work artistoftheday book ticket theotherartfair hit london' victoria hous march 30th step keyword game artisttip sergiu laszlo' monochromat figur paint imag get head meet sergiu igor konovalov see igor' work artistoftheday emeli jeger revit femal form learn muse read interview artist printmak kate banazi isabel maynard see isabelle' work artistoftheday follow along month share new tip best practic artist first revisit artist trend now peter geert see peter' work artistoftheday new artwork artist live pari franc can name 5womenartist kick campaign cheeki work sara zaher womenshistorymonth sergiu laslo s monochromat paint ordinari meet sergiu andrea richter see andreas' work artistoftheday floor ceil mural inspir art fill home look architect' lesser known artist practic architectur art can transform person even save someon frank gehri happi birthday frank matteo cassina see matteo' work artistoftheday learn benjamin parker call work modern fossil see brand new week saatchi art mondaymotiv leaf_grp famili rang openingbel nyse today proud richard blanco see richard' work artistoftheday celebr blackhistorymonth discov impress artist juan pedrosa see juan' work artistoftheday introduc theotherartfair' london artist quick glanc renoir' well known work work lovingli done secret order happi renoir bornonthisday 1841 zane balod see zane' work artistoftheday add littl art inbox shile wu s ceram visual music note subscrib artist interview get enough lfw revisit trend see express art kah wah tan see kah' work artistoftheday definit proof less art need truth sincer malevich bornonthisday 1878 ricard recio see ricard' work artistoftheday emeli jeger revit femal form impressionist style peek insid studio artist deadlin appli toaf_nyc 2 24 em_henderson offer hard hit truth gener art hint buy origin sylwia kaden see sylwia' work artistoftheday see contemporari work inspir ansel adams' icon black white imag west artist around world invit transform miami s wynwood neighborhood read brows 63 new artwork hand select week chief curat giorgi chkheidz see giorgi' work artistoftheday honor birthday learn life legaci great ansel adam emma ting rd see emma' work artistoftheday see far one thing go anoth br ncusi born day 1876 martin gayford see martin' work artistoftheday street art transform miami s wynwood neighborhood divid conquer like pro 7 help tip buy art coupl cecilia charlton' abstract composit presenc read interview juan call see juan' work artistoftheday see fresh select work evok spirit street art celebr fantast eleven artist blackhistorymonth mona hoel pick paint wild whim maria marta fasoli see maria' work artistoftheday artist ernesto navarro discus photograph seri explor vaniti mark make open la tonight join us open brows onlin street galleri brief histori street art cecilia charlton creat mean mind viewer onetowatch carlo bruscianelli see carlos' work artistoftheday ronald hall s paint histor narr filter digit age len excit host jealouscur l week info current artist obsess love come mani form get inspir color love valentin jim rattenburi see jim' work artistoftheday readi make offici 7 help tip buy art coupl valentin start week right brand new origin love ali kursun see ali' work artistoftheday dress decor fashion forward work noth wrong littl glamour learn endur influenc artist l szl moholi nagi astrid rosetti see astrid' work artistoftheday gerhard richter' abstract explor push limit medium paint learn alex jackson aim creat new normal imag centric paint meet alex other discov fashion forward work fit togeth just right nyfw dirk kruithof see dirk' work artistoftheday bird wind rain differ natur juli sneed meet juli peek insid studio martha holden see martha' work artistoftheday includ huffingtonpost' guid improv home life 2017 start richter often consid greatest live painter learn arthistory101 lcowpertwait hi thank concern bring attent chief curat go reach direct solut brush control paint goe brush make mark richter happi birthday catherin denvir see catherine' work artistoftheday protest art work chief curat offer take playboy piec abstract painter david spencer talk experi toaf_sydney watch juli sneed find subtl connect transcend geographi cultur unit us peek insid studio meet impress 11 artist see work blackhistorymonth win 3 000 worth prize craneandcanopi apttherapi kathykuohom trulia bliss home giveaway devon almarinez see devon' work artistoftheday carolien wiss s paint shape light architectur learn valentine' day collect includ special offer special someon enjoy start week right fresh select artwork aydin hamami see aydin' work artistoftheday hildegard handsaem see hildegarde' work artistoftheday meet 5 trend artist keep eye explor favorit modern bohemian bedroom houzz emma lawrenson s print explor shape color balanc learn anna zuber see anna' work artistoftheday daili dose afford origin artwork emili besser describ work subscrib youtub channel hear artist firsthand never enough time paint pictur like norman rockwel yvett mari see yvette' work artistoftheday like free stuff win packag prize full money spend bliss pad enter look bright side januari 100 excit new piec art chief curat select linda papagna see linda' work artistoftheday includ jewel tone greeneri carolien wiss s paint shape light architectur meet carolien drew noel marin see drew' work artistoftheday happi nation inspir heart art day ye thing artist saatchi art take leaf pollock' book read meet toaf_sydney artist paula prado draw upon afro uruguayan heritag engag theme identi michel hold see michelle' work artistoftheday brows latest saatchi art meet latest trend artist includ canada' hyunryoung kim tomasa martin see tomasa' work artistoftheday accord chromotherapi lighter pink can help purifi bloodstream learn benefit color manet' paint reject academi multipl time learn overcam critic sylvi delusseau see slyvie' work artistoftheday inspir jackson pollock meet 8 saatchi art artist also paint floor love pollock' style collect happi chinesenewyear success year rooster matter paint put long someth said pollock born day 1912 jame march see james' work artistoftheday buy two save use code pairup save 5 two origin artwork chief curat rebecca wilson luxurydaily' list smart women watch 2017 meet chri phillip subscrib youtub channel meet theotherartfair' exhibit artist alejo lorenzo vergara see alejos' work artistoftheday expos combin digit print interweav two page learn figur bring world work barbara kruger happi birthday bernard simunov see bernard' work artistoftheday readi build right environ learn color' effect mood see us apttherapy' list gift idea design mind coupl know one emma' print remain pare sketch collag peek insid studio changsoon oh see changsoon' work artistoftheday get head start valentine' day plu special offer artist learn appli first ever edit toaf_nyc katrina jurjan see katrina' work artistoftheday join us open recept markmak thursday feb 16th santa monica ca honor birthday today learn monet without manet symmetri natur one eye never exactli manet jacob broussard see jacob' work artistoftheday love figur work miss quick glanc histori pop art lasri david see lasry' work artistoftheday bought work art now guid care keep art art connect everyth mean aliv act koon butterfli never grown must see decor idea art histori 101 quick glanc histori photographi art readi get work reli color creat best home offic damir sobota see damir' work artistoftheday art harmoni parallel natur paul c zann born day 1839 brows 52 origin abstract artwork perfect wall carlo mart n see carlos' work artistoftheday alexandru adrian ivan explor mysteri desert place meet alexandru onetowatch bid adieu obama check artist done includ pure evil check chief curat rebecca wilson' interview dujour mag today 2017arttrend dujourmedia deadlin appli toaf_melbourn 1 27 learn monika marchewka see monika' work artistoftheday need help find art allow person curat help learn artwork paula ba man view world 50 20 wast 30 year life muhammad ali get butterfli decor idea michel petrelli see michele' work artistoftheday brows 80 brand new portrait abstract rudolf kosow see rudolf' work artistoftheday learn wealthi elit look john singer sargent like fresh 2017 art inspir panton s color year greeneri thoma hoitsma see thomas' work artistoftheday marit geraldin bostad inspir someth simpl sentenc convers meet marit meet first trend artist 2017 save 5 buy two work 250 use code pairup brows juan lamarca see juan' work artistoftheday visit studio marit geraldin bostad see walk typic day person art advisori servic includ archdigest list sign stuart marcu see stuart' work artistoftheday meet joshua armitag aim paint captur scene subject often overlook john singer sargent' portrait synthes past movement look futur learn judg chronicl john singer sargent born day 1856 david j vanderpool see david' work artistoftheday life art separ togeth eva hess readi lose line brows geometr abstract meet theotherartfair' steve mcpherson describ work 21st centuri archaeolog margit hideg see margit' work artistoftheday 5 top pinterest decor trend love right now decorinspo 20th centuri modernist sculptor barbara hepworth establish major femal figur man s world maxin davidowitz see maxine' work artistoftheday shop look urban sophist weekli dose brand new art pierr eli de pibrac see pierre' work artistoftheday includ archdigest' list 17 thing buy home 2017 stay fresh year lush spring green inspo cor lap see cor' work artistoftheday dive possibl pantone' color year greeneri artist follow four step kickstart 2017 product year yet editor creativ director grnweddingsho jen campbel share top art pick saatchi art sylvi hamou see sylvie' work artistoftheday afford origin artwork look fridayfeel pois growth year inspir pantone' verdant color year mariana shieverska see mariana' work artistoftheday 4 way art can chang life second reason may surpris want chanc show work forthcom theotherartfair melbourn learn appli much alon work almost jealou yve tanguy oscar lett see oscar' work artistoftheday artist readi carp 2017 4 thing check list joshua armitag weav observ memori meet joshua paresh nrshinga see paresh' work artistoftheday never shall singl stori told though one john berger whose word idea chang ask jen campbel grnweddingsho divulg holiday tradit share favorit work meet theotherartfair' catherin hiller describ work palett emot kick new year brand new art brows week' latest mondaymotiv kasia gawron see kasia' work artistoftheday 5 home studio bring inner artist getinspir wherev light one can photograph alfr stieglitz born day 1864 eoin burk see eoin' work artistoftheday famou artist also made wave fashion design discov 53 contemporari artwork inspir matisse' icon style bornonthisday put green grass put blue sky matiss songmi heart see songmi' work artistoftheday consid citi dweller shop collect perfectli curat urban sophist visit studio kirsten jackson whose work aim bring happi day readi chang bring art life trick fridayfeel marcel garbi see marcel' work artistoftheday discov best emerg art past year 5 step away dream salon wall sta sugint see stas' work artistoftheday read chief curat archdigest artist invest now brows 53 afford must see portrait codi choi s photograph captur dynam movement meet codi marcin zuberek see marcin' work artistoftheday excit news theotherartfair icymi top articl 2016 21 creativ way display polaroid infus winteri white cozi vibe w van de wege see work artistoftheday kick new week fresh art brows meet 5 artist know charlott evan see charlotte' work artistoftheday artist can show thing peopl terrifi express louis bourgeoi clark prosperi see clark' work artistoftheday see highlight year best 2016 collect daniel du preez s sculptur aim explor complex univers learn collector favorit decemb trend now htet t san see htet' work artistoftheday take advantag holiday downtim curl 15 artist biopic camera seem realli capabl describ modern life alexand rodchenko tara kelley cruz see tara' work artistoftheday glanc life influenc belov basquiat think art work tri think life basquiat born day 1960 stefan doru moscu see stefan' work artistoftheday support artist holiday season win origin art sound good true think make case support emerg artist via archdigest investinart jo hummel newel deconstruct everyday item abstract composit meet theotherartfair' jo emma copley evok van gogh' viscer use color impasto paint meet emma alexand smith see alexander' work artistoftheday art lover curat jealouscur share work like kick new year make new art collector one day time see annie' work artistappreci start 2017 right art love learn enter giveaway start2017right eustaquio carrasco see eustaquio' work artistoftheday 2017 year art love learn enter start2017right giveaway kirsten grove simplygrov excit start2017right sweep tingqun zhang see tingqun' work artistoftheday piec art learn enter start2017right sweep launch tomorrow 12 19 one eye see feel paul klee born day 1879 joerg dressler see joerg' work artistoftheday roundup year' must see work emerg artist around world want chanc win origin piec art learn start2017right gather glow preciou metal jason prigg see jason' work artistoftheday 8 famou sacr art piec arthistory101 readi start new year origin art click learn sure follow us instagram patrick palmer strive paint form predic learn celia zusman see celia' work artistoftheday figur art thing brows collect 50 work toaf_sydney artist kirsten jackson express joy bold use color meet kirsten liesl marelli see liesl' work artistoftheday see saatchi art' best 2016 come soon chanc win origin work art follow saatchiart instagram offici launch next week hazel miller synthes visual cultur perspect experi meet hazel iva tesorio see iva' work artistoftheday get look preciou metal shine best 2016 see made list michael beauchamp' first sale saatchi art prove excit one see work doron noyman see doron' work artistoftheday top 6 biggest art theft histori includ munch' scream save green origin art take 10 order 1000 code celebr greenmonday igorvitomirov wow pretti will paint live peopl breath feel suffer love edvard munch igor skaletski see igor' work artistoftheday quick glanc lucian freud' work year arthistori rose masterpol see rose' work artistoftheday connect art lover artist love everi singl day see hormazd' work interior design stylist peter dolka talk art sensibl holiday tradit toni bragg confront man myth natur meet toni jean humbert savoldelli see jean humbert' work artistoftheday lucian freud' master use paint express emot drawn upon new collect contemporari work elena garcia de la fuente' meta narr work explor way peopl look art learn marta zawadzka aim captur soul peek insid studio francois van opbergen see francoise' work artistoftheday loui jover realiz dream make live artist saatchi art kamorph thank much brine attent definit handl kamorph hello short pay audienc media tweak ad avoid confus affili lucian freud unpack famou work want paint work just flesh lucian freud born day 1922 liz mare see liz' work artistoftheday begin collect contemporari art easier may think start explor american landscap inher ideal toni bragg onetowatch congrat investinart artist devan shimoyama winner 2016 puls prize stay ahead curv cori redston see cori' work artistoftheday saatchi art fuel artist see sandy' work artistappreci quick glanc 5 collector' top artist last month last day receiv origin time holiday brows afford work 100 500 margj bijl see margje' work artistoftheday nice huffingtonpost write christoff relander' doubl exposur photographi brows 95 brand new work get week start mondaymotiv slade hartwel see slade' work artistoftheday two day receiv origin time holiday shop gift guid embrac wonki unbal 6 design idea inspir van gogh' icon style color power directli influenc soul wassili kandinski peter nottrott see peter' work artistoftheday fireplac complet without art proof feel like spring head least get inspir floral decor idea need guid holiday shop list take quiz point right direct david scott moor see david' work artistoftheday meet 5 artist popular collector novemb derek gore balanc spontan control art peek insid derek' studio say see poetri paint see scienc georg seurat marth isaac see marthe' work artistoftheday bedroom arl 6 design idea inspir van gogh exquisit detail miss aniela' digit tapestri contain hundr work art histori see jame rose see james' work artistoftheday meet collector peter mcgrath whose stun colorado home boast work numer saatchi art artist better togeth brows 50 print origin 500 samin ahmadzadeh cull archiv fragment family' histori 1940 70 meet samin sorin dumitrescu mihaesti see sorin' work artistoftheday gina soden' photograph find beauti decay learn exhibit theotherartfair crucial holiday shop time underway start art one gave steroid pop art jame rosenquist born day 1933 katherin rose see katherine' work artistoftheday 'ti season entertain gear 6 tip style side tabl art last day receiv 20 frame open edit print use code cyber checkout vee bee see vee' work artistoftheday petro vrelli mix technolog tactil follow algorithm pattern knit incred portrait save 20 frame open edit print today tomorrow code cyber print terri dill see terri' work artistoftheday discov collect work celebr bodi show artist love smallbusinesssaturday everi day add drama dine room special curat galleri wall learn magritt paint influenc first cb logo saatchiart blackfriday dayafterthanksgiv reflect upon summer memori artist elizabeth lenni insidethestudio aliza sternstein creat abstract paint rich satur color meet artist rise lauren matsumoto see lauren' work artistoftheday save 15 origin art weekend click offer code detail enjoy shade fall fifti tri true ideal toulous lautrec gregg rosen see gregg' work artistoftheday zach cramer employ use anim center narr work meet artist invest icymi save 15 origin art weekend click offer code detail turn head incorpor nude art space shi artist petro vrelli reimagin el greco use comput softwar meet petro richard brocken see richard' work artistoftheday nick griffin paint scene cull film live moment meet artist rise peter relish opportun discov untap creativ learn began collect art bruno petronzi see bruno' work artistoftheday honor birthday enter psych surrealist master magritt learn icon work surrealist mean bar mind remembr seen magritt aristotl forrest see aristotle' work artistoftheday let memori go wast 21 creativ way display polaroid import remain level head holiday season brows budget friendli art print laurenc chandler see laurence' work artistoftheday mathew tucker' work explor transient space meet mathew art star rise diy queen erika domesek psimadethi chat us art share fav piec fine art actual mean clear confus sylvia goebel see sylvia' work artistoftheday enjoy select 100 special curat artwork fridayfeel mantra taoism zen buddhism inform liz zorn' work peek insid studio ziegler pierr see ziegler' work artistoftheday kate hunt' abstract figur appear danc across canva meet artist rise make sure get realli want year order origin 12 6 receiv time holiday jack killick' sculptur built automat sketch meet artist rise happi birthday founder daguerreotyp loui daguerr learn histori photographi joao teixeira see joao' work artistoftheday sure paint plenti landscap monet' true muse learn stress find perfect gift click say hello guidanc saatchi art chatbot leticia gaspar' paint urban environ provok sens isol abandon meet leticia tortora travezan see tortora' work artistoftheday invest art mean 2016 find call artist want part next edit art fair learn o'keeff travel around state final settl new mexico found deep inspir margo weber see margo' work artistoftheday import social media onlin art decis make plu luxurydaili paula baader cull togeth scrap snapshot surround creat work learn happi birthday monet whose 1872 paint impress soleil levant consid first impressionist work hanp feng see hanping' work artistoftheday read one collector caught art bug sunyoung hwang creat sens depth layer paint meet sunyoung rise art star art gift 100 500 go fast shop non verbal physic commun bodi influenc polli bagnal learn troubl find perfect piec find art collector buy month despit draw undeserv critic traditionalist rodin remain true realist approach sculpt lata upadhyaya see lata' work artistoftheday struggl find gift everyon list without break budget present print polli bagnal use bodi everyday object creat abstract composit learn art without poetic aim edouard vuillard born day 1868 shamira nicola see shamira' work artistoftheday gift struggl top tip buy art gift download first ever art market report includ 20 emerg artist invest now basquiat duchamp learn famou work david bowi s collect ana maria botero see ana' work artistoftheday art wash away soul dust everyday life pablo picasso need help find perfect gift friendli chatbot help click link say hi get start line elliot miner' composit inspir element natur design meet elliot taliah lempert see taliah' work artistoftheday paint must look look look charl demuth overs portrait mean never feel alon get look ed burkes' work explor unfix framework ident meet rise art star carolien wiss see carolien' work artistoftheday click see week' collect brand new portrait abstract mondaymotiv bowiecollector underway sothebi learn work insid bowie' impress collect taeil kim see taeil' work artistoftheday catch past investinart artist includ bradley wood shop earli save 10 code earlybird brows art gift guid juliet vle see juliet' work artistoftheday need help find gift take quiz find best art gift get know 20 artist invest now investinart erin tengquist' femal subject immers whimsic environ outsid learn armando melendez see armando' work artistoftheday download first ever art market report includ 20 emerg artist invest now saatchi art staff pick see work love year meet tom miller blend genr movement surreal composit stefan heyer see stefan' work artistoftheday shop work art fair australia onlin now well know peopl gift let quiz help find introduc new investinart u s u k edit meet tomorrow' art star today mishino alton see mishino' work artistoftheday collector profil kim e buy piec get head read annual holiday sale open tomorrow night see work onlin now debbi slowey raguso see debbie' work artistoftheday follow past investinart artist ahead invest art 2016 uk us edit releas week bobcorrigan churchoftyp cours can find artwork sale saatchi art election2016 churchoftyp poster annual holiday sale thursday nov 3 rsvp happi birthday hannah h ch whose signific contribut dada movement often overlook jenni carpent see jenny' work artistoftheday see impact six work art one bedroom join us thursday lo angel sale afford work emerg artist rsvp often use sparingli due high cost vermeer show littl restraint lapi pigment turban emili mori see emilie' work artistoftheday get know man behind blur face 15 eeri artwork get spooki spirit plu vote favorit michel daisley moffitt see michelle' work artistoftheday bedroom beg chang sceneri see one bedroom transform six way 9 amaz artwork spirit halloween work carlisl bell explor philosoph hannah arendt' concept banal evil learn honor niki de saint phalle' birthday today revisit 5 women sculptor know john sargent iii see john' work artistoftheday get tast expect weekend toaf_sydney plu de monstr flora borsi fridayfeel peek insid fall catalog see buy directli artist weekend toaf_sydney read smh franci bacon bornonthisday 1909 get know influenti artist veneta karamfilova see veneta' work artistoftheday thoma donaldson' impasto portrait featur fall catalog peek insid test lichtenstein knowledg honor birthday today get halloween 15 spooki artwork vote favorit dare peek insid saatchi art' fall catalog discov afford origin artwork nearli time kick toaf_sydney chief curator' top pick miss tom build physic model paint landscap meet tom christa haack see christa' work artistoftheday helen weyer featur saatchi art fall catalog peek insid previous unseen picasso work store retir electrician s garag full scoop take long time becom young picasso happi birthday master matthew david smith see matthew' work artistoftheday stranger thing theme music play tim fowler brows saatchi art fall catalog discov art love meet artist made monday daniel cove brand new art philipp vignal see philippe' work artistoftheday go grey get inspir season' freshest color tentacl takeov much 9 artwork get halloween spirit interact instal children' activ artwork emerg artist book ticket toaf_sydney laurenc winram see laurence' work artistoftheday roy lichtenstein learn life anyon els reason consid world one gigant paint robert rauschenberg happi birthday explor peac natur world artist adrienn egger catherin moryc see catherine' work artistoftheday campbel la pun put spin life pablo toaf_sydney open 10 27 commun come discov unexpect watch artist adrienn egger action visit studio paul peterson see paul' work artistoftheday amongst good compani mansionglobal' articl buy art onlin make whole lot sens everyth need know pop art jacco hink see jacco' work artistoftheday erica lambertson paint tempestu season southern louisiana meet erica theotherartfair return sydney octob 27th featur new crop artist learn visit erin tengquist see erin' work artistoftheday green grey red fall' color trend report get inspir ronald rupert santo see ronald' work artistoftheday see brand new week art jct li see work artistoftheday brows purchas directli art fair london' exhibit artist now saatchi art learn famou artist paint layer oil paint thin one thousandth inch thick good art abstract structur paul strand arturo carrion see arturo' work artistoftheday elena garc de la fuente' look art meta referenti seri display theotherartfair london design trend spotter agre formal dine room big right now dress art vadim kovalev see vadim' work artistoftheday candac primack draw inspir tension ground pastel palett black meet candac alex ragali reimagin tradit form portraitur discov world' excit emerg artist 'one watch' seri revolution approach sell art start onlin joshua evan hooper see joshua' work artistoftheday brief histori art' popular medium oil paint can now brows 130 exhibit artist art fair onlin 5 way dress dine room statement art oscar lett see oscar' work artistoftheday recent rca grad sunyoung hwang includ select emerg uk artist watch meet 8 alex ragalie' paint fight contemporari urg 'gloss over' detail learn andrew bator see andrew' work artistoftheday carolina mizrahi explor inclus divers focus represent femal gender fashion ask curat weigh 5 question hear emerg artist read portrait noth less point week' collect new artwork renato ochoa see renato' work artistoftheday make art fair london see exhibit artist onlin alberto giacometti said wasn t sculpt human bodi rather shadow cast martinho dia see martinho' work artistoftheday clear space clear head quiet minimalist interior inspir agn martin david storey paint half rememb figur face visit studio hand hewn rustic wood sculptur wrought iron statement light thing must see decor inspo marcin koz owski see marcin' work artistoftheday happen theotherartfair weekend london plu get ticket ever look minimalist art come dri guid final get brexit photobooth rare traci emin print theotherartfair weekend come join fun mic linder see mic' work artistoftheday taylor o thoma gestur paint document search artist freedom learn watch artist david storey bring expressionist figur life visit booth theotherartfair london weekend see work emerg uk artist ticket vadim puyandaev see vadim' work artistoftheday 49 minim work inspir agn martin make pad sunni oasi modern spanish style interior idea lie labourdett see lie' work artistoftheday get know one oldest form self express londonist give 5 reason visit theotherartfair london weekend find question aris mind taylor o thoma paint onetowatch shandor alexand see shandor' work 52 afford draw love art fair open week london get look quiet welcom interior inspir minimalist master agn martin pietro spirito see pietro' work artistoftheday congrat artist lisa krannichfeld whose work grace issu 15 freshpaintmag see work paint well compos half finish pierr bonnard head theotherartfair ryan stanier saatchiart' rebecca wilson discuss art fair must adapt incr art fair open 10 6 10 9 old truman breweri london discount ticket enter saatchi50 want miss next week theotherartfair london hein kocken see hein' work artistoftheday get know theotherartfair featur artist archieproudfoot ahead fair open week sort enhanc realiti noth stranger truth anni leibovitz clair eve see clair' work artistoftheday graffiti move subway car white galleri wall arthistory101 consid puriti sort complex andrea de ranieri visit studio carla jay harri see carla' work artistoftheday subject paint don t connect spectat kri coolen learn watch artist andrea de ranieri action visit studio eliza kopec see eliza' work artistoftheday stay ahead curv 3 art trend watch fall catalog morn essenti nationalcoffeeday tomasa martin caravaggio' use shadow light imbu psycholog energi throughout composit happi birthday freddi fabri see freddy' work artistoftheday first kiss kelli puissegur figur kri coolens' paint seem impenetr learn carol ladewig see carol' work artistoftheday meet saatchi art fall catalog featur artist learn toaf_sydney see fair director laura richardson s top pick voguemagazin discov select work emerg artist work germani congrat narielwalla won pauperspress award intern print biennal award win work hannah bruce see hannah' work artistoftheday instaart plu 62 new artwork tell stori word need lug around camera lewi hine d keith furon see work artistoftheday pop color mute palett see work bring one room aliv paint experi experi mark rothko dario moschetta see dario' work artistoftheday readi build salon wall check list first sheila chapman s paint ponder futur man natur meet sheila onetowatch mood someth new meet 4 panton pick fall 2016 morgan will see morgan' work artistoftheday get behind scene look artist expert sign painter archieproudfoot action viewer rudolf kosow' surreal paint step outsid constraint realiti learn purewow offer 8 tip find perfect art apart thank gordon r johnston see gordon' work artistoftheday live regret littl know claud monet happi fall fifti shade firstdayoffal 5 can t miss tip style salon wall ivana dostal see ivana' work artistoftheday rebecca wilson s 4 must see artist theotherartfair london proud sponsor bamfestla weekend got discount tix enter saatchi2016 10 sheila chapman s paint ponder futur man natur learn onetowatch louis mcnaught see louise' work artistoftheday one room seven way see just much wow one artwork can add creat opportun artist art lover alik saxtoaf theotherartfair saatchi art s chief curat rebecca wilson saxtoaf partnership onlin tool introduc new emerg art fair expand offlin footprint new market saxtoaf partnership will allow distinct brand offer continu build meaning relationship artist art buyer last theotherartfair founder ryan stanier saxtoaf partnership ye partnership plan expand fair europ asia north america next year saxtoaf q theotherartfair current fair bristol london sydney plan expand elsewher saxtoaf ye saatchiart will amplifi artist highlight site s intern audienc art buyer saxtoaf q will exhibit theotherartfair artist work avail purchas saatchiart saxtoaf give artist direct access potenti buyer s natur pair 2 2 saxtoaf mission saatchiart theotherartfair identifi showcas best emerg talent within art space 1 2 q saatchi art partner theotherartfair saxtoaf will walk show floor meet artist buyer journalist influenc onsit 2 2 saxtoaf ye rebecca wilson curat bristol show will attend bristol fair 1 2 saxtoaf q will saatchi art s chief curat rebecca wilson involv curat art fair saxtoaf will also promot fair particip artist global audienc art buyer 2 2 saxtoaf sa partner art fair futur show fair partner saatchi art will onsit presenc 1 2 saxtoaf q saatchi art s involv art fair saxtoaf next hour answer question new partnership theotherartfair join ask away saxtoaf jeroen blok see jeroen' work artistoftheday week' fresh crop new art brows 47 work bobbi gilbreath see bobby' work artistoftheday 5 way art can improv design designinspo photographi becom art form find bach nguyen see bach' work artistoftheday light dark forc play michel keck' work learn learn sculptur start finish brief histori mari kinzelberg see mary' work artistoftheday martina grli attempt understand progress societi work learn art fruit grow man like fruit plant han jean arp radka badzevich see radka' work artistoftheday art improv interior design ask design expert weigh dive surfac 54 origin work tune cheddar morn see chief curat rebecca wilson talk art invest live now claudia grutk see claudia' work artistoftheday basic abstract paint glad ask find art love meet artist made safall16 martina grli s photorealist paint monument past meet martina creative_mumma askacur artist type invit join saatchi art open make account free rw start show look empti build intern w art magazin galleri go privat view meet peopl askacur q recent graduat look get curat advic best way get experi need industri askacur rw trend cont'd see new trend go degre show see emerg artist make askacur rw art reflect societi well individu express can baromet go world askacur rw soon tell impact brexit altho german v amp director resign artist galleri benefit eu fund q much trend art market reflect global event ex european artist exhibit uk post brexit q best way discov rw make onlin platform use social media collector curat askacur rw start saatchi art mani artist work away studio never get visit galleri askacur rw mani artist now sell work onlin onlin galleri websit audienc expand askacur rw world chang brick mortar galleri longer way show work askacur rw wait galleri take age limit show 10 12 artist year askacur cont'd q import galleri represent roll artist seek galleri wait invit askacur rw great art usual moment even recognis time creation askacur q type art go style rw stay true rather think might style askacur rw show studio galleri wall persist show new work social media onlin galleri askacur 2 2 q social media imag satur world can artist stand connect potenti collector rw context 1 2 rw factor time materi experi make sensibl comparison work sell artist stage 2 2 q emerg artist find correct monetari valu art rw sound like price work low 1 2 chief curat rebecca wilson' answer burn question follow along now askacur maggi venn see maggie' work artistoftheday fall class meet saatchi art fall catalog featur artist safall16 peopl like paint tree like paint love robert indiana question trend saatchi art process work artist collector etc tweet us today askacur magdalena lamri see magdalena' work artistoftheday tweet us burn question chief curat rebecca wilson ear will respond 9 14 askacur monday check brand new work agata ychli ska wonder futur art onlin emerg artist etc tweet us qs chief curat askacur josephin kahng see josephine' work artistoftheday follow excit usopen thing heat readi spice thing kitchen leigh well see leigh' work artistoftheday creat work ask viewer take time sit quietli contempl jessica zoob learn artist ditch realism form creat less rule read art kitchen good tast brows geert lemmer see geert' work artistoftheday work materi daydream joshua evan hopper learn jessica zoob encourag viewer lose work photographi must suggest insist explain brassai nelli van nieuwenhuijzen see nelly' work artistoftheday collect pay homag bob ross' signatur landscap happi littl tree vignett make space feel cozi live watch quick video learn layer kitchen' best secret ingredi art partner cb2tweet idea marina brownlow see marina' work artistoftheday won noblankwal sweepstak pleas announc uwe schein see uwe' work artistoftheday find photographi perfect wall 500 joshua evan hooper s abstract portrait explor escap learn igor vitomirov see igor' work artistoftheday 15 origin art today brows divin everywher even grain sand caspar david friedrich woojung son see woojung' work artistoftheday inspir tranquil landscap la joy paint star bob ross us 5 home art come first marta grassi see marta' work artistoftheday catch glimps star endr penov c' watercolor learn work dal michelangelo take quiz find hardest part galleri wall know begin luckili help delphin lebourgeoi see delphine' work artistoftheday readi real adulthood buy first origin piec art framebridgeinc art love livebetterin4word watch endr penovac action creat belov cat learn joel hamilton see joel' work artistoftheday look art made peopl see need see giacometti pair cb2tweet bring one artwork style three way without ado erin hanson see erin' work artistoftheday sinc m inarticul express imag helen levitt lauren matsumoto creat metaphor cycl decay regener earth read b la doh rszki see b la' work artistoftheday 5 home art take center stage designinspo emotion' b side releas revisit carlyraejepsen' select artwork origin readi origin art break bank brows beoriginalbuyorigin elizabeth lever see elizabeth' work artistoftheday wonder take interior design level 11 includ art learn ingr laid foundat modern paint quest new represent form win 1 000 buy art love follow us instagram enter end 9 1 noblankwal laurent eli badessi see laurent' work artistoftheday paint faucet synergi courtesti mrorlandosoria plu much design inspo toma harker revisit stori past learn artist rise know calder made jewelri learn lesser known work kerr ashmor see kerr' work artistoftheday mari elizabeth peterson' work navig increasingli technolog live learn 10 famou work man ray accus joker success art involv humor man ray jane johnson see jane' work artistoftheday learn decor art 3 pro plu can win origin art love credenza 101 em_henderson includ fantast portrait pet artist' best friend proof nationaldogday happi nationaldogday enjoy puppi portrait zeke garcia see zeke' work artistoftheday design geometr let us count way blur thing make everyth equal import equal unimport richter need inspir fill blank wall head mydomain idea tracey lane see tracey' work artistoftheday dinner parti 9 idea display art kitchen redfin toma harker examin histori art contemporari perspect meet toma stephen cimini see stephen' work artistoftheday design inspir geometr pattern shape explor idea paint shape calder alexandra averbach see alexandra' work artistoftheday light gustavo fernand explor new work camera sketch book instrument intuit spontan cartier bresson mona hoel see mona' work artistoftheday peek favorit dirand interior see can mix style still enamor justina blakeney style landscap see art aesthet organ realiti gabriel walter peek studio nola ahola see nola' work artistoftheday fill blank wall art straight mouth pro authent paint way dominault evelyn see dominault' work artistoftheday celebr coco chanel' birthday art inspir fashion happi worldphotoday emerg photograph put radar though realist heart caillebott found pleasur experi style richard johnson see richard' work artistoftheday see justinablakeney fill wall art hint noblankwal learn rise fall art olymp rio2016 luka griffin see lukas' work artistoftheday block marbl michelangelo sculpt david cut 11 yr birth yi shin chiang s portrait embrac conflict emot distort meet yi win art love winmeoverin4word detail everyone' favorit black cat blackcatappreciationday joo yoon see joo' work artistoftheday mondrian receiv life paint 800 get look minimalist pro joseph dirand got idea karenwhitworth hi karen sorri experienc troubl oper team go reach think outsid box liter 5 idea gift wrap paint listen owen normad work brand new week win 1 000 buy art love follow us ig learn amp enter noblankwal help expert curat find perfect work home project visit modernmonday thank dwell designmilk invit fun way start week alway great chat art design w laurelandwolf thank much join us modernmonday feel free reach art need art a6 la design trip haenisch incorpor art interior fun surpris way modernmonday a6 chief curat rebecca wilson curat collect inspir joseph dirand interior modernmonday a6 chief curat love joseph dirand' pare interior fantast tast minim art modernmonday a5 display object front paint make sure don t choos object will obscur art modernmonday a5 contrast materi look great togeth wood marbl metal mix thing don t make display matchi modernmonday a5 go differ height object display modernmonday a5 group object 3s alway look complet 2 object togeth modernmonday a5 flower arrang think 3s modernmonday a4 eclect galleri wall start one larg work build smaller work around modernmonday a4 galleri wall great way show eclect tast don t afraid hang diff style medium togeth modernmonday a4 like symmetri thing hang group 4 work grid modernmonday a4 tip one odd number work better even galleri hang modernmonday q4 make arrang floor rough sketch replic hang modernmonday q4 ever get ask question lot check video modernmonday quingwinn thank use complimentari art advisori servic brows q3 tip build collect read ebook 7 essenti step collect emerg art modernmonday q3 check saatchi art s weekli collect new work around world modernmonday q3 mani galleri offer wide rang work special afford origin emerg artist 100 countri modernmonday laurelandwolf thank complet agre laurelandwolf saatchi art amaz mani extraordinari work surprisingli afford q2 don t afraid go big high ceil make larg stand work modernmonday designmilk love q2 think color art accessori will work togeth don t afraid contrast modernmonday rivaljen best art spark convers annelizebest thank follow along q2 like mid centuri modern look geometr organ form art choos modernmonday q2 offset minim decor pop color clean abstract paint modernmonday q2 decor tradit best go art less modern think calm landscap strike portrait modernmonday thank join us modernmonday dwell designmilk laurelandwolf love chat art amp design a1 w mix work aren t sure hang creat galleri wall make lot diff style look great togeth modernmonday a1 focu one larg statement piec bring room togeth modernmonday a1 don t much clutter need see wood tree modernmonday seunghwui koo see seunghwui' work artistoftheday one ever inspir blank wall learn noblankwal ceram pro bari ziperstein share favorit sculptur saatchi art lia de craen see lia' work artistoftheday pablo picasso met lucien clergu bullr inspir artist friendship join noblankwal movement yet alyson khan' inspir rang primit mark mid centuri design learn john paul cook see john' work artistoftheday scientist use power x ray expos degas' long hidden portrait one paint style three way mrorlandosoria fav noblankwal art strive form hope beauti georg bellow happi birthday ingrid bugg see ingrid' work artistoftheday artist design bari ziperstein chat us person style read narielwalla talk brexit guardian see work go beyond warhol know women help shape pop art michael azgour see michael' work artistoftheday 9 monster art histori tide season 2 strangerth work 4 saatchiart artist will hang sunsetmag' idea hous visit liam syme evok nostalg imageri explor theme isol seren read shawna ankenbrandt see shawna' work artistoftheday miss 4 artist watch juli catch expert agre bare wall make space feel smaller learn noblankwal manuela karin knaut see manuela' work artistoftheday need fresh start week dive brand new art get introduc noblankwal sweep enter chanc win 1 000 spend nationalfriendshipday forev check great pair art histori zahava lupu see zahava' work artistoftheday clever peopl master life wise illumin amp creat fresh difficulti emil nold icymi part 2 guid make wallpap work bettina madini see bettina' work artistoftheday tim fawcett explor pop cultur society' impact human condit learn art can get away warhol see favorit quot icon artist warhol' print work distinguish smudg imperfect hbd warhol leticia gaspar see leticia' work artistoftheday loren abbat s print challeng standard percept beauti power learn first win gold medal paint brief histori art olymp readi rio2016 gear sport inspir collect art alisa lim po see alisa' work artistoftheday put best frame forward tell us favorit artist biopic check list vote enrico da campo see enrico' work artistoftheday paint without someth disturb georg braqu loren abbat s print challeng standard percept beauti power meet loren ivana flore see ivana' work artistoftheday brows 50 work beach home just look art make crave summer fun wallpap artwork go hand hand 10 idea will get start robert bain see robert' work artistoftheday love good fright 9 artwork fantast creepi artist' work come aliv know life inspir maria folger see maria' work artistoftheday squelch self doubt fear take cue famou artist who'v dealt said wallpap dead check 21 creativ way use andrea castro see andrea' work artistoftheday clean line function design thing check spotlight scandinavian design evok wild sensibl matiss around 6 design idea deconstruct realiti veronica byers' paint q amp mutaz elemam see mutaz' work artistoftheday traci kerdman' portrait present gender bend vision world fridayread artist take resili quot keep go happi birthday great jenni holzer relev lucian freud' emot charg portrait inspir latest collect read q amp dominiqu porter thegladhour see art select saatchi art duchamp first conceiv larg glass 1912 complet 1923 hbd duchamp polli bagnal see polly' work artistoftheday particular reason search mean william eggleston baldvin ringst translat music rhythm paint meet one watch mark allen see mark' work artistoftheday despit '80 might shown wallpap chic look 21 way use drew inspir fondationhcb' francesca woodman exhibit collect gina battl see gina' work artistoftheday keep wall fresh 6 galleri wall updat warm weather photo britandco david edward see david' work artistoftheday hang artwork consult checklist make sure got need happi hang moholi nagi help merg art develop world around 20th centuri read theft affair drama art centric movi christin crockett see christine' work artistoftheday jessi cho surround subject white space order reveal learn trend artist sign saatchi art newslett stay latest 2 common mistak avoid hang art can get right first time cati burnot see cati' work artistoftheday take trip cinema movi art lover johnwaibling glad hear alway open question feedback enjoy saatchi art' latest exhibit cross current entireti onlin now hopper' figur wide frame surround suggest innat loneli ernest concepcion see ernest' work artistoftheday lo angel crosscurr check facebook page live video sneak peek associ curat kat hen see work tonight display crosscurr 7 9pm at1655 26th street santa monica love stori greggchadwick piec pont di castelvecchio paint itali crosscurr open tonight santa monica will rsvp free tarini ahuja see tarini' work artistoftheday world becom littl prettier sophi morro' paint meet onetowatch l szl moholi nagi help bring modern u s learn influenc thoma zanz see thomas' work artistoftheday get tast offer toaf_bristol select chief curat rebecca wilson art see make other see dega bornonthisday larissa eremeeva see larissa' work artistoftheday crosscurr present work 14 emerg artist saatchi art info rsvp share top tip hack updat decor includ art redfin saatchiart see holly' work andrewalanart hello love question pleas reach support saatchiart com anthoni de klerk see anthony' work artistoftheday learn game chang nude shift art histori ahead toaf_bristol' launch week learn founder' mission holli clement see holly' work artistoftheday step insid adrienn silva' studio south africa learn process look evok earthi vibe abod tri ad neutral curat drew inspir araki collect provoc work andrea de ranieri see andrea' work artistoftheday definit check list need hang artwork howto chat w theotherartfair founder ryan stanier disrupt art world crosscurr new work emerg artist repres saatchi art open thur juli 21st rsvp choos one master natur rembrandt lynn bolton see lynne' work artistoftheday 7 nude work help shape art histori honor nationalnudeday true relax world good exist klimt andrea giannoutso see andreas' work artistoftheday carlo blanco artero s abstract portrait deconstruct human form meet carlo look support local artist bostonglob offer includ saatchiart bronwyn woodley graham see bronwyn' work artistoftheday duti life save dream modigliani born day 1884 bring desert sky insid idea decor desert neutral decor em en see em' work artistoftheday crave beach vibe 5 simpl updat will make pad feel seasid sam shendi' massiv sculptur requir custom built ship crate soldonsaatchi mariann van lent see marianne' work artistoftheday rockefel center' new pool shape van gogh' ear accid read pissarro impressionist colleagu fit salon mold depict work less seep grandeur n tuan see work artistoftheday showcas object book knick knack 5 step creat vignett hockney picasso beyond dip feet 5 best art pool saturdayfunday moment rule everyth david hockney happi birthday david jame greco see james' work artistoftheday dive french histori quick glanc histori salon wall artsouthampton weekend come see us booth as67 got tote bag give peek insid studio taeil kim paint realiti ideal rostyslav garbar see rostyslav' work artistoftheday new crop endre' belov cat watercolor coloss today check em bt freshli instal booth artsouthampton weekend come see us vip preview tonight chagal paint 200 squar meter pari opera' ceil 1963 bornonthisday madelein ignon see madeleine' work artistoftheday patricia kaliczka s paint transport us fourth dimens meet onetowatch display larg artwork can help defin area within home read thinkbig take leaf frida' book fearless approach style decor frida kahlo weather medic setback life arriv first solo show ambul hbd noemi safir dolev see noemi' work artistoftheday thrill see saatchi art' nushka' work make artsy' list collect work artsouthampton peel back sky winston chmielinski plu 44 brand new work christian richter see christian' work artistoftheday shine summer art love last day save 15 origin art code shineon yvett ten bohmer see yvette' work artistoftheday learn basic arrang artwork mouth houzz pro readi make wall sparkl save 15 origin art weekend enter code shineon ina gal see ina' work artistoftheday calum mcclure' work amongst artist exhibit year' rasumm learn feed travel bug 15 origin artwork will inspir wanderlust michael cutlip channel raw energi urban life obsess paper read ed freeman see ed' work artistoftheday make weekend rememb save 15 origin art weekend code shineon love friday surpris archdigest' list buy afford art onlin gorgeou instal shot qai al sindy' abstract peek studio see work sarah emerson see sarah' work artistoftheday look back 4 emerg artist met june case miss onetowatch cluster salon grid beyond let houzz expert guid basic howto gagyi botond s paint construct realiti found imageri learn onetowatch david down see work artistoftheday expert rebuilt lost work art photoshop entir stock photographi via artnet see sunyoung hwang' work name one 21 artist buy now sunyoung hwang amongst great compani sight_unseen featur alway stood awe camera irv penn nationalcameraday love chairishco much decid make exclus collect shop rosormiston agre roarkfineart michael gaffney see work artistoftheday new perfect blue pigment accident discov keep build cool reflect infrar light s_tudyk pleasur honor rubens' birthday today learn rubenesqu realli mean arthistori joan giordano see work artistoftheday wear sunglass night like nationalsunglassesday paint christi power royalacademy' summer exhibit featur jam pack assort work learn brand new day nathan jone overlook welsh mountain explor mondaymotiv saatchiart see chloe' work evelyn hamilton see work artistoftheday ilona szalay' work select amongst 14 000 submiss rasumm learn chloe henderson see work artistoftheday jake wood evan mix old master dark eeri surreal learn frame problem two easi way hang unfram artwork howto bernard dunaux see work artistoftheday zil explor fascin light spanish influenc paint read gear weekend 5 solar power artwork love fridayfeel michael cutlip see work artistoftheday desper need creativ spark check idea put art offic three step away final hang paint pictur sum destruct picasso thursdaythought vera komnig see work artistoftheday meet jake wood evan reimagin classic style surreal twist onetowatch cool giveaway alert toaf_bristol give away trip bristol privat view fair detail enter congrat nicola pucci exhibit palazzo collicola arti visiv see work zil hoqu see work artistoftheday arbu develop signatur style work commerci photographi read art selfi selfi art happi nationalselfieday lungu alina ada see work artistoftheday celebr firstdayofsumm check 5 solar power work art medium unimport kurt schwitter bornonthisday can buy piec art without physic see first chief curat weigh hiscoxsmallbiz javiera estrada see work artistoftheday revisit father son stori warm heart fathersday dad fathersday denis mart see work artistoftheday let paint go unhung hang paint 3 easi step howto giacomo brunelli see work artistoftheday 6 time m c escher s work inspir modern cinema honor baldessari' birthday learn goya seri cool artwelov tomasa mart n aim convey sincer form express work peek studio emeli jeger see work artistoftheday unseen mechan famou artwork come forefront vik muniz' seri recreat backsid mona lisa stolen man hire build glass protect around read can get obsess anyth look long enough irv penn bornonthisday emmanuel castella see work artistoftheday two aphrodisiac combin dal 's lobster telephon nationallobsterday matthew david smith transform piec citi work art meet onetowatch sabin danz see work artistoftheday thing realli heat give galleri wall warm weather updat son help father launch art career tuesdaymotiv petar kochevski see work artistoftheday christo' new instal open late june will allow visitor cross lake iseo 220k poli ethylen cube artwork becom metaphor bodi narielwalla read glassmagazin agata kosmala see work artistoftheday heart orlando believ immort creatur egon schiel bornonthisday joseph lee see work artistoftheday nushka' paint explor dichotomi contemporari femal experi struggl find right frame let expert framebridgeinc guid howto sky sourc light natur amp govern everyth constabl bornonthisday jayel hudson see work artistoftheday follow saatchi art instagram add littl art feed peek insidethestudio changsoon oh whose abstract echo calm sea wild thing actual base rel wild thing mauric christoph schrein see work artistoftheday icymi one room transform five way art mood hungri see 7 art food combin will make reconsid food photographi hodaya loui see work artistoftheday wendi turchan s organ abstract blend real imaginari onetowatch picasso braqu nationalbestfriendsday share 5 tip buy first grown piec art framebridgeinc read jeffrey odiorn see work artistoftheday anim harm make art art world' fav bad boy art either plagiar revolut gauguin bornonthisday 1848 alexia liatso see work artistoftheday research show peopl product around blue learn art can set mood feel littl mid monday cloudi pick mondaymotiv peter manion see work artistoftheday hormazd narielwalla use tradit indian wood block make maharaja beast southampton weekend hamptonsdesign see miss super satisfi see hue juxtapos match scene seri cinemapalett mood set art natalia davi see work artistoftheday narielwalla s bodyarchitectur highlight london art circuit catch recap greatest limit edit photograph michael gaffney ripmuhammadali bruno varatojo part de koon part peek insid studio watch learn pack art collect move howto jeffrey king see work artistoftheday catch peek thoma hammer' process ahead reveal hamptonsdesign weekend turn donut like mona lisa pastri indulg nationaldonutday wish show paint way see thing eye heart raoul dufi bornonthisday alessandra favetto see work glove franci bacon wore creat three studi lucian freud will auction chiswick auction sophist bold art mood see one room transform five way rare new seri paleolith era paint found 1 000 ft underground basqu countri cave clau gawin see work artistoftheday stroll amongst husstl bustl london local artist narielwalla stefan doru moscu paint transit onlin offlin meet stefan onetowatch lauren comito see work artistoftheday creat art vignett 3 easi step want make look want fragment ellsworth kelli bornonthisday paolo damiani see work artistoftheday great interview narielwalla artlyst discuss latest show open week sweet save resist use code summer_15 today save 15 origin art joanna borkowska see work artistoftheday save 15 origin art tomorrow use summer_15 checkout memorialweekend london save date narielwalla' show open week rsvp clair denari soffietti see work artistoftheday see art select post modern monk ward robert wardrob beach hous state mind 5 easi updat make home feel like luxuri snag left nushka' moment exhibit d tail contemporain ben boothbi see work artistoftheday starter pack decor success begin 3 fundament tip designinspo karin vermeer turn art way present vision women peek studio tatiana bugaenko see work artistoftheday basic black white photographi honor dorothea lange' birthday featur saatchiart artist joeyunle brokenhillboy isabellegorilla greggchadwick anyes_galleani mallori morrison 1 2 hardest part art invest know begin roadmap photographi take instant time alter life hold still dorothea lang bornonthisday federico bebber see work artistoftheday tromp l' il street artist jr make louvr pari seemingli disappear saatchi art now offer price mean cool stuff basic previou investinart artist zaria forman give ted talk work challeng climat chang charlott lethbridge' simpl composit strike chord nostalg long read elk albrecht see work artistoftheday lyndsey gilmour manipul form dimens obscur sens realiti learn artist' studio wall beoriginalbuyorigin lot minimalist eye candi artist wardrobs' hand select guest curat collect saatchi art splinterlennon ye awar process fix will back soon apolog inconveni simon_hopkinson congrat pleasur franco fusari see work artistoftheday just like look break familiar architectur landscap bare form final test paint painter' emot come across franz kline bornonthisday ami bay see work artistoftheday mark calendar nushka' new show open week pari info rsvp visit made move women artist learn 7 fact mari cassatt' life woman artist must capabl make primari sacrific mari cassatt bornonthisday carlo blanco artero see work artistoftheday liviu mihai' blur subject remark theme existenti learn investinart designinspo 6 galleri idea warm weather updat modernize' erin vaughan get know artist narielwalla ahead show open june 1 london slowlight collect see work artistoftheday thank ruemagazin includ post 3 pop art women pioneer link roundup know 3 women help shape pop art titl monia marceta' work aether mean pure fresh air fridayfeel post grad ennui set 10 inspir artist quot grad pavl maksimov see work artistoftheday stefan heyer' abstract complex layer appear learn onetowatch art nationalsendanudeday 7 essenti step collect emerg art investinart minut detail paul signac paint survey new googl art camera elisabeth maill see work artistoftheday armando rabad n believ everyth univers connect peek studio season chang can galleri wall 6 idea warm weather updat k nichola see work artistoftheday tadao cern' new instal reli childlik interplay two balloon mike carney' work present imag base represent tangibl object investinart paig depont see work artistoftheday stroll around marseil franc local artist self proclaim foodi fanni nushka start week right brows brand new pop art mondaymotiv next weekend project start outsid 10 paint porch covet design alex hanna see work artistoftheday pre design natur american flag allow jasper john explor element like materi hbd sabin kirst see work artistoftheday london rejoic present new select work narielwalla detail miss 5 art event miss month artnew mr ms andrew commiss thoma gainsborough paint portrait still unknown bornonthisday christoph owen nelson see work artistoftheday definit spooki cinemat feel luciano corti photo fridaythe13th see learn upcom show fanni nushka see one paint come life yuliya martynova' paper airplan subject imbib mean much beyond ordinari mh sarki see work artistoftheday joseph beuys' 1973 rose direct democraci deliber mix materi suggest deeper mean bornonthisday natur beauti tokyo' inokashira park cherri blossom season heighten danilo dungo' len clairin' portrait de sarah recreat miss_etc part parismusees' campaign boost museum visit art breakfast lunch dinner alexandru cinean visit sibiu romania stephani rivet see work artistoftheday nathaniel evans' work like ghost stori inspir childhood appalachia read dal 's signatur appear antic come aliv 4 must see video salvadordali eleph dal 's icon surreal 1948 work carri obelisk weight spindli leg happi birthday rose strang see work artistoftheday chief curat rebecca wilson break complimentari art advisori editoratlarg ugo rondinone' seven magic mountain instal featur bright limeston boulder locat vega strip 7 essenti step collect emerg art easier think tuesdaytip joel shaps see work artistoftheday imexcitedabout 50 brand new origin abstract portrait patricia derk loren stuart see work artistoftheday 5 thing love lilli pulitz mother career woman happymothersday experi day life artist new mom han xiao visit dalian china jame mcneill whistler' 1871 portrait mother american icon happi mother' day feel chang season liz barber' paint peek studio 9 way renov home day art designinspo ofir dor see work artistoftheday announc new exhibit present work fanni nushka moreaux loeilduprinc differ terrain landscap get manipul one artist laurent rosset leni winkelmann see work artistoftheday honor shoutout onetowatch artist erin armstrong notableca read everi interior design know saatchi art designinspir design friezeni underway whole bevi art event month definit may guid design vega hdexpo2016 come talk art us booth 15109 hdexposhow maria remedio kleinschmidt see work artistoftheday ben edmunds' dimension abstract find way repres entir paint process onetowatch toni leone' north northwest mix two icon film happi starwarsday hdexposhow vega week meet us booth 15109 chat art advisori hdexpo2016 will draw much can mani peopl can long can keith hare bornonthisday deniz hotamisligil see work artistoftheday mona hatoum turn head instal tate featur endoscop self portrait via guardian skip guesswork three thing look emerg artist tuesdaythought czar catstick see work artistoftheday 5 thing look buy art onlin france' sncf rail servic collabor 3m bring touch famou artwork highli traffick train karen cole see work artistoftheday happi nationallemonadeday wink paint marija milankovi happi birthday we anderson get break signatur film aesthet pascal pierm see work artistoftheday hot right now got scoop 11 artist watch stun shimmer beach photo lumi tuomi make us long summer icymi 7 outdoor sculptur instal will make smile isabel schenckbech quint see work artistoftheday one thing make feel aliv creation patricia bonet click meet patricia chief curat rebecca wilson juror freshpaintmag' callforart submit yet burton machen' diptych perfect internationaldanceday sandi dooley' plein air paint captur season english countrysid artwelov robert stein see work artistoftheday happi birthday yve klein dive histori signatur color ikb experi day life artist joncquil de vri say time elast read see saatchi art' iva troj hifructosemag work avail laura viapiano see work artistoftheday look lot artist inspir art come art cy twombl wednesdaywisdom ferragosto iv 1961 introduc saatchi art' latest investinart present 11 emerg art star discov today lisa kotoula captur human emot gestur brushwork good saatchi art' robin cracknel newyork latest photograph seri dudley zopp see work artistoftheday louijov true crazi timezon work need mondaymotiv tuesday 7 outdoor sculptur brighten day jake wood evan see work artistoftheday jackson pollock' behemoth 5 1948 initi met critic aesthet like abstract art cureboredomin5word maarten van den bo janic sztabnik see work artistoftheday irv penn captur beauti mani form display new exhibit work dalla museum art mother' day fast approach need gift idea tri richard bailey willem de koon known scrap entir day' work start fresh next day bornonthisday ale brazdil see work artistoftheday lucian freud self portrait mid 1980 just use artist' estat cover inherit tax must see spring landscap inspir j m w turner art henni van de land find anyth blacker black use j m w turner master moodi landscap bornonthisday juan sli see work artistoftheday satelit imag planet present abstract art max serradifalco earthday 10 earth consciou artist love earthday ermina avramidou' work draw connect human cognit ecosystem earthday peter matyasi' draw like film neg focus certain shape learn naomi mendel see work artistoftheday import thing true princ purpl rain heik schmidt explor 4 fresh d cor trend tri spring designinspo meet eye dariusz labuzek' energet abstract chri brandel see work artistoftheday pictur like spark joan mir bornonthisday 1893 know can commiss origin work art saatchi art easi serious wednesdaywisdom adesina soji see work artistoftheday thoma gainsborough meet freud' uncanni vikram kushwah' surreal photograph read vibrant abstract composit actual stick gum part photograph sam kaplan s unwrap project give pad essenti spring refresh designinspo subscrib saatchi art newslett weekli dose emerg art artist everi price point krzysztof musial' fingertip plu 49 brand new portrait abstract get art centric breakdown candid hit poll primaryday via hyperallerg magdalena ana rosso see work artistoftheday arrang possess like pro 16 way display book art decor sadden hear malick sidib 's pass guest curat zainabsumu fortun work w great artist flashback andr pillay miss weekend alreadi mondaymotiv hal mayforth see work artistoftheday ati sedgwick see work artistoftheday big week art live da vinci rel identifi possibl new caravaggio rebecca louis law' latest bikini berlin featur 30k hand cut orchid rose artist day kathryn vaughan see work artistoftheday escap robert bubel fridayfeel tri find meet place strong delic giorgia siriaco happi birthday da vinci whose thirst knowledg can seen keen attent detail thing artist day bubu oliv schibli see work artistoftheday day like life local berlin artist ute rathmann take peek collect minimalist art prefer subdu vibe harriet porter caravaggio expert debat paint found two yr ago old hous near toulous artfixdaili artist day richard whadcock see work artistoftheday legendari portrait legendari career mambaday art paul daniel meet woman behind sunni 70 glam len stephani vova today mark 43rd anniversari bowie' aladdin sane version stephen walsh individu sanja milenkovic' urban scene stand amongst crowd meet sanja artist day jeffrey tover see work artistoftheday get botan fix 6 twist tropic decor justinablakeney designinspo essenti nationalgrilledcheeseday dirk velimski magnifi flake franz kline paint reveal variabl natur artist process creatorsproject davidlongshaw hi thank reach awar issu process smooth vision true creativ rhythm robert delaunay cofound cubist orphism movement bornonthisday artist day lauren chai see work artistoftheday primit modern founder zainabsumu lend keen eye excluslv select work saatchi art heidi lanino' storm recreat pierr august cot' note 1880 work see 51 new must see figur work adrian kay wong 6 thing happen week art artnew impress hous guest moment step insid designinspir artist joon hyung lee share favorit seoul spot art tomorrow will collect treasur will art vasar bornonthisday huge hit aafnyc booth churchoftype' elect poster get love huffingtonpost elections2016 southeast asian art make wave artist day michael rofka see work artistoftheday offic ladi astrid oudheusden fridayfeel algorithm creat analyz mani rembrandt paint paint brand new one artist' style bbc peel back mani layer vicki barranguet' abstract artist day peggi lee see work artistoftheday bahar y r ko lu s geometr neo scape recal arctic landscap render squar shape meet man behind quietli power abstract christian hetzel artist day ursula radel leszczynski see work artistoftheday wednesdaywisdom courtesi enriqu baeza brows neon artist day shevi levi see work artistoftheday dan cretu pull two refer one clever imag remark art pop cultur digit landscap happi birthday bettedavi learn queen silver screen picasso' ceram taureau doubl estim auction 85 000 sothebi just mercuri enter tauru jean honor fragonard' extravag style exemplifi rococo era note provoc happi birthday artist day ezra bejar see work artistoftheday paint repres page person diari clairedj read love write ottawacitizen storytel x latest roo van der vliet brows new work morn link 6 thing happen week art artnew artist day carol bruton see work artistoftheday take histori lesson artist ronald hall follow saatchi art instagram follow along see inspir us artist day lillian winkler see work artistoftheday despit crippl arthriti pain immobl matiss continu creat late life photo robert capa sole figur oscar alvarez' paint exhibit sens calm peek studio visit sydney australia local artist sara robert artist day endr penov c see work artistoftheday can take joke celebr sillier side aprilfool marco battaglini take 15 origin art today joke one might think light matter fact dan flavin bornonthisday happi birthday artist day eva lewarn see work artistoftheday 20 nomine will get turn kevin bradley s clown car seri see first two sell like hotcak aafnyc come visit us booth 1 49 level 1 late aafnyc meet narielwalla whose abstract collag reinvent bespok tailor pattern artist day pascal marlin see work saatchi art artistoftheday jorg mayet' craft tree root tip paper wire expos often hidden system underneath exagger essenti leav obviou vagu see 5 van gogh quot wednesdaywisdom van gogh' red vine 1888 paint artist sold lifetim happi birthday artist day s bastien layral see work saatchi art artistoftheday blank wall 3 step creat galleri wall decortip spring catalog make find art love even easier brows onlin saspring16 meet aafnyc artist anna church whose found object composit often humor artist day agata czeremuszkin chrut see work artistoftheday aafnyc week brand new work can visit us aafnyc fantast sculptur thoma groma mondaymotiv new work artist day jeffrey davi see work artistoftheday visit booth aafnyc week claim one limit tote learn artist day mario henriqu see work artistoftheday 6 thing happen art week artnew peek insid studio newel hunter learn process spontan friend jealouscur give away 2 free vip tix aafnyc click enter experi day life skar manuelsson catch glimps bergen norway artist day ermina avramid see work artistoftheday picasso paint sign bottom pool villa el martinet marbella spain 1961 fridayfeel love edgi humor offbeat imageri meet new favorit artist kelli puissegur artist day margarita garc see work artistoftheday thank rackedla mention freshfac show come tonight see 1655 26th st head artbaselhk get quick run first check spotlight asia artist day gabor gozon see work artistoftheday robdoylecouk babyhaim oh miracl happen nationalpuppyday join us tomorrow night rsvp freshfac snap saatchiart delinleedelov wardrob pleasur wait everyon see tomorrow wardrob obscur face signifi construct layer project see work freshfac lee boyd' manim portrait inform psycholog explor person meet lee artist day gina parr see work artistoftheday flood idea mind just follow vision kusama happi birthday yayoi saatchi art now snapchat follow us saatchiart go behind screen world' lead onlin galleri koenlybaert glad safe koen sadden thought brussel art damien diaz diaz artist day jade fenu see work artistoftheday join us freshfac exhibit new portrait rsvp join us thursday march 24th freshfac click rsvp love piec art tini sculptur start surround thing excit samuelamoia learn classic abstract expressionist han hofmann bornonthisday krista kim' digit color field respons constant exposur led light artist day yi shin cheng see work artistoftheday flip page spring catalog saspring16 last spring hyunju kim happi first day spring artist day kerri blackman see work artistoftheday read recap happen week art learn one collector caught art bug freshfac exhibit aim explor limit medium portraitur read artist day alexand ilichev see work artistoftheday visit afford art fair nyc month first check guid aafnyc2 watch one room transform six way ad differ work art tracey emin' autobiograph book hold monument valley 1994 written artist 10 day fbf artist day derek gregori see work artistoftheday strive realism work art venti peek insid art s studio sure reinvigor space fresh look go green tri 3 idea architectur element inspir antoniodcampos' draw green work stpatricksday artist day aleksandra kostiuk see work artistoftheday beoriginalbuyorigin shop spring 2016 catalog find best emerg art artist price point veil featur freshfac new exhibit open 3 24 santa monica rsvp fluiditi elyc abrams' paint echo chang life meet elyc artist day jason forcier see work artistoftheday sebastian erra prove art around us seri tile floor pari basic black white photographi know mydreamhouseha art wall art erin armstrong need tuesday motiv explor 50 new work art patricia derk artist day ana d'apuzzo see work artistoftheday learn life work dian arbu 5womenartist thing nobodi see photograph dian arbu bornonthisday imag 1966 nyc introduc saatchi art' spring catalog featur artwork sure love learn 6 thing happen week art artnew artist day alexey chernigin see work saatchi art artistoftheday 5 thing see afford art fair nyc month includ us aafnyc head hawaii see yayoi kusama' new sculptur organ form nod island' ecosystem artist day majid eskandari see work saatchi art artistoftheday explor 54 geometr abstract paint includ untitl 116 tim hallinan elain de koon women artist mayb tougher happi birthday elain bornonthisday 5womenartist louis fairchild channel appreci landscap paint meet louis artist day miriam homm see work saatchi art artistoftheday saatchi art will aafnyc month 5 reason miss art fair aafnyc bloom 2 brian oldham fridayfeel see brian' work forthcom exhibit take stroll portland oregon local artist heather goodwind artist day angela findlay see work saatchi art artistoftheday thai artist uttaporn nimmalaikaew cast subject onto fine net give haunt caprici feel artist day tage fredheim see work saatchi art artistoftheday freshfac new exhibit portrait present saatchi art info rsvp great see saatchi art' anna church aafnyc spring campaign see work adam norgaard find medit element paint repetiti pattern learn learn can help spread awar femal artist month long iwd2016 5womenartist read chief curat internet will fight gender dispar art iwd2016 equal women internationalwomensday discov work women artist artist day sara rich see work artistoftheday art made anybodi time everybodi piet mondrian bornonthisday fresh face new portrait l artist open thursday march 24th ceram sculptur cheerio jennif roger perfect nationalcerealday 6 thing happen right now art artist day lise templ see work artistoftheday untitl velazquez ii alessandro pagani explor contemporari artwork itali skin st bartholomew grasp last judgement thought artist' like hbd michelangelo artist day svein koningen see work artistoftheday escap winter drab 7 spanish interior need see can name 5womenartist meet noell oszvald week' onetowatch kyle bean aaron tilley produc seri anxieti induc imag kinfolkmag' adrenalin issu artist day veronika tumova see work artist day true treat klee fan 3 900 page notebook can now seen onlin qai al sindy' paint confront condit surround desir fear hope learn artist day philip richardson see work artistoftheday prefer draw talk draw faster leav less room lie le corbusi tbt explor tewkesburi uk eye local artist niki hare make think sciart read shelburn farm librari xiao hong happi read worldbookday robertslivchak realli appreci feedback artist day gimena macri see work artistoftheday stop mad dan tagu wednesdaymotiv explor origin artwork fit born stand dr seuss bornonthisday 1904 happi birthday artist day kri gebhardt see work artistoftheday design inspir 7 spanish interior need see creator forthcom film lovingvinc emul brushstrok use 12 paint per second noell oszvald use form build minimalist composit meet noell 5womenartist artist day rosi emerson see work artistoftheday daniel arsham' carv wall instal scadmoa evok human effect world passag time leapday leg morgan will explor new art use code leap save 50 500 order artist day jeroen allart see work artistoftheday leap m bernard martin save 50 spend 500 origin art code leap paul durand ruel bought renoir' two sister 1 500 franc 1881 later resel 100 000 1925 don t miss leapday offer valid now monday photo kelli nicolaisen artist day francesco d'adamo see work artistoftheday 6 thing happen week art recap icymi fill extra day art take 50 spend 500 code leap leapday step insidethestudio fran muhren learn color sculptur artist day vanecha roudbaraki see work artistoftheday j henri fair' imag environment disast beauti horrifi scientificart abl saatchi art' narielwalla auction paddle8 benefit shapeart solid advic sammi slabbinck fridayfeel visit seoul south korea experi typic day life jieun park artist day brian mcdonald see work artistoftheday snag exclus first ever limit edit print swedish born artist jona fisch got collect work straight spain time arco2016 check caught interior design wendy_haworth see work cafegratitud art current project artist day ariel lockshaw see work artistoftheday paint sculpt get grip realiti protect alberto giacometti know captur rang emot sinc well forev art facebookreact found materi jame watts' art maintain mark former life meet jame artist day don gray see work artistoftheday design 5 way showcas sculptur spi remix pop helm curat aphroch check work sculptur art intellig picasso brows afford sculptur t heidt artist day miek jonker see work artistoftheday artist jona fisch made two exclus limit edit print saatchi art learn shaynehous good eye fix coffe yet see week' brand new artwork includ michel davidson' artist day eelco maan see work artistoftheday discov everyth ever want know sculptur roundup 7 thing know week art mishap custom br ncu i' bird space expand univers accept abstract art hbd artist day louis langgaard see work artistoftheday escap susan washington abstract composit inspir purpos journey art histori 101 take look back life influenc ansel adam read take photograph make ansel adam bornonthisday love style artist day sarah haddou see work artistoftheday john baldessari' tip artist want sell 1966 69 still ring true paschamo fantast congrat look perfect place hang art forget kitchen check idea peopl 2 sanja milenkov brows new artwork saatchi art artist day andrew fish see art artistoftheday join saatchi art newslett discov emerg art artist price point ahead inclus artistprojectto see mississauga canada eye local artist hyunryoung kim thank clarionlist interview chief curat rebecca wilson make saatchi art special man ray captur game chess marcel duchamp french journalist raoul de roussi de sale 1925 artist day paig hirsch see work artistoftheday hanp feng paint space permeat life manmad natur meet hanp beauti livewithart cake instal line 7 000sq ft wall la' think tank galleri month long break bread show design inspir 9 idea display art kitchen artist day roberto yonkov see work artistoftheday brows 57 brand new afford origin includ tatiana bugaenko' flower metal bronz glass learn in out sculptur artist day ma gorzata majerczyk sieczka see work artistoftheday ballerina misti copeland bring life degas' dancer learn carol bruton' sculptur inspir ocean inspir mondaymotiv artist day nicola pucci see work artistoftheday amar limit edit c type luca lai happyvalentinesday roundup 7 thing know week art celebr valentinesday 25 famou artwork inspir love artist day ryan morgan see work artistoftheday nyk ping citi actual sleep visit citi artist tommi ingberg grant wood paint two figur american gothic imagin live hous behind hbd artist day moniqu lover see work artistoftheday rodin' cathedr 1908 pay homag love sacr institut read love list 21 stylish artist coupl o'keeff stieglitz see look art form check collect new nude artist day jorg mane rubio see work 7 famou lovers' embrac art throughout histori lunchtim visit churchoftype' santa monica store front mean love takeaway despit obviou critiqu malevich' semin black squar repres zero point paint hbd explor beauti seren nyk ping sweden local artist tommi ingberg artist day maria svarbova see work artistoftheday book visit van gogh' icon bedroom airbnb ahead artinstitutechi' exhibit kal mansur craft minim abstract acryl plexiglass meet kal love erin morrison work instal sohohous la see broken vase avail artist day christoph lopresti see work artistoftheday richter' abstrakt bild 1986 auction 30 4m last year price high tri artbypatbologna jett_burn love let us know question aris bold think pink 5 way add splash bright pink d cor see excerpt narielwalla' excel articl selvedgemag tailoringpattern art menswear art highest form hope gerhard richter bornonthisday happi birthday gerhard artist day yuriy ibargimov see work artistoftheday find balanc feng shui chinesenewyear happi chinesenewyear today save 10 work code luck10 marat cherni artist day andrea patri see work artistoftheday check 5 event art lover guid modernismweek eva hess reinvigor modern sculptur new use materi learn 7 thing know week art artist day geronimo cristob see work artistoftheday franco fusari' pastel paper portrait featur collect new portrait discov brighton uk eye local artist dong li blackwel artist day ann bevan see work artistoftheday weekend offer save 10 origin red gold work code luck10 good 2 10 read saatchi art s chief curat rebecca wilson internet will democrat art happi 100th birthday cabaret voltair birthplac dada art movement collag hanna h ch 1919 fernand l ger' le grand d jeuner return order work mix new style old motif bornonthisday artist day nikla asker see work artistoftheday saatchi art chief curat rebecca wilson internet will loosen grip men art world forb ticket sell fast check guid palm spring' modernismweek imag speak element human growth experi meet alicia savag artist day naomi middelmann see work artistoftheday norman rockwel went beyond paint ideal american life click read norman might know prom rockwell' 259th cover saturday even post publish 1957 hbd norman artwit artist day wendi turchan see work flower fabul artwork last longer step outsid box valentine' viewer can turn caitlind r c brown wayn garrett' interact cloud made reclaim lightbulb artist day david spencer see work artistoftheday 5 modernist women sculptor know new week new art brows got 50 new portrait abstract love lisa krannichfeld artist day viet ha tran see work artistoftheday everyday start nuzzl meow cat luna see day life philadelphia artist shaina craft lip man ray' 1966 work emblemat deceas lover lee miller learn celebr nationalinspireyourheartwithart day thing 25 art work artist day geoffrey green see work artistoftheday 7 thing happen week art photo karen clark draw inspir klimt work la artist laartshow artist day yuliya vladkovska see work artistoftheday peek insid studio jiri havlik learn artist process louijov fantast loui minut begin understand re lose search qualiti peter voulko bornonthisday local artist shaina craft give us tour philadelphia includ favorit local spot artist day ken vrana see work artistoftheday trina merry' lost wonder seri blend human landmark signifi dualiti two peek sketchbook page artist tahneeart see work explor 52 contemporari work inspir pollock' drip period paint heik schmidt artist life jackson pollock bornonthisday 1912 happi birthday icon artist artist day iren van den bo see work artistoftheday new year new look saatchi art' got brand new homepag think congrat saatchi art' carol bruton featur house_of_coco read water inspir sculptur artist day david storey see work artistoftheday turn spotlight la artist la art show kick check interior design duo team hc share art interact design philosophi much read gavin worth' incred weld steel sculptur come life shadow light via coloss learn fromthestreet exhibit see featur work artist day michel west see work artistoftheday artist day charli edmiston see work artistoftheday see clare doveton' dreami landscap collect brand new work saatchi art icymi 7 thing happen art week leav synthet behind organ form fabric explor way find zen artist day pepjin simon see work artistoftheday final imag walk line like abstract paul wright meet paul manet' celebr le d jeuner sur l'herb fist reject pari salon 1863 happi birthday manet see m rida venezuela eye local artist david molina molina artist day helen t th see work artistoftheday check photo last night' fromthestreet open leahperrino love annieterrazzo check fromthestreet onlin essenc man found fault franci picabia bornonthisday 1879 artist day richard kattman see work artistoftheday join us tonight open fromthestreet present pop street art work rsvp check floraborsi' portrait saatchi art artist day lori goldberg see work artistoftheday happi birthday jeff koon tulip crowd favorit newli open broad museum lo angel andrzej pluta drew inspir photo flower o'keeff new photographi design duo team hc share design philosophi favorit piec saatchi art koenlybaert pleas get look everyday rebecca name one designmilk' top fridayf profil 2015 see 4 edmund de waal now gagosian joseph lee seek captur primal emot see work fromthestreet open tm evali wagner recal old master evok contemporari spirit gener read artist day lee albert hill see work artistoftheday find zen 7 idea creat tranquil home join saatchi art excit new exhibit fromthestreet thursday januari 21st 6 9pm wimac_sb hi sorri hear support team awar issu pleas expect phone call us shortli fix knew pictur go like wouldn t make cindi sherman happi birthday cindi courtpaint congrat sale fromthestreet present pop street art work immers la cultur landscap rsvp artist day jodi fuch see work artistoftheday explor week' new portrait abstract hand select chief curat decid stick love hate great burden bear mlk jr art p samm artist day campbel la pun see work artistoftheday see joseph lee' portrait fromthestreet new show saatchi art info rsvp roundup 7 thing happen week art local artist zhongwen yu give tour beij eye see artist day je s perea see work artistoftheday re energ home boost mood transport landscap artwork m zamarska saatchi art' 2015 year review heaviest artwork sold total mile travel artist day alejandra balduzzi see work artistoftheday fromthestreet new exhibit pop street work explor citi la rsvp juliet vles' abstract work present subvers vision truth beauti learn introduc fromthestreet pop street art l artist show will open 1 21 artist day renata fernandez see work artistoftheday local artist zhongwen yu share favorit spot around beij china lumier london unveil today featur 30 light instal across citi open public 4 night julesmuck stun bowi tribut mural see work fromthestreet got someth work stay tune info forthcom l show fromthestreet artist day youngjin han see work artistoftheday number 2015 great year saatchi art check year review must watch creat galleri wall 3 easi step meet luca lai captur quotidian moment transient natur time artist day irina sergeyeva see work artistoftheday banish winter blue liven live room landscap art portrait paint someth wrong mouth john singer sargent bornonthisday 1856 artist day simon mccheung see work artistoftheday david bowie' creativ express includ art gift painter art collector explor 50 new portrait abstract saatchi art art richard kattman rip david bowi art jiri votruba artist day mariana maia see work artistoftheday recap week' best 7 happen art goldenglob nom jamieleecurti curat exclus onlin exhibit photographi rare draw see draw feel bodi barbara hepworth happi birthday artist day jessu hernandez see work artistoftheday 7 thing know week art weekend treat 10 origin art print saatchi art use code goal 250 min true subject alway space form structur balanc sylvia mcewan meet sylvia artist day jaroslaw broitman see work artistoftheday look buy art onlin know begin allow us help robert bubel jeffsteck jessblackart congratul jess thank love jeff great start year find new home art love metal brows 55 bold work art giusepp lo schiavo spend 250 enjoy 10 origin print weekend explor new work artist day amelia lancast see work artistoftheday take trip spaciou andov nj see day life april zann johnson titl work mariana shieverska brows power pop art work artist day h wesley wheeler see work artistoftheday chines perform artist kong ning use work embodi hazard pollut experienc daili meet lili greenwood whose paint influenc japanes kimono design natur artist day ana del vall ojeda see work artistoftheday new year new 9 way renov home day art paint develop eye unfold surpris progress yve tanguy bornonthisday artist day brent baker see work artistoftheday incred photo colorado tornado jame smart won 2015 nation geograph photographi competit millais' 1852 ophelia recal limit ed photo viet ha tran new art artist day marsha boston see work artistoftheday kim byungkwan' deconstruct celebr inspir portrait featur best 2015 electrolyt chuck hipsher explor 50 new abstract work love artist day kenni chan see work artistoftheday breakfast connect happi somehow day life g rkem dikel visit iva troj' studio learn femal figur challeng subject artist day nathaniel evan see work artistoftheday prolif writer artist alfr stieglitz help shape photographi fine art form happi birthday art 2016 paint campbel la pun artist day lara ivanov see work artistoftheday round 2015 best collect includ top work trend emerg art artist day neil moor see work artistoftheday impression newspap soul matiss bornonthisday love style look home inspir new year brighten metal meet steve byrnes' whose abstract paint embrac japanes philosophi wabi sabi artist day mari margril see work artistoftheday discov istanbul' best kept secret eye local artist g rkem dikel experi weird unexplain 50 new surrealist work monia marceta reach beyond galleri tbcbillboardart display work 33 billboard throughout l artist day michal strugalski see work artistoftheday rip ellsworth kelli belov artist pioneer american abstractionist art explor 50 brand new work saatchi art art erin armstrong happi birthday stan lee whose marvel superhero creation touch live mani artist day lise templ see work artistoftheday gala kn rr' shoot remark polit strife year see best 2015 love incred holograph paint jane q cheng take 2 4 month complet via booooooom artist day miek van ingen see work artistoftheday show close gender starkli separ traci kerdman read emot nostalg dylanmcdermott' photo select must see ed freeman artist day holger theunert see work artistoftheday transform live space winter wonderland year round imag britandco louis bourgeois' coloss maman sculptur explor theme allud matern qualiti happi birthday louis artist day anni terrazzo see work artistoftheday wrap packag actual incred precis paint yrj edelmann via coloss everi piec contain element stori experi observ magdalena krzak explor new work 20 insidethestudio artist includ alexand jowett artist day astrid st ppel see work artistoftheday congrat artist felic hammond win 1854' singl imag award restor factori set mix textur subtl fixtur white sleek look explor idea discov 2015' best work top trend art art matthia pilsl happi birthday alexand rodchenko work mirror spirit ideal concurr revolut russia artist day peter bastaja see work artistoftheday happi wintersolstic blackbird ram winter thoma lamb learn basquiat' life influenc street art 15 yr old basquiat told father papa will famou one day hbd basquiat artist day radan cicen see work artistoftheday best 2015 saatchi art art ira svobodova see miguel angel nunez' paint new abstract portrait artist day roger colson see work artistoftheday one pictur provok memori dylan mcdermott read icymi 7 happen week art girl power 41 work emerg femal artist art jieun park artist day dasol kim see work artistoftheday photographi make great first invest learn medium experi bogot colombia eye local artist je s leguizamo roberto voorbij combin artist work seri artist portrait learn artist day santosh ch see work artistoftheday honor dylanmcdermott curat onlin exhibit photographi saatchi art golden globe nom jamieleecurti curat stun exhibit photographi saatchi art want miss paul klee' music begin can seen artwork behold certain harmoni happi birthday artist day tim hallinan see work artistoftheday 21 creativ idea assur show best wrap gift imag via dominomag canova' classic meet forc travi durden' digit composit starwarsforceawaken go beyond frame traci kerdman' gender bend portrait artist day angela manno see work artistoftheday readi theforceawaken check stellar artwork featur familiar face meet andi allen whose landscap combin digit organ lot paint anonym backdrop drama word ed ruscha happi birthday ed artist day mike newton see work artistoftheday make gift give extra special 21 creativ gift wrap idea artwit art line around thought klimt see new work inspir style t moat artist day malek salah see work artistoftheday start buy invest art final chapter guid sadden hear pass artist tagze see one last piec auction benefit shpchariti silenc noell oszvald see week' new portrait abstract artist day paul wright see work 7 thing know week art 3d render famou work art creat unseen art project way make art inclus artist day dorian allworthi see work plan transform picasso' former school barcelona upset local learn learn pantone' two color year celebr equal art jenni cheng tien li happi birthday edvard munch 1891 exhibit melancholi elicit controversi call degen art artist day robin feld see work spoke design vanessa alexand love photographi cy twombl cycl start end previou cycl luciano de liberato read artist day philip swan see work despit larger life size figur fintan magee' mural remain relat human sensual poetic love new select contemporari nude art patrick palmer learn deeper mean behind pantone' two color year artist day luci jirku see work lucian freud spent 4 000 hour seri portrait mother 1970 happi birthday lucian mantlepiec without art make mantlepiec order origin art today receiv time holiday explor giftguid pictur creat also destroy luca s ra r zsa learn artist day paulo moreira see work curat offer tip gift art holiday place gift order 12 9 readi start buy invest art first read part 7 guid find fashion gift love one alway trend giftguid toma harker artist day lara cobden see work experi kent uk eye local artist sandi dooley singl block carrara marbl bernini finish martyrdom saint lawrenc age 15 happi birthday congrat tommy_ingberg whose work featur cover b amp w mag discov work check week' new portrait abstract art robert bubel artist day ronan bow see work love nutcrack tchaikovsky' belov holiday ballet illustr seri 10 collag easi ide decor time festiv light artist day liviu mihai see work artistoftheday vienna' winter palac transform olafur eliasson' latest contemporari explor baroqu grandeur discov new neon illumin art happyhanukkah art alessandra azambuja artist day magdalena krzak see work artistoftheday color power directli influenc soul kandinski happi birthday titti garelli' girl caught childhood adulthood learn artist day ruiz villar see work artistoftheday love pantone' coloroftheyear find perfect artwork match vanessa uher start buy invest art part 5 guid grant foster strap gift idea allow special curat giftguid help charlott evan meet bartosz beda whose work explor mark make tactil natur paint artist day hye jeon kim see work artistoftheday follow us instagram follow along see exclus photo miamiartweek miami abmb follow saatchiart instagram exclus coverag plu explor hot new artist discov venic beach seen eye local artist isabel alford lago artist day andi wait see work artistoftheday time video art race america complex contradict black artist new york time saatchi art' best 2015 come discov 51 new work hot contemporari artist time miami art week kevin stuart sailor' spirit ilya volykhin explor new portrait abstract art artist day victor van de land see work artistoftheday great see artist past artistoftheday viethatranart today' vietnam news photographi tortora travezan found holiday gift guid last chanc use cyber20 20 frame print use friday15 15 origin art marina abramovic' perform work explor connect disson mind bodi happi birthday enjoy 20 frame print cybermonday use cyber20 checkout anni terrazzo one day save 20 frame print use code cyber20 artist day yvonn duval see work artistoftheday art save way cybermonday find gift art koen lybaert saatchi art staff spoken favorit work 2015 see art oneyung kim jame rosenquist' 86 foot long f 111 reflect war cultur consum societi happi birthday jame artist day drew gaffney see work explor origin art 250 enjoy extend 15 offer code friday15 traci cheng' etheri landscap involv layer manipul paint line extend black friday offer enjoy 15 origin art code friday15 mike dempsey use intervalomet captur multipl shot freez time moment defi graviti artist day karen clark see work artistoftheday save 15 origin art use code friday15 limit time offer art andrew salgado take 15 origin art black friday use code friday15 checkout shop art gift skip mall mad save 15 origin art use code friday15 art iva troj today underwat photog giselelubsen offer special rate use friday15 15 7 tip creat inspir entryway thank support artist year enjoy 15 origin art code friday15 take 15 origin art black friday artist day june forster see work artistoftheday meet 19 emerg artist buy now thank yatzer includ rabbit 00 artist kim byungkwan indulg enjoy limit time save art black friday detail come art ruthi v interest make work elicit feel kara walker happi birthday kara artist day josh bow see work artistoftheday miss mall mad keep eye exclus black friday save mirjana barkov still search perfect gift look ultim gift guid alexandru crisan' photo athen part collect architectur photographi chief curat rebecca wilson buy art 'filthi rich' via money curiou buy art onlin associ curat break cost benefit explor new work 20 artist rise includ j no huszti artist day ami fuk see work artistoftheday kick cop21 pari obeygiant' earth crisi eiffel tower instal imbib deeper mean happi birthday toulous lautrec work immort montmartr late 19th centuri glimps day nyc life artist thoma hammer artist day matchoro guy see work artistoftheday stay tune top trend year art rebecca wilson' best 2015 art mari elain lalond evok spirit season thanksgiv decor tip design lesli hunt decor interior people' live read q amp explor new portrait abstract includ australia' joann duffi artist day kinu kamura see work artistoftheday bell ball bridget davi cyber monday save horizon 7 thing know week art fact look art can make us feel better learn art david storey artist day sandra encaoua see work artistoftheday robot world open 6pm today come see 8745 w washington blvd culver citi robotworld churchoftyp leepirozzi churchoftyp gertrwd smaller apart lie follow punch extort robotworld just want make stuff peopl shop everi day 9am midnight get dog just fun churchoftyp kevin' work new york space lot smaller one la robotworld churchoftyp gertrwd ralph your gonna trust kevin bradley churchoftyp ralph lauren sketch creat eye particular piec stay tune black friday save art mauric sapiro sungseok ahn perfectli line past present photograph seri histor present join saatchi art kevin bradley today 2 3pm pst lead tour robotworld artist day uwe langmann see work artistoftheday learn robotworld join artist saturday tour fun art inspir gift artwar thank shout tislaurapearson gabriel daw use 60 mile thread creat indoor rainbow instal renwick galleri washington dc anyth unsettl involv figur find way paint traci kerdman artist day ximo ga n see work artistoftheday watch learn kevin bradley' church type join artist saturday carl kahler' wife s lover 1891 auction 800k explor afford option observ artwork can effect brain fall love learn artist day lola mitchel see work artistoftheday kevin bradley will lead tour robotworld exhibit saturday rsvp hula' latest portrait will melt chang climat see work saatchi art dazzl guest festiv thanksgiv tablescap imag stylemepretti rhythm skateboard inspir one artist meet anya innokenteva artist day nigel prabhavalkar see work artistoftheday direct contact artist materi origin noguchi bornonthisday 1904 join saatchi art gertrwd tour robotworld led artist kevin bradley rsvp find gift mid centuri modern lover life robert von bangert giftguid artist day sandi welch see work artistoftheday now open question edward goldman question definit collector fiction real thing call saatchi art stefan sean content artandtechnolog stefan broad museum great citi la mausoleum past artandtechnolog free attend great metric stefan internet give us structur breakthrough institut system artandtechnolog stefan museum attend just care popcorn show artandtechnolog last time cnn show great museum show moma never last time cover auction sale last week peopl care art today just wealthi peopl artandtechnolog debat interest ordinari peopl worth care 1 artandtechnolog sean amp stefan disagr kim kany go art basel mean go open gucci artandtechnolog get heat send us question q amp saatchiart artandtechnolog big artist futur defin term giant past stefan artandtechnolog find 'the best significant' reduct process pair small audienc make art world ever smaller sean defin art market christi sotheby' fine understand small sliver sean artandtechnolog whale alway whale alway larg movement even ocean choic stefan artandtechnolog philosoph econom econom artandtechnolog know technolog chang world now look cultur product chang distribut stefan profession amateur differ flipper dealer base finit product carlo artandtechnolog exclus via earli inform democrat access price artrank artandtechnolog help art flipper say carlo photographi exist know without creation limit edit print scarciti jori finkel artandtechnolog time space compress data content mass media situat like film music say stefan simchowitz artandtechnolog carlo rivera say rise jpeg instagram progenitor art market today opaqu anymor artandtechnolog sean moriarti talk free flow info rise visual web key fundament shift drive art world artandtechnolog one hour artandtechnolog panel underway see soon check new week paint mike serafino culture_list thank much interest go sign tonight' waitlist culture_list tonight unfortun sold pleas sign newslett visit futur event excit panel tn helmsbakerydist curiou topic let us know futur use artandtechnolog pari persever fall auction week art recap see robotworld kevin bradley churchoftyp tonight artandtechnolog talk monotyp kevin bradley churchoftyp show robotworld view onlin monotyp kevin bradley churchoftyp show robotworld view onlin artist day alan alldredg see work artistoftheday fall love holiday gift idea lover paint anna mcneil giftguid solidar artist pari see work citi light prayforpari happi birthday georgia o'keeff alfr stieglitz took photograph paint 1918 artist day gabriel mauru see work artistoftheday gift anim lover film buff giftguid learn download free copi guid painitng john tierney open tonight robotworld featur kevin bradley' churchoftyp rsvp free entri perhap owe becom painter flower monet love impressionist style artist day christina penros see work artistoftheday pray pari join us tomorrow night open recept robotworld churchoftyp rvsp sure get person alway snap pic food edi nadelhaft enter world ron piller learn abstract composit artist day ilya volykhin see work artistoftheday see new exhibit kevin bradley s churchoftyp use handset letterpress techniqu thank stop kelli puissegur delv world cheeki paint find art gift anim lover life paint clara bastian giftguid parisphoto2015 underway spotlight excit artist citi light 7 essenti step collect art read part 2 free guid paint jona fisch artist day oonju chun see work artistoftheday saturday night la join us robotworld churchoftyp rsvp find art bradley wood gift giftguid look new way display littl odd end creat cabinet curios belong school simpli want someth person self vuillard bornonthisday artist day david aston see work artistoftheday need gift tri giftguid photographi martin stranka meet ryan mcgennisken whose work influenc decay chao experiment etho find art gift everyon list special curat holiday giftguid artist day julia gajewska see work artistoftheday explor 46 new work emerg artist includ sunyoung hwang artist day michael grecco see work artistoftheday week art case miss get free guid 7 essenti step collect emerg art art ysabel lemay charl demuth' saw figur 5 gold evok imag firetruck speed citi street hbd artist day martin wojnowski see work artistoftheday see quayola' pleasant place gloweindhoven digit reinterpret van gogh' provenc paint design christin markato low talk us love art enjoy 15 spend 150 frame print use code prints15 return artist day ira upin see work artistoftheday 10 reason love figur art paint andrey bogoslowski peek insid anna hymas' studio learn work figur tamara kvesitadze' move sculptur pass inspir tragic 1937 love stori artist day roo van der vliet see work artistoftheday thank photograph stephanievova stop check stun work big news just publish amaz guid can download now free other' observ observ one miguel laino read paint artist day tarrvi laamann see work artistoftheday discov one collector first caught art bug portrait david cambria endeavor creat environ embodi foreign familiar sara robert legend guido reni model satan' face cardin g battista pamphilj slander hbd guido artist day tristess seelig see work artistoftheday thank marvelgoddess24 includ saatchiart holiday gift guid visit blog enter win print decor budget check 10 reason love frame print imag wearescoutblog good time websummit last year brought giant gorilla la dublin comic bridg cultur osamu tezuka creator astro boy bornonthisday screamqueen star jamieleecurti curat exclus collect photographi see artist day kristin kossi see work artistoftheday curiou start invest art read part one guid art robert bubel toskaoscar wow great detail explor new portrait abstract paint bradley wood 7 thing need know week art artist day alimi adewal see work artistoftheday buy first piec realiz exhilar experi origin artwork read number repres order disord shown breakdown number shamira nicola artist day mj mcgonagl see work artistoftheday night tree mauric sapiro happyhalloween tonight explor paint photographi sculptur see detail johann vermeer note extravag use lapi lazuli pigment often use sparingli 17th centuri free ship origin art use code halloween end tonight jenni cheng tien li artist day alessandro pagani see work artistoftheday congratul koenlybaert sell 150th work saatchi art week tomorrow free ship origin art restrict appli alex jackson everi pictur show spot artist fallen love alfr sisley join us lo angel nov 16th even artandtechnolog get ticket halloween treat free ship origin art use code halloween kim byungkwan enjoy free ship origin art code halloween explor dark spooki work boo enjoy free ship origin art now midnight halloween art k puissegur artist day adriana carambia see work artistoftheday look special halloween offer weekend kelli puissegur nationalcatday feel like nationalcatweek artoutlawsuk' bad cat fit like dream paint also undiscov ocean hyunju kim discov hyunju artist day j r rochett see work artistoftheday get enough americanhorrorstori visit hotel cortez ish art deco interior get fix franci bacon reinterpret velasquez' pope innoc x portrait much spookier effect happi birthday franci artist day victor stamp see work artistoftheday cecilymendel glad hear everyone' favorit furri creatur honor blackcatday endr penov c' work pictur guid art invest uniniti honor jamieleecurti curat collect photographi us screamqueen pop art look like paint someth look like thing roy lichtenstein artist day daniela carletti see work artistoftheday like work person art advisor associ curat break floral face 6 mina halaj explor new work saatchi art artist day robert schmid see work artistoftheday saatchi art catalog featur hand select work categor style peek insid picasso' alleg first word read roundup find paint just anoth way keep diari pablo picasso bornonthisday artist day jen ole remmer see work artistoftheday miss askacur day read recap find answer burn question luzinterruptus' la isla plastica float portugal' cascai bay show grow issu ocean pollut artist day meme austin see work artistoftheday flip saatchi art catalog learn artist shop work koenlybaert beauti koen detail amaz charl wilkin' collag emul collis peopl cultur emot learn artist day daniel deluna see work artistoftheday congrat saatchi art' narielwalla featur aestheticamag read interview present design spotlight time westedge2015 read q amp chad eisner artist day olga g l see work artistoftheday artist jona fisch grace cover first catalog curiou insid peek look brighten kitchen tri backsplash idea imag via britandco jessica rimondi inspir peopl moment real live feel memori read artist day micosch holland see work artistoftheday see entir saatchi art catalog visit behind everi work saatchi art artist stori discov catalog artist day heik schmidt see work artistoftheday discov emerg artist amp stori behind work saatchi art catalog neither paint sculptur music poetri truth creation umberto boccioni louijov oh issu resolv now look know curat help find art accord style budget learn artist day sander stein see work artistoftheday explor 50 new portrait emerg artist world includ s j emberton subject paint paint william kendal learn 7 thing happen week art illiter futur will person ignor use camera pen l szl moholi nagi artist day mathia duhamel see work artistoftheday 5 easi step modern minimalist style curators' guid uk' excit artist friezeweek radan cicen artist day jame knowl see work artistoftheday denis prince' photo construct new mean read interview beyondthefram 8 artist need know now includ new york' sarah faux artist day muriel napoli see work artistoftheday london guid uk' excit artist friezeweek buy origin art chief curat weigh sander stein artist day jane michalski see work artistoftheday friezeweek london underway spotlight london' excit artist happi nationaldessertday indulg paint sandi welch make surfacetensionshow see show onlin sarah faux artist day dongwook lee see work artistoftheday incorpor rug d cor stylish updat check 9 idea 1 000 umbrella compris instal kaisa berri timo berri finland' habitar fair artist day lili greenwood see work artistoftheday caption happen kelli puissegur' latest paint explor new work keep latest art around world list top 7 artist day adam hedley see artistoftheday drawn minim vibe 45 work monika nguyen surfac tension close today new york stop 345 broom st just boweri surfacetensionshow artist day kirsten handelmann see artistoftheday introduc 8 new artist invest now meet tom pazderka come today surfacetensionshow new york 345 broom street just boweri will open 8pm chief curat rebecca wilson lead tour surfacetensionshow discov 20 emerg artist nyc includ charlott evan artist still child whole life ahead discov creat alberto giacometti artist day bryan ida see artistoftheday thank love sold gertrwd salon surfacetensionshow can join waitlist girl moth sabina sinko featur fresh collect watercolor work thank everyon join us new york last night' open surfacetensionshow come bamfest saturday support local la artist artsiest craftbeer festiv m interest fundament uninterest thing ed freeman peek insid studio artist day m lisa taylor see work saatchi art artistoftheday join us 345 broom street surfacetensionshow good photograph floraborsi drop made first ever earn artist saatchi art 8 young artist watch now see work person tonight surfacetensionshow 345 broom street 6 9pm tonight' night nyc swing 345 broom st 6 9 surfacetensionshow learn columbia exhibit preview chief curat rebecca wilson discuss surfacetensionshow excit present new work america' best art school grad surfacetensionshow yale ucla uwmadison now octob save 10 spend 250 discov brand new art artist day neil rizo see work saatchi art artistoftheday info rsvp visit learn surfacetensionshow open thursday night nyc look touch glamor tri idea mix black gold artist day joubert isabel see work saatchi art artistoftheday hieronymu bosch' famou triptych get modern spin part seri boomart1 alex jackson featur surfacetensionshow open thursday nyc rsvp artist day qai al sindi see work saatchi art artistoftheday giannina nadezhda gordyushina explor brand new art artist day d niel bern th see work saatchi art artistoftheday one must abl use trivial express sublim true power jean fran oi millet bornonthisday love express nude check 48 work art patrick palmer list 7 thing happen week art artist day elyc abram see work saatchi art artistoftheday save 15 work californiagirlsshow offer expir midnight use caligirl today save 15 buy art californiagirlsshow use caligirl discov work excit new art school grad surfacetensionshow rsvp thank follow saatchiart enjoy 15 art californiagirlsshow use caligirl artist day peter de boer see work saatchi art artistoftheday afraid fall love peopl anni leibovitz happi birthday anni photographi artist founder realizemagazin ellari eddi share favorit work saatchi art artist day heurlier cimolai fr d ric see work artistoftheday join saatchi art nyc surfacetensionshow octob 8 rsvp artist duo telmo miel' latest mural norway' ugang graffiti project larger life gestur trace feel mood touch central tomasz cichowski' paint learn artist day krzysztof wladyka see work saatchi art artistoftheday last now can see artwork multipl angl buy art william lachanc rule art born helen frankenthal helen nyc studio ernst hass 1969 artist day diana taylor see work saatchi art artistoftheday revamp bedroom color fall simpl idea photo via westelm happi birthday caravaggio 1598 version judith behead holofern exemplifi trademark chiaroscuro artist day chri veeneman see work saatchi art artistoftheday tfw new art enjoy traci kerdman artist day athena petra tasiopoulo see work artistoftheday week' 7 best artwork exhibit recap refik anadol' instal transform viewer' conscious immers light manipul environ artist day david wasch see work saatchi art artistoftheday interest celebr space cesar azcar learn thrill partner malibu mag special benefit show therasurf tell stori word need lug around camera lewi hine bornonthisday artist day han peter trauschk see work saatchi art artistoftheday explor brand new work 20 artist rise martin gerstenberger' birth superhero goe perfect nationalcomicbookday art need rejuven new experi new blood mark rothko bornonthisday artist day katherin treffing see work saatchi art artistoftheday icymi 7 thing happen week art love greggchadwick come talk us saatchi art today artist process made paint need weekend plan swing helmsbakerydist present art good caus detail make space idea display art unlik space artist day lesli laasner see work saatchi art artistoftheday keep eye paola correa de albury' paint tonight' modernfam premier happi fall explor new work gold amber lumin shade fall iva troj sat jealouscur get scoop californiagirl open tomorrow night artist day halverson frazier see work saatchi art artistoftheday 50 small scale work prove sometim less art doug frohman rsvp open recept 6 9 pm lo angel artist day gloria green see work saatchi art artistoftheday explor latest collect brand new art portrait larissa eremeeva artist day cristian ienciu see work saatchi art artistoftheday peek insidethestudio karin hay white whose abstract work inspir architectur th odor chass riau complet portrait two sister just 23 bornonthisday barbara fellner' collag part tv inspir collect just time emmys2015 artist day susan washington see work saatchi art artistoftheday 7 thing exct week art guardian' send brian sewel 'britain s outspoken art critic' meet canva discov new art cultur d cor expert tip behind scene stori take 10 order 750 code timeless discov new art art patricia derk love figur art 10 reason artist day matthew spencer see work saatchi art artistoftheday artist make art question whether permiss one thing anoth sol lewitt check john kilduff' burger creation nationalcheeseburgerday happi nationalcheeseburgerday john kilduff' join two american classic burger burt reynold artist day staci u rose see work saatchi art artistoftheday lot amaz art westelm la come join us dig berryfields_la bentenbowl color like life contain fine nuanc matthia pilsl discov emerg artist rapha lle martin slightli tweak magritte' paint turn anim gif artoutlawsuk wow lucki collector discov berlin s hottest emerg artist time abcberlin art luka mouka artist day patric palacio see work saatchi art artistoftheday andrea patri s expressionist work nod ingr la grand odalisqu see new nude fun thank send question rebecca askacur day come year listen year round elaulhealey lot excit work eastern europ south korea askacur uncurleev 2 2 good invest elev transform home askacur uncurleev 1 2 mani collector someth specif mind tri match work brief propos work feel curat onlin art galleri lot peopl assum m robot rw r_a_holland work anyon make interest work even famou artist one point didn t much show cv stef_leon someth seen sens artist s signatur style come togeth great idea brilliant execut paschamo add new work portfolio keep inform updat spread word social media askacur letsgetmeshi 2 2 make fantast work introduc work peopl share enthusiasm extrem gratifi letsgetmeshi 1 2 love discov new artist passion help talent artist alway find galleri rep irenes_art paschamo titl work entir plenti artist leav work untitl prevent sell uncurleev 2 2 import fill profil info unlik collector will buy artist s work w know uncurleev 1 2 look work saatchi art tri featur wide rang work differ medium differ price tmtweetz 2 2 ship work 70 countri last 6 mo enabl artist connect global audienc sell work tmtweetz 1 2 connect global audienc opportun peopl buy work curat discov askacur art fruit grow man like fruit plant child mother' womb han arp bornonthisday rebecca wilson will answer question art contemporari trend ask now tune 1 2pm pdt join saatchiart today 1 2pm pst chat live chief curat art askacur artist day jeroen molenaar see work saatchi art artistoftheday discov 10 reason love figur art photo design chaser tune tomorrow 1 2pm pst chief curat answer question art repli ask askacur johnhurley hi repli question art trend etc chief curat will answer tomorrow join saatchi art amp westelm even art design thursday l rsvp artist day tijana titin see work saatchi art artistoftheday question art send saatchiart now hashtag askacur answer 9 16 1 2 pst structur new paint je s leguizamo discov new art artist day roberto voorbij see work saatchi art artistoftheday jakub geltner remark satur surveil place group secur camera unlik public space recap 7 thing happen week art happi birthday robert indiana icon love sculptur can seen print stamp bumper sticker artist day hester van dapperen see work saatchi art artistoftheday hula sean yoro paint mural surfboard discov excit artist rise wsj' annekadet tri art advisori servic went question chief curat trend invest art send saatchiart askacur artist day carolin wright see work saatchi art artistoftheday outcom hope today better luck next year serena stillthegreatest paint juan de la rica theme becom opportun explain emot paolo damiani peek insid studio r_a_holland ye ask away includ saatchiart askacur upgrad home librari dull dazzl qai al sindi paint refuge cardboard underscor sad realiti displac artist day liu ting see work saatchi art artistoftheday askacur rebecca will answer question art invest trend work advisor advic next wednesday saatchiart chief curat rebecca wilson will answer question askacur day join us send question deborah stevenson s wari includ fresh collect collag histori art histori artist mariann von werefkin bornonthisday 1860 artist day patricia kaliczka see work saatchi art saatchiart photographi falk kastel explor latest collect see contemporari work inspir favorit old master hula sean yoro bring realist portrait life surfboard amp learn surreal pictur noth real made eeri vision brasa bornonthisday 1899 artist day cameron holm see work saatchi art artistoftheday la join us even art design westelm sep 17 info rsvp visit thank love sassyitalian41 beauti art work saatchi art 16 way display book art internationalliteracyday happi intern literaci day collect book lover karen whitworth artist day ashley cunningham see work saatchi art artistoftheday subject strong simplic way treat jacob lawrenc bornonthisday 1917 discov brand new art includ jessica rimondi' garden eden artist day alex diamond see work saatchi art artistoftheday peek insid studio rose masterpol learn energet abstract work last chanc save 15 spend 500 use code laborday art william kendal want make pictur fantast took anoth world david lachapel artist day claudia bormann see work saatchi art artistoftheday weekend spend 500 save 15 use code laborday roundup week art includ excit new featur saatchi art see sublim landscap inspir caspar david friedrich' romant style alessandro passerini stay alon order fulli contempl feel natur caspar david friedrich bornonthisday 1840 artist day diana delgado see work saatchi art artistoftheday celebr long weekend enjoy 15 order 500 code laborday art mj mcgonagl katrin belling built uniqu collect focus theme 'the artist work' creat ink pen map human face blend typograph mountain road ed fairburn' portrait artist day ula dzwonik see work saatchi art artistoftheday labor day weekend special enjoy 15 order 500 use laborday shop now gt firewood brian oldham seem artwork inspir burningman case miss roundup 7 thing happen week art tilen ti s live watercolor jump page see work artist day miquel wert see work saatchi art artistoftheday honor jonathan franzen' new book look tradit symbol puriti inspo artist cecilia pared seamlessli blend landscap surreal blur line realiti saatchiart hayley stand front paint clair desjardin design meet new best friend hayley miner director art advisori trade interest peopl can manipul societi l szl m th learn artist day vievil jean pierr see work saatchi art artistoftheday draw design inspir surrealist idea sadden hear pass noah davi visionari painter founder underground museum love moodi color paint robert bubel brows new landscap artist day naoko tosa see work saatchi art artistoftheday sinc m inarticul express imag helen levitt bornonthisday stay happen week art check top 7 thing javiera estrada see martin stranka s photograph latest select week s new work artist day hooshang khorasani see work saatchi art artistoftheday warm tonight s vmas2015 collect music inspir art art chari felic go insid artist jenni hager s studio learn inspir artist day elsa salonen see work saatchi art artistoftheday see collect inspir summer s must see hit straightouttacompton anyes_galleani fieri work inspir burningman kick weekend photo bojan jevti jean august dominiqu ingr 1814 la grand odalisqu critic lack anatom accuraci artist day travi k schwab see work saatchi art artistoftheday congrat ellapitr stun feat week complet world s largest mural 4 day nuart2015 thoma robson add expressionist touch fluid pigment seri happi birthday ai weiwei love 2007 fountain light artist day hild provoost see work saatchi art artistoftheday need roundup happen week art got cover see collect work inspir man ray' surrealist style paint tamaz avaliani creat divin reproduc human man ray bornonthisday artist day carla ciuffo see work saatchi art artistoftheday even way display polaroid jack sutherland explor vagu loneli paint check work artist day jean philipp brunaud see work saatchi art artistoftheday don t miss fresh select photographi includ 'hypercollage' ysabel lemay love scandi design pair art latest collect cohes look art alway raft onto climb save saniti dorothea tan bornonthisday artist day yong sin see work saatchi art artistoftheday 7 thing happen week art dystopian wasteland stark contrast theme park cheer banksi s dismaland faint heart 50 new artwork note includ paint moham sami artist day stuart mcharri see work saatchi art artistoftheday 21 way display loos photograph part take peek insidethestudio stephen row artist day robb damman see work saatchi art artistoftheday fill life art limit time save 10 code upgrad check spotlight scandinavia time chart2014 paint henrik uldalen photograph interest want captur minut part realiti henri cartier bresson artist day amber devetta see work saatchi art artistoftheday discov art south korea' woojung son realli draw folk see fault fall certain line angl aubrey beardsley curat hayley miner break basic scandinavian design photo vkvvisual art copenhagen week highlight emerg artist scandinavia artcph artist day claudio missagia see work saatchi art artistoftheday clairedj nope great though info project brooklyn artist commiss creat mural construct fenc forthcom residenti complex artist day arturo samaniego see work saatchi art artistoftheday hope peopl can freeli imagin work woojung son 7 thing know week art paint anna madia floor scraper 1875 gustav caillebott deviat tradit heroic depict male nude artist day giorgia siriaco see work saatchi art artistoftheday 10 creativ way display photo without frame photo art ekstrax check 75 must see abstract work includ javiera estrada s love air artist day jack sutherland see work saatchi art artistoftheday foxivonriga welcom foxi creat salon style wall art 7 thing know week art paint hanna ilczyszyn natur visibl eye also includ inner pictur soul edvard munch discov sandi welch s matiss inspir paint new art week artist day amanda wigglesworth see work saatchi art artistoftheday weekend offer save 10 art everi room code upgrad paint diana roig enjoy bright sunni sky matter weather benjamin l zninger s cloud project citi street worldwid artist day vito bonanno see work saatchi art artistoftheday see dario moschetta s paint new collect figur art cai guo qiang s sky ladder burn bright china' huiyu island harbour 2 minut 30 second week look point symbol union sky earth carl azc n jutgl artist day pouk halpern see work saatchi art artistoftheday kiss amp make june kim one latest artwork inspiredbyemot see chief curat rebecca wilson share 5 favorit thing designmilk stuck redesign rut let westelm help learn complimentari servic excit comptonmovi open weekend s straightouttacompton erick laubach artist day trisha lambi see work saatchi art artistoftheday suzann victor s rainbow circl spur natur phenomenon aris within close door galleri wall simpl way reinvent space check idea artist day neil powel see work saatchi art artistoftheday sharon_h_kenni thank write us featur artist turn peopl human be make god imogen cunningham like creat art uniqu charact place strang space meet alexandru cinean check wladimir moszowski featur spotlight belgium artnocturneknock artist day lesli sheryl see work saatchi art artistoftheday decor ombr easi way week' best exhibit recap icymi artist day robert szot see work saatchi art artistoftheday love ombr saatchiart design pro hayley miner explain make work home check carlyraejepsen' latest select inspiredbyemot art collect collis kiss familiar new carlyraejepsen inspiredbyemot artnocturneknock underway re turn spotlight belgium s hottest artist chief curator' latest weekli select miss artist day tamara wasserman see work saatchi art artistoftheday 7 thing know week art stephen mcmennami mix two imag form one delight surreal mashup via booooooom 50 black amp white artwork perfect hang galleri wall artist day tavi lochhead see work saatchi art artistoftheday layer tull delic pleat sew stack make benjamin shine s instal entitl danc wesandersonartshow open weekend nyc see tribut director' aesthet artist day helio lucida see work saatchi art artistoftheday next 3 artwork inspiredbyemot reveal see carlyraejepsen' pick see long intimaci look paint carlyraejepsen inspiredbyemot artist need know much best let work instinct emil nold bornonthisday can t make wesandersonartshow weekend nyc discov work saatchi art artist day eduard zentsik see work saatchi art artistoftheday shout detail includ us list best place buy art onlin s easi tip spruce offic art peek chic offic greycroftpartn featur origin work saatchiart artist _lzbt ye favorit curat drew inspir andi warhol pop art new collect matter slowli go long stop andi warhol happi birthday andi artist day bonni chan see work saatchi art artistoftheday work person curat help find art fit style budget bohemian pattern perfect way spice space check idea learn artist jess black person journey freedom artist day carlo vanchieri see work saatchi art artistoftheday happi birthday paul mccarthi still love tree shock pari holger lippmann design tradit uzbek silk pattern use comput code lion alway wind laurent baheux tribut cecil lion artist day tami bone see work saatchi art artistoftheday trust littl voic head say 'wouldn't interest duan michal happi nationalwatermelonday notic anyth differ one learn erin hanson' color landscap present new take impression latest new week collect featur limit edit photo ed freeman artist day stuart dodman see work saatchi art artistoftheday happen week art recap duan hanson' incred life like sculptur depict american life now view serpentin galleri uk curiou street art began s brief histori artist day michel tragakiss see work saatchi art artistoftheday agata ychli ska imbu deeper mean ordinari moment put art best advantag use black amp white find art everi room saatchi art limit time save 10 code upgrad artist day jiri havlik see work saatchi art artistoftheday artist suggest art carli inclus inspiredbyemot info visit introduc inspiredbyemot special collabor carlyraejepsen amp saatchiart artist day yuliya martynova see work saatchi art artistoftheday artist jean jacobi award 2 olymp gold medal work 1920 learn latest collect prove street art isn t just street art go sleep bed made jean dubuffet bornonthisday artist day jean paul martz see work saatchi art artistoftheday want counter objectif women imageri turn head matt molloy digit layer multipl exposur photo impressionist effect via booooooom s happen art around world read recap artist day zhongwen yu see work saatchi art artistoftheday record casual life eat wash hair watch tv give deeper mean check work inspir jenni holzer saatchi art project jenni holzer happi birthday jenni artist day mandi racin see work saatchi art artistoftheday mexican govern hire street artist germen crew bring beauti violenc striken citi palmita s checklist thing consid buy first paint forc contradict order avoid conform tast marcel duchamp bornonthisday artist dati eddi love see work saatchi art artistoftheday alrazza1 anyth art furnitur find work love latest select new art want make pictur stand william eggleston bornonthisday histori art olymp explain includ saatchi art link artist day casper johansson see work saatchi art artistoftheday 7 thing know week art riseupla johntierneyart jessblackart specialolymp love fall christian richter explor new photographi saatchi art artist day ben edmund see work saatchi art artistoftheday christoph schrein' untitl paint adorn lincolncenter' festiv poster saatchi art s jessblack offici artist specialolymp kick weekend la snag print circl inclus saatchi art proce benefit specialolymp know olymp use give medal art look back art game big artist keep eye natur steal tool thoma eakin artist day rogan brown see work saatchi art artistoftheday purpos work never destroy alway creat alphons mucha bornonthisday transport tiki oasi without ever leav home s artist day heiko hellwig see work saatchi art artistoftheday go insidethestudio christoph schrein learn creat fluid abstract yoo hyun use x acto knife tweezer hand cut intric portrait can tell whose like struggl arrang open plan space read decor tip get start artist day ichiro yamamoto see work saatchi art artistoftheday blue ocean henni van de land check abstract saatchi art come improvis edward hopper bornonthisday artist thing perfect alexand calder bornonthisday root film noir explain hold next week' truedetect artist day meirav sher see abstract work saatchi art artistoftheday five thing look buy art onlin chief curat divulg peregrin church use water resist sealant creat work art visibl rain artist day david lyle see work saatchi art artistoftheday case monday check new artwork get inspir hjmtoday wow love harri need art can help us see world peopl s eye judi chicago happi birthday judi artist day daria bagrintseva see work saatchi art artistoftheday trailsandway love album cover artist dega klimt need know week art artist day tomasz cichowski see abstract paint artistoftheday art see make other see edgar dega bornonthisday week art recap icymi look house' reflect river see ray barktu mural come life amsterdamartist consid upload work iprincessbitch ye think behind poetic escap sunnier clime matter season beach fresh decor idea bridget davi paint figur inspir 1940 50 fashion draw artist day young sung kim see hyperr paint saatchi art decontib60d hi beatric can see endre' work click must get heather goodwind thestruggl antman love stop nateberku offic talk art hatti_pattisson thank hatti part commun photographi help peopl see berenic abbott bornonthisday soap bubbl 1946 artist day hatti pattisson see work saatchi art artistoftheday color conceptu art learn stori behind yve klein s signatur blue colorstori endr penov c s paint cat boszi furri glori artist day gabriel walter see work saatchi art artistoftheday one kind work made especi learn commiss art art louijov heather goodwind give form emot aspect interact one' environ choos one master natur rembrandt bornonthisday artist day sarah bishop see work saatchi art artistoftheday brighten home summer vibe year round art line around thought gustav klimt bornonthisday artist day ernest sebastien see work saatchi art artistoftheday brooklyn base graphic design victoria siemer turn world around us head discov fresh select brand new artwork jon_jacobsen love jon artist day patsi mcarthur see work saatchi art artistoftheday fall love paint discov sold consid commiss learn love clair brewster' birds' eye view wimbledon check happen week art function art struggl oblig amedeo modigliani bornonthisday artist day jeremi zirnheld see work saatchi art artistoftheday color stori yve klein s intern klein blue love intersect andrew fish summer citi use code refresh 10 art purchas 500 paint intuit let one color guid next lisa carney insidethestudio artist day bojan jevti see work saatchi art artistoftheday solitud simplic alon natur clear head koen lybaert street art evolv decad brief histori paint essenti charact thing camil pissarro bornonthisday artist day jean paul martz see work saatchi art artistoftheday artist hottea transform roosevelt island privat pool color oasi asylum instal prefer live color david hockney happi birthday david artist day suzann scott see work saatchi art artistoftheday sharki jonathan will sharkweek2015 happen ambit collid landscap support jacob broussard look life eye child k kollwitz bornonthisday artist day rene zangara see work saatchi art artistoftheday digniti artist lie duti keep awak sens wonder world marc chagal take trip belgian countrysid artist koenlybaert discov brand new art select chief curat artist day todd clark see work saatchi art artistoftheday design inspir inject home vibrant color textur mexico fridakahlo never paint dream paint realiti frida kahlo happi birthday frida artist day henni acloqu see work saatchi art artistoftheday last chanc save 15 purchas 500 enter fourth shop now paint s dooley though pridemonth one rainbow 365 day year saatchiart look save ship cost filter search art countri close tip filter search art countri discov takahiro kimura other japan weekli roundup happen week art icymi infinit thing m investig je s rafael soto bornonthisday artist day sarah giannobil see work saatchi art artistoftheday end tomorrow take 15 500 purchas origin art use code fourth checkout happi 4thofjuli go red white blue new collect art happi 4th juli sunday take 15 art purchas 500 shop now mania endr penov c' cat continu thank coloss artist day amanda krantz see work saatchi art artistoftheday think origin art overr chief curat will convinc otherwis askrebecca plastic tree pascal marthin present plastic beauti symbol danger consumer sunday take 15 art purchas 500 enter fourth checkout baklan artist day mario rossi see work saatchi art artistoftheday join us insidethestudio carlo san milan talent lie fact touch camera without express andr kert sz bornonthisday artist day felix hemm see work saatchi art feel heat cool poolsid alexandra gallagh artist day marcu bowcott see work saatchi art artistoftheday art kid room gift keep give spanish artist pejac recreat hokusai' great wave tribut work women recent visit japan artist day traci hamer see work saatchi art artistoftheday empti canva live wonder far loveli certain pictur wassili kandinski c 1926 brighten monday art see new saatchi art case miss 8 thing know week art artist day john clark see work saatchi art artistoftheday judgement pari 1606 peter paul ruben bornonthisday art artist day eric mai see work saatchi art artistoftheday ben butler creat wind grid 10 000 stick poplar wood allow shape take form organ proud sponsor jealouscurator' weekli podcast art ear ask us offer subscrib artist day norm yip see work saatchi art artistoftheday download app new curat collect like one celebr pride month lovewin pjezak upload new work rebecca will see go studio everi day even inspir work christo tsimari internet abl help transform artist live someth passion saatchi art sbf15 abl dive anyth import start new busi say rebecca even job sbf15 curat rebecca wilson discuss 50 000 emerg artist sell saatchi art day see 1k new work sbf15 chief curat rebecca wilson speak women founder panel silicon beach fest sbf15 discov new surreal photographi saatchi art artist day matthia pilsl see work saatchi art artistoftheday excel lineup silicon beach fest keynot demandmedia' sean moriarti tomorrow 10am tune sbf15 new blog associ curat kat hen explor root neo noir truedetect said say now scream kay sage bornonthisday stellakapezan work featur pride month collect saatchi art app artist day sabin bachem see work saatchi art artistoftheday excit see katarzyna wisniewska' work featur vogu see work saatchi art meet artist whose work hang home designmilk editor jaimederring dibblepaint thank kind word matthew pleasur well artist day matthew dibbl see work saatchi art artistoftheday paint passag chao emot order possibl balthu feel sluggish work liven offic art idea artist day randal david tipton see work saatchi art artistoftheday man made structur reflect sky iranian artist shirin abedinirad s heaven earth instal love new paint david cambria see chief curator' pick week artist day katia iosca see work saatchi art artistoftheday need recap see roundup 8 thing happen week art happi father' day love work rosaria onotri artist day suzi babington see work saatchi art artistoftheday buy art onlin check 5 thing askrebecca medium unimport essenti form kurt schwitter bornonthisday artist day larri graeber see work saatchi art artistoftheday tri keep flow spontan movement work becom static sharon brill return buyer use code loyal checkout 10 next purchas 2500 artist day teresa fernandez moujan see work saatchi art check guid 25 eastern europe' emerg artist handpick rebecca wilson natur architectur intersect azuma makoto' bonsai tree instal abandon warehous belgium artist day stephan villafan see work saatchi art artistoftheday bedroom wall look littl bare brows collect art bedroom artbyroom la don t miss saatchi art s isabellegorilla made special bike soulbicycl view veniceartcrawl ador chao love produc order m c escher bornonthisday artist day dominiqu lutring see work saatchi art artistoftheday think wallpap dead 10 idea will make reconsid today mark 70th anniversari mona lisa' safe return louvr mysteri hiatu wwii artist day codi bayn see work saatchi art artistoftheday miss weekli gameofthron fix alreadi promis spoiler winston chmielinski repris earlier paint ask origin subject pose artist day richard savin see work saatchi art artistoftheday karenina fabrizzi blur line human natur check studio utter truth essenti stir look camera margaret bourk white bornonthisday make next dinner parti memor art need inspir see top 10 meal film 8 thing know week art artist day traci cheng see work saatchi art artistoftheday know buy first paint askrebecca new saatchi art take 10 first purchas 500 code first see new art artist day erin jade see work saatchi art artistoftheday charlesawint thank love weekend check roundup 10 thing happen week art photo stevenkash jurassicworld hit screen weekend ve got collect art go along pogomcl hello issu happi help solv contact us email support saatchiart com photograph page life case must real weege bornonthisday 10 easi way decor dine room art love 5 apttherapi sky sourc light natur govern everyth constabl bornonthisday artist day ingrid shult see work saatchi art artistoftheday daili commut just got infinit better download jealouscurator' latest podcast art ear 3 wellsleigh welcom love work love paint laurenc jone look familiar creat live art aim gustav courbet bornonthisday artist day minna komi see work saatchi art artistoftheday elev dine heighten experi art dine room collect artbyroom visitor vividsydney experienc sensat insid dazzl kaleidoscop light origami artist day anna bergin see work saatchi art artistoftheday see chief curat s pick week space breath art frank lloyd wright bornonthisday s studio oak park illinoi 44horribled welcom eddi pleas part commun spot saatchi art app logo make appear wwdc15 keynot top app use appl pay brandi_lov thank bring attent investig issu sorri inconveni artist day benjamin cook see work saatchi art artistoftheday copi natur much art abstract paul gauguin bornonthisday artist day gisel lubsen see work saatchi art artistoftheday vincent van vogh s night caf come life gif mackenzi cauley ny stop 2 rivington st meet rebecca wilson see 'bradley wood domesticfictions' view today 11am 9pm artist day christina reiter see work saatchi art artistoftheday jaim found artwork new master bedroom saatchi art work art advisor find art love love designmilk ed jaimederringer' new room design homepolish' mrorlandosoria impression expression know differ stop parasol_proj 2 rivington st le today see bradley wood s domesticfict re 'til 6pm est artist day petra kaindel see work saatchi art probabl born abil draw make artist jame rosenquist start everi day includ egg bacon day life artist bradley wood tonight' night saatchi art present 'bradley wood domesticfictions' detail amp rsvp artist day monica figueredo see work saatchi art artistoftheday sound spot ink imperson sound rain nigel bird learn wish show paint way see thing eye heart raoul dufi bornonthisday artist day karri allrich see work saatchi art artistoftheday design hack display art without damag wall learn design love mid centuri design discov artbyroom full art perfect mid centuri space instal bradley wood show new york domesticfict artist day pava w lfert see work saatchi art artistoftheday see chief curat s latest weekli pick saatchi art spielberg s belov classic jaw turn 40 brows risk collect honor congrat eliseansel whose feast god ii paint includ rasumm 2015 royalacademi artist day eleonora mazza see work saatchi art artistoftheday night write teresita fern ndez aim recreat sensat gaze upon northern light look invest art discov ann mari webb s gestur abstract paint artist day jo o figueiredo see work saatchi art artistoftheday take cubism ad alexand archipenko bornonthisday 1887 pictur seem littl adventur uncertain outcom ute laum learn dlulunam amaraliv shophorn vladkagan gorgeou thank artist day margreet zwetsloot see work saatchi art artistoftheday cheer artist natasha morland amp michael petri donat work soanemuseum exhibit amp fundrais project inspiredbysoan meet artist call slacker vuillard bradley wood domest fiction rsvp june 4 yayoi kusama s interact obliterationroom instal hit u s soil first time davidzwirn nyc drfrankydolan love hear thank part snag andrew salgado s limit edit print avail saatchi art white canva excit thing salgado_andrew watch preview documentari work artist day ami florenc moseley see work saatchi art artistoftheday don t miss exhibit draw sketch modigliani estorick london love beard man seat meet artist call slacker vuillard bradley wood domesticfict artist day anna mcneil see work saatchi art artistoftheday love design art dwellatmetloft room lucinda pac laurelandwolf next week nyc celebr open bradley wood domest fiction join us discov new work 20 artist rise handpick chief curat artist day minaj halaj see work saatchi art artistoftheday sea serv sean yoro s studio balanc surfboard paint hyperr portrait ever wonder like chief curat saatchiart rebecca wilson sat huffpostbiz photographi take instant time alter life hold still dorothea lang bornonthisday bogoslowski love color artist day jadranko rebec see work saatchi art artistoftheday back work blue extend fun art ear first ever podcast jealouscur see s new week saatchi art artist day gavin zeigler see work saatchi art artistoftheday think art control encount control uncontrol richard avedon handpick investinart struan teagu accomplish paint printmak artist day hanna sidorowicz see work saatchi art artistoftheday artist day ron cavedaschi see work saatchi art artistoftheday want make invis visibl anna scheuler peek insid studio one paint pictur know cost time strength mari cassatt bornonthisday artist day sebastian alsfeld see work saatchi art artistoftheday see paint vulner skin hover cling subject jean luc almond landscapist live silenc henri rousseau bornonthisday happi birthday le douanier artist day yong chen see work saatchi art artistoftheday david hockney s photograph draw view annely_juda play perspect combin media round free begin end fernand l ger artist day anna hyma see work saatchi art artistoftheday someth tell us magritt approv check collect faceless portrait steve messam craft fulli function weight bear bridg 20 000 sheet paper van gogh ear rejectedpair artist day chantal van houten see work saatchi art artistoftheday love mesmer portrait alex garant part hold still seri see newthisweek saatchi art visit pasadenashowcas hous yet miss artwork master suit saatchiart artist discov world' excit emerg artist right inbox sign saatchiart newslett artist day brigitt yoshiko prunchnow see work saatchi art duchamp seinfeld set part jon raffman s re creation familiar interior meld famou work art robbopaint turpsbananamag thank suzi babington s whimsic abstract hand pick investinart learn favorit art mag go design rag anyon seen latest elephantmag spotlight nyc great issu artist day sharona eliassaf see work saatchi art artistoftheday miracl make tamara de lempicka bornonthisday can t make fridanybg see work combin thing natur magic surreal frida kahlo s casa az l garden come life nybg s exhibit celebr flora cultiv home artist day denis princ see work saatchi art artistoftheday happi weekend love limit edit photo matthew schwartz sometim see paint time paint see jasper john happi birthday jasper artist day jame watt see work saatchi art artistoftheday darcyeliseryan love fool talk imit copi imit thoma gainsborough see blue boy thehuntington interest upon time life catherin denvir go insid studio artist day stephen pole see work saatchi art artistoftheday see andr kert sz s visual diari kept visit artists' studio europ now view jhymanphoto london suspend key chiharu shiota s instal la_biennal imbu previou owners' memori artist day stella kapezan see work saatchi art artistoftheday observ much import come box joesph beuy bornonthisday 1921 see new saatchi art handpick chief curat bill_stratton wow thank share picasso sold christiesinc record 179m tad steep tri artist day karin bo see work saatchi art artistoftheday saatchiart learn artist gala korr work shoot inspir caseyneistat' snapchat report ferguson michael brown shoot surreal salvador dal happi birthday dal meet contemporari surrealist artist zeroamsterdam excit congratul happi hear sad hear pass chri burden urban light lacma becom la' love public work artist day ines andzejevska see work saatchi art artistoftheday happi mother' day love draw ira van der merw draw form import thing jean l g r bornonthisday 1824 artist day tim fawcett see work saatchi art artistoftheday marina mellado s luz lamp mdesignweek chang color respons mood weather peel back layer layer mean alexand jowett learn live periscop live paint aphroch loung graffiti wall saatchi art artist rodrigo vall brooklyn live periscop art digit age bklyndesign saatchiart aphroch panel begin follow along periscop saatchiart bklyndesign aphrochicloung artist day guido maua see work saatchi art artistoftheday discov work steffen vogelzang latest instal investinart discov amaz brooklyn artist aphrochicloung bklyndesign art saatchiart curat aphroch updat check walk bklyndesign instagram video come soon periscopehelp hi issu log mean artist day sivan sternbach see work saatchi art artistoftheday live walk bklyndesign 12et today follow us periscop watch rodrigo vall paint live brooklyn weekend kick designweek come see us brooklyn expo 72 nobl st work object imag focu look look jame turrel andrea lie s doubl expos photo celebr wilder norwegian homeland find work society6 artist day ira ivanova see work saatchi art artistoftheday artist someth new tell world meet iceland' georg oskar giannakoudaki artist day carolina alotu see work saatchi art artistoftheday indulg thing grey garden bradley wood' decad paint appear random line soon fall orderli arrang viewer navig felic varini' instal artist day kristin thielemann see work saatchi art artistoftheday red color night metgala ivankatrump' look recal anoth ladi throughthelookingglass see chief curat s latest weekli pick dvaughangalleri congrat art everybodi keith hare bornonthisday 1958 artist day steve see work saatchi art artistoftheday madmen near conclus keep 60 vibe aliv art tribut seri unleash bruce banner' green side latest collect avengersageofultron undef maypac artist day evali wagner see work saatchi art artistoftheday ever bought print much origin artwork artist day marli plank see work saatchi art artistoftheday billwscott society6 cheer end era undoubtedli auspici new begin smmoa' last incognito bergamotst sat love work saatchi art s ysabel lemay view parisphotofair la open today one fave local org welcometolac host benefit feat amaz la artist chief curat handpick magdalena lamri investinart seri watch work artist day newel hunter see work saatchi art artistoftheday wish observ listen care tune everi singl behavior illiad sabchi symmetri natur one eye never exactli edouard manet artist day paul cooklin see work saatchi art artistoftheday don t miss two new rare limit edit print andrew salgado see seem mad wake morn someth paint frank auerbach b 4 29 1931 see work marliesplank saatchi art portfolio rusty_rayborn hi artist benjamin cook check work avail artist day elohim sanchez see work saatchi art can t wait theforceawaken check darth vader made 150 creepi crawli world blue yve klein borntoday 1928 see work inspir signatur color progambler47 hi artist ysabel lemay can see work avail artist day wolfgang alt see work saatchi art artistoftheday wire thank profil one artist klaus' work amaz heeseop yoon s mask tape instal drawn free hand photograph jumbl space see chief curator' pick new week popsugarhom ronfeir love help visual art will look wall submit just announc webbi win app won webbi thank help us support independ artist around world see big win webbi artist day too van holstein see work saatchi art artistoftheday artist aim perfect everyth achiev noth eugen delacroix born day 1798 heart go nepal affect earthquak artist day christa hartmann see work saatchi art artistoftheday color liz west s instal meant evok differ psycholog respons viewer allow colour breath occupi space bridget riley happybirthday op art artist day patrick gonzal see work saatchi art artistoftheday support artist around world buy origin art saatchi art alfonso batalla' photo invit viewer contempl surround learn paint take brush full paint faith willem de koon happi birthday artist day maria lizunova see work saatchi art artistoftheday find fenc digit physic world benjamin cook busi paint see know jmw turner love turner kirstinmccoy thank artist day becki roesler see work saatchi art artistoftheday 2nd place can help us win anything' possibl next 24hr webbi vote protect tree kelli puissegur earthday close still need help help us take lead vote webbi thx can guess famou paint small detail tough via slate happi earth day artist day sarina villar see work saatchi art artistoftheday excit introduc 11 new handpick artist invest art seri artist must free paint effect natur must bind alfr maurer born day 1868 artist day marijah bac cam see work saatchi art artistoftheday new week new art onlin art buy rise new report great news artist know get 70 sale saatchiart can also look pictur second think life joan mir born day 1893 artist day alexand heaton see work saatchi art artistoftheday thank love amp vote help us get 2nd place vote yet pleas webbi know one paint someone' portrait one know possibl otto dix love lift spain s alessandra favetto see els new photographi artist day fernando nieva see work saatchi art artistoftheday saatchi art nomin webbi vote yet help us win vote basi art simpl natur spontan sensat max weber born day 1881 artist day giovanni randazzo see work saatchi art artistoftheday korean artist kimsooja' instal madrid' palacio de cristal bath space rainbow artist day naomi litvack see work saatchi art artistoftheday reason paint record christoph stacey learn open heart creation tristan tzara born day 1896 artist day denis duong see work saatchi art artistoftheday see new work 16 featur artist handpick chief curat art never finish abandon leonardo da vinci happi birthday master artist day sylwia zdzichowska see work saatchi art artistoftheday love mind bend work adam martinaki great see featur hifructosemag nomin webbi tough competit year vote help us win artist day lim miryang see work saatchi art artistoftheday see chief curator' pick new week artist day jarri hasnain see work saatchi art artistoftheday fabian oefner take spin art anoth level paint natur lumin languag robert delaunay born day 1885 artist day mathieu bernard martin see work artistoftheday re goingclear latest collect transluc work watch one watch john franzen action video absurd look perfect camil pissarro artist day karen lehrer see work saatchi art artistoftheday francesca della toffola becom one landscap seri photo display weekend mia_fair nomin webbi help us win vote saatchi art best mobil app just everi artist paint just paint henni van de land learn artist day stefano perron see work saatchi art artistoftheday drip cascad water individu illumin led light dgt architect instal elephantpanam koenlybaert happi birthday koen beauti work alway everi form base colour everi colour attribut form victor vasar born today 1906 artist day mickey vidakovich see work saatchi art artistoftheday art someth can give world paulin zenk muse subject know best subject want know better frida kahlo desktop newemoji emojiarthistori post appear tripl portrait charl kehindewiley emojiarthistori newemoji heard saatchi art nomin webbi award help us win vote artist day michiel muyr see work saatchi art artistoftheday viva la canin revoluci n celebr thing dog latest collect whitedog app nomin thewebbyaward help saatchi art win artist day st phani de malherb see work artistoftheday discov s new week happi birthday raphael figur school athen togeth repres father western philosophi artist day holli ann buck see work saatchi art artistoftheday eduardo korba s artur rubenstein mural paint less 5 day necessari even paint bottom jean honor fragonard happi birthday rococo painter artist day agn s lef vre see work saatchi art artistoftheday thoma donaldson paint smudg oil paint thick canva embrac happi accid good paint like good cook can tast explain mauric de vlaminck born day 1876 artist day patrick palmer see work saatchi art artistoftheday landscap erin m riley tapestri made cotton wool love basquiat see notebook brooklynmuseum check inspir collect artist day jame tebbutt see work saatchi art artistoftheday miss us aafnyc watch chief curat rebecca wilson discuss artist featur video artist gener will unhip artist suppos like cowboy deborah kass helmet portrait chair bodi landscap viewer wilfrid moizan artist day tessa houghton see work saatchi art artistoftheday guess poet want put idea stage settl singl word ed ruscha love newyorker' roz chast happi aprilfool color junki blind sight visitor spain' prado museum can touch masterpiec recreat use new 3d print techniqu artist day lui altieri see work saatchi art artistoftheday romain crelier instal puddl recycl motor oil reflect surround baroqu architectur one import theme seri question person ident jenni c t li love instal paig smith la mart come say hi 11th floor asidlosangel design week artist day danni augustin see work saatchi art artistoftheday bavarian artist nil udo use site specif found materi celebr beauti natur happi birthday vincent artist day branka ridicki see work saatchi art artistoftheday creat architectur put order put order function object le corbusi gabriel daw s suspend thread instal evok prismat beam light artist day wolfgang kahl see work saatchi art artistoftheday paint way reflect experi anna mcneil close end fair come tomorrow visit show onlin aafnyc snowi nyc warm beachi booth deanwestphoto aafnyc work art trace magnific struggl grace hartigan born day 1922 artist day suheyla sabir see work saatchi art artistoftheday two color friend hold fort booth aafnyc photographi major forc explain man man edward steichen born day 1879 love new work charlott evan come see booth 42 aafnyc come see fantast new work lorella paleni aafnyc booth 42 view onlin artist day paulin zenk see work saatchi art artistoftheday peter kogler' floor ceil wallpap instal invit visitor immers otherworldli space see work saatchi art' stephen row can love anymor two side sunday ladesignsummit today two coast aafnyc ladesignsummit join convers wherev build strong suppli side artist support seanmo 2 2 ladesignsummit q import build commun saatchiart society6 commun incred import 1 2 ladesignsummit hello ladesignsummit see seanmo speak panel compani bridg design custom can t make artparisartfair see pick hot franc artist day misha dontsov see work saatchi art artistoftheday come get free tote booth 42 arthappi aafnyc preview parti aafnyc get underway aka_kayrock live screen print tote paint portrait past tri lend present mean j no huszti instal booth 42 aafnyc artist day blandin bardeau see work saatchi art artistoftheday anthoni gormley s new show thaddeusropac featur seri humanoid stack cube camera see eye make use edward weston born day 1886 artist day tm kessler see work saatchi art artistoftheday lost moment know result will juan gri gu_gugi wow love color artist day joshua sowa see work saatchi art artistoftheday helmut ditch paint hyperr landscap inspir extrem sport adventur forget becom part environ yayoi kusama happi birthday yayoi artist day evi kitt see work saatchi art artistoftheday eva jospin s bewitch forest made entir cardboard reflect durabl yet fragil real tree paint can see whole world han hofmann born day 1880 artist day phoenix rodman see work saatchi art artistoftheday architect emmanuel moureaux hope spread happi color design bank northern tokyo london see excit new exhibit magnusgjoen s work monster now view hanguppictur paint parallel world can play role want wladimir moszowski kimbereddi beauti artist day karin hay white see work saatchi art artistoftheday joana vasconcelos' giant octopu soft sculptur mgmmacau made use tradit portugues embroideri tri creat moment recognit barbara kruger artist day jakub reken see work saatchi art artistoftheday sxsw underway celebr austin' local talent check westernreflect show see form lit form light shadow francisco de goya artist day simon truong see work saatchi art artistoftheday google' 2nd street art project launch tonight la excit googleart streetartproject \n"
     ]
    }
   ],
   "source": [
    "for index, row in agg_tweets[0:1].iterrows():\n",
    "    print row[1]"
   ]
  },
  {
   "cell_type": "code",
   "execution_count": null,
   "metadata": {
    "collapsed": true
   },
   "outputs": [],
   "source": []
  }
 ],
 "metadata": {
  "anaconda-cloud": {},
  "kernelspec": {
   "display_name": "Python [default]",
   "language": "python",
   "name": "python2"
  },
  "language_info": {
   "codemirror_mode": {
    "name": "ipython",
    "version": 2
   },
   "file_extension": ".py",
   "mimetype": "text/x-python",
   "name": "python",
   "nbconvert_exporter": "python",
   "pygments_lexer": "ipython2",
   "version": "2.7.12"
  }
 },
 "nbformat": 4,
 "nbformat_minor": 1
}
