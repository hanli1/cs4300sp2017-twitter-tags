{
 "cells": [
  {
   "cell_type": "code",
   "execution_count": 1,
   "metadata": {
    "collapsed": true
   },
   "outputs": [],
   "source": [
    "import pandas as pd\n",
    "import numpy as np\n",
    "from bs4 import BeautifulSoup  \n",
    "import re\n",
    "import nltk\n",
    "from nltk.corpus import stopwords\n",
    "from sklearn.feature_extraction.text import CountVectorizer\n",
    "from sklearn.ensemble import RandomForestClassifier\n",
    "from sklearn.cross_validation import train_test_split\n",
    "from sklearn.naive_bayes import MultinomialNB\n",
    "from sklearn import svm\n",
    "from sklearn.feature_extraction.text import TfidfTransformer"
   ]
  },
  {
   "cell_type": "code",
   "execution_count": 7,
   "metadata": {
    "collapsed": false
   },
   "outputs": [],
   "source": [
    "t1 = pd.read_csv('art_lover_processed.csv', header=None)\n",
    "t2 = pd.read_csv('conservative_processed.csv', header=None)\n",
    "t3 = pd.read_csv('fashion_lover_processed.csv', header=None)\n",
    "t4 = pd.read_csv('food_lover_processed.csv', header=None)\n",
    "t5 = pd.read_csv('gamer_processed.csv', header=None)\n",
    "t6 = pd.read_csv('liberal_processed.csv', header=None)\n",
    "t7 = pd.read_csv('music_lover_processed.csv', header=None)\n",
    "t8 = pd.read_csv('religious_processed.csv', header=None)\n",
    "t9 = pd.read_csv('science_lover_processed.csv', header=None)\n",
    "t10 = pd.read_csv('sports_fan_processed.csv', header=None)"
   ]
  },
  {
   "cell_type": "code",
   "execution_count": 8,
   "metadata": {
    "collapsed": true
   },
   "outputs": [],
   "source": [
    "t1['CATEGORY'] = \"ART\"\n",
    "t2['CATEGORY'] = \"CONSERVATIVE\"\n",
    "t3['CATEGORY'] = \"FASHION\"\n",
    "t4['CATEGORY'] = \"FOOD\"\n",
    "t5['CATEGORY'] = \"GAMER\"\n",
    "t6['CATEGORY'] = \"LIBERAL\"\n",
    "t7['CATEGORY'] = \"MUSIC\"\n",
    "t8['CATEGORY'] = \"RELIGIOUS\"\n",
    "t9['CATEGORY'] = \"SCIENCE\"\n",
    "t10['CATEGORY'] = \"SPORTS\""
   ]
  },
  {
   "cell_type": "code",
   "execution_count": 9,
   "metadata": {
    "collapsed": true
   },
   "outputs": [],
   "source": [
    "frames = [t1, t2, t3, t4, t5, t6, t7, t8, t9, t10]\n",
    "tweets = pd.concat(frames, ignore_index = True)"
   ]
  },
  {
   "cell_type": "code",
   "execution_count": 10,
   "metadata": {
    "collapsed": false
   },
   "outputs": [
    {
     "data": {
      "text/html": [
       "<div>\n",
       "<table border=\"1\" class=\"dataframe\">\n",
       "  <thead>\n",
       "    <tr style=\"text-align: right;\">\n",
       "      <th></th>\n",
       "      <th>0</th>\n",
       "      <th>1</th>\n",
       "      <th>2</th>\n",
       "      <th>3</th>\n",
       "      <th>4</th>\n",
       "      <th>CATEGORY</th>\n",
       "    </tr>\n",
       "  </thead>\n",
       "  <tbody>\n",
       "    <tr>\n",
       "      <th>0</th>\n",
       "      <td>853594038699778048</td>\n",
       "      <td>Saatchi Art</td>\n",
       "      <td>2017-04-16 13:00:52</td>\n",
       "      <td>12</td>\n",
       "      <td>learn chang game arthistori</td>\n",
       "      <td>ART</td>\n",
       "    </tr>\n",
       "    <tr>\n",
       "      <th>1</th>\n",
       "      <td>853504508604940291</td>\n",
       "      <td>Saatchi Art</td>\n",
       "      <td>2017-04-16 07:05:06</td>\n",
       "      <td>8</td>\n",
       "      <td>natalia ryabova see natalia' work artistoftheday</td>\n",
       "      <td>ART</td>\n",
       "    </tr>\n",
       "    <tr>\n",
       "      <th>2</th>\n",
       "      <td>853412730883239936</td>\n",
       "      <td>Saatchi Art</td>\n",
       "      <td>2017-04-16 01:00:25</td>\n",
       "      <td>15</td>\n",
       "      <td>littl goe long way</td>\n",
       "      <td>ART</td>\n",
       "    </tr>\n",
       "    <tr>\n",
       "      <th>3</th>\n",
       "      <td>853322176795209730</td>\n",
       "      <td>Saatchi Art</td>\n",
       "      <td>2017-04-15 19:00:35</td>\n",
       "      <td>9</td>\n",
       "      <td>meet theotherartfair' robin clare whose work e...</td>\n",
       "      <td>ART</td>\n",
       "    </tr>\n",
       "    <tr>\n",
       "      <th>4</th>\n",
       "      <td>853232733363073024</td>\n",
       "      <td>Saatchi Art</td>\n",
       "      <td>2017-04-15 13:05:10</td>\n",
       "      <td>29</td>\n",
       "      <td>revisit sacr piec honor da vinci' 565th birthday</td>\n",
       "      <td>ART</td>\n",
       "    </tr>\n",
       "    <tr>\n",
       "      <th>5</th>\n",
       "      <td>853143383254196224</td>\n",
       "      <td>Saatchi Art</td>\n",
       "      <td>2017-04-15 07:10:07</td>\n",
       "      <td>11</td>\n",
       "      <td>leah saulnier see leah' work artistoftheday</td>\n",
       "      <td>ART</td>\n",
       "    </tr>\n",
       "    <tr>\n",
       "      <th>6</th>\n",
       "      <td>853050319735066626</td>\n",
       "      <td>Saatchi Art</td>\n",
       "      <td>2017-04-15 01:00:19</td>\n",
       "      <td>14</td>\n",
       "      <td>familiar one oldest medium arthistori</td>\n",
       "      <td>ART</td>\n",
       "    </tr>\n",
       "    <tr>\n",
       "      <th>7</th>\n",
       "      <td>852991125128445953</td>\n",
       "      <td>Saatchi Art</td>\n",
       "      <td>2017-04-14 21:05:06</td>\n",
       "      <td>30</td>\n",
       "      <td>nadia attura build layer creat dynam imag peek...</td>\n",
       "      <td>ART</td>\n",
       "    </tr>\n",
       "    <tr>\n",
       "      <th>8</th>\n",
       "      <td>852959753361817600</td>\n",
       "      <td>Saatchi Art</td>\n",
       "      <td>2017-04-14 19:00:27</td>\n",
       "      <td>25</td>\n",
       "      <td>everyth alway want know frame afraid ask</td>\n",
       "      <td>ART</td>\n",
       "    </tr>\n",
       "    <tr>\n",
       "      <th>9</th>\n",
       "      <td>852694634350481410</td>\n",
       "      <td>Saatchi Art</td>\n",
       "      <td>2017-04-14 01:26:57</td>\n",
       "      <td>17</td>\n",
       "      <td>know women help shape pop art</td>\n",
       "      <td>ART</td>\n",
       "    </tr>\n",
       "    <tr>\n",
       "      <th>10</th>\n",
       "      <td>852586310112092162</td>\n",
       "      <td>Saatchi Art</td>\n",
       "      <td>2017-04-13 18:16:31</td>\n",
       "      <td>38</td>\n",
       "      <td>see 64 new figur paint emerg artist around world</td>\n",
       "      <td>ART</td>\n",
       "    </tr>\n",
       "    <tr>\n",
       "      <th>11</th>\n",
       "      <td>852418598505259009</td>\n",
       "      <td>Saatchi Art</td>\n",
       "      <td>2017-04-13 07:10:05</td>\n",
       "      <td>17</td>\n",
       "      <td>guglielmo alfaron see guglielmo' work artistof...</td>\n",
       "      <td>ART</td>\n",
       "    </tr>\n",
       "    <tr>\n",
       "      <th>12</th>\n",
       "      <td>852325513720987648</td>\n",
       "      <td>Saatchi Art</td>\n",
       "      <td>2017-04-13 01:00:12</td>\n",
       "      <td>17</td>\n",
       "      <td>congrat former fair guest artist martin parr g...</td>\n",
       "      <td>ART</td>\n",
       "    </tr>\n",
       "    <tr>\n",
       "      <th>13</th>\n",
       "      <td>852250072859410433</td>\n",
       "      <td>Saatchi Art</td>\n",
       "      <td>2017-04-12 20:00:26</td>\n",
       "      <td>10</td>\n",
       "      <td>attn artist toaf_bristol now accept applic appli</td>\n",
       "      <td>ART</td>\n",
       "    </tr>\n",
       "    <tr>\n",
       "      <th>14</th>\n",
       "      <td>852213598264860672</td>\n",
       "      <td>Saatchi Art</td>\n",
       "      <td>2017-04-12 17:35:29</td>\n",
       "      <td>8</td>\n",
       "      <td>escap se rin park' dreami landscap onetowatch</td>\n",
       "      <td>ART</td>\n",
       "    </tr>\n",
       "    <tr>\n",
       "      <th>15</th>\n",
       "      <td>852058732892737536</td>\n",
       "      <td>Saatchi Art</td>\n",
       "      <td>2017-04-12 07:20:07</td>\n",
       "      <td>20</td>\n",
       "      <td>jann gill johannesen see janne' work artistoft...</td>\n",
       "      <td>ART</td>\n",
       "    </tr>\n",
       "    <tr>\n",
       "      <th>16</th>\n",
       "      <td>851937382878265346</td>\n",
       "      <td>Saatchi Art</td>\n",
       "      <td>2017-04-11 23:17:54</td>\n",
       "      <td>24</td>\n",
       "      <td>use littl luxuri life</td>\n",
       "      <td>ART</td>\n",
       "    </tr>\n",
       "    <tr>\n",
       "      <th>17</th>\n",
       "      <td>851879851891933184</td>\n",
       "      <td>Saatchi Art</td>\n",
       "      <td>2017-04-11 19:29:18</td>\n",
       "      <td>20</td>\n",
       "      <td>set mood spring</td>\n",
       "      <td>ART</td>\n",
       "    </tr>\n",
       "    <tr>\n",
       "      <th>18</th>\n",
       "      <td>851692570115702785</td>\n",
       "      <td>Saatchi Art</td>\n",
       "      <td>2017-04-11 07:05:07</td>\n",
       "      <td>32</td>\n",
       "      <td>ali king see ali' work artistoftheday</td>\n",
       "      <td>ART</td>\n",
       "    </tr>\n",
       "    <tr>\n",
       "      <th>19</th>\n",
       "      <td>851566929076568064</td>\n",
       "      <td>Saatchi Art</td>\n",
       "      <td>2017-04-10 22:45:51</td>\n",
       "      <td>23</td>\n",
       "      <td>grad season come right catch us esquir list</td>\n",
       "      <td>ART</td>\n",
       "    </tr>\n",
       "    <tr>\n",
       "      <th>20</th>\n",
       "      <td>851527138771689473</td>\n",
       "      <td>Saatchi Art</td>\n",
       "      <td>2017-04-10 20:07:45</td>\n",
       "      <td>35</td>\n",
       "      <td>portrait abstract week' collect new work</td>\n",
       "      <td>ART</td>\n",
       "    </tr>\n",
       "    <tr>\n",
       "      <th>21</th>\n",
       "      <td>851330187014922240</td>\n",
       "      <td>Saatchi Art</td>\n",
       "      <td>2017-04-10 07:05:08</td>\n",
       "      <td>49</td>\n",
       "      <td>zaza tuschmalischvili see zara' work artistoft...</td>\n",
       "      <td>ART</td>\n",
       "    </tr>\n",
       "    <tr>\n",
       "      <th>22</th>\n",
       "      <td>851156545954095104</td>\n",
       "      <td>Saatchi Art</td>\n",
       "      <td>2017-04-09 19:35:08</td>\n",
       "      <td>52</td>\n",
       "      <td>charlott evan use vivid color echo way detail ...</td>\n",
       "      <td>ART</td>\n",
       "    </tr>\n",
       "    <tr>\n",
       "      <th>23</th>\n",
       "      <td>851042200905535490</td>\n",
       "      <td>Saatchi Art</td>\n",
       "      <td>2017-04-09 12:00:46</td>\n",
       "      <td>54</td>\n",
       "      <td>everi form base color everi color attribut for...</td>\n",
       "      <td>ART</td>\n",
       "    </tr>\n",
       "    <tr>\n",
       "      <th>24</th>\n",
       "      <td>850967785882648576</td>\n",
       "      <td>Saatchi Art</td>\n",
       "      <td>2017-04-09 07:05:05</td>\n",
       "      <td>15</td>\n",
       "      <td>benjamin bridg see benjamin' work artistoftheday</td>\n",
       "      <td>ART</td>\n",
       "    </tr>\n",
       "    <tr>\n",
       "      <th>25</th>\n",
       "      <td>850878477473644544</td>\n",
       "      <td>Saatchi Art</td>\n",
       "      <td>2017-04-09 01:10:12</td>\n",
       "      <td>27</td>\n",
       "      <td>fresh outlook</td>\n",
       "      <td>ART</td>\n",
       "    </tr>\n",
       "    <tr>\n",
       "      <th>26</th>\n",
       "      <td>850694922487427073</td>\n",
       "      <td>Saatchi Art</td>\n",
       "      <td>2017-04-08 13:00:49</td>\n",
       "      <td>12</td>\n",
       "      <td>see exhibit next month' toaf_melbourn</td>\n",
       "      <td>ART</td>\n",
       "    </tr>\n",
       "    <tr>\n",
       "      <th>27</th>\n",
       "      <td>850610962075975680</td>\n",
       "      <td>Saatchi Art</td>\n",
       "      <td>2017-04-08 07:27:11</td>\n",
       "      <td>42</td>\n",
       "      <td>angi wright see angie' work artistoftheday</td>\n",
       "      <td>ART</td>\n",
       "    </tr>\n",
       "    <tr>\n",
       "      <th>28</th>\n",
       "      <td>850469523593584640</td>\n",
       "      <td>Saatchi Art</td>\n",
       "      <td>2017-04-07 22:05:10</td>\n",
       "      <td>26</td>\n",
       "      <td>bit piec come togeth portrait abstract collect...</td>\n",
       "      <td>ART</td>\n",
       "    </tr>\n",
       "    <tr>\n",
       "      <th>29</th>\n",
       "      <td>850401791665557504</td>\n",
       "      <td>Saatchi Art</td>\n",
       "      <td>2017-04-07 17:36:01</td>\n",
       "      <td>20</td>\n",
       "      <td>see world nadia' eye</td>\n",
       "      <td>ART</td>\n",
       "    </tr>\n",
       "    <tr>\n",
       "      <th>...</th>\n",
       "      <td>...</td>\n",
       "      <td>...</td>\n",
       "      <td>...</td>\n",
       "      <td>...</td>\n",
       "      <td>...</td>\n",
       "      <td>...</td>\n",
       "    </tr>\n",
       "    <tr>\n",
       "      <th>150219</th>\n",
       "      <td>827270925066211329</td>\n",
       "      <td>FOX Sports</td>\n",
       "      <td>2017-02-02 21:42:13</td>\n",
       "      <td>13</td>\n",
       "      <td>seahawk de michael bennett will procast corres...</td>\n",
       "      <td>SPORTS</td>\n",
       "    </tr>\n",
       "    <tr>\n",
       "      <th>150220</th>\n",
       "      <td>827268741406732292</td>\n",
       "      <td>FOX Sports</td>\n",
       "      <td>2017-02-02 21:33:32</td>\n",
       "      <td>13</td>\n",
       "      <td>foxsportsl fs1 foxsportsgo now sb51 gt</td>\n",
       "      <td>SPORTS</td>\n",
       "    </tr>\n",
       "    <tr>\n",
       "      <th>150221</th>\n",
       "      <td>827245716493852672</td>\n",
       "      <td>FOX Sports</td>\n",
       "      <td>2017-02-02 20:02:02</td>\n",
       "      <td>32</td>\n",
       "      <td>believ magic magicjohnson return laker special...</td>\n",
       "      <td>SPORTS</td>\n",
       "    </tr>\n",
       "    <tr>\n",
       "      <th>150222</th>\n",
       "      <td>827237787891929088</td>\n",
       "      <td>FOX Sports</td>\n",
       "      <td>2017-02-02 19:30:32</td>\n",
       "      <td>9</td>\n",
       "      <td>shannonsharp bill belichick can t consid great...</td>\n",
       "      <td>SPORTS</td>\n",
       "    </tr>\n",
       "    <tr>\n",
       "      <th>150223</th>\n",
       "      <td>827235749598683137</td>\n",
       "      <td>FOX Sports</td>\n",
       "      <td>2017-02-02 19:22:26</td>\n",
       "      <td>13</td>\n",
       "      <td>realskipbayless l_bell26 'doesn t gut come und...</td>\n",
       "      <td>SPORTS</td>\n",
       "    </tr>\n",
       "    <tr>\n",
       "      <th>150224</th>\n",
       "      <td>827234248432029696</td>\n",
       "      <td>FOX Sports</td>\n",
       "      <td>2017-02-02 19:16:28</td>\n",
       "      <td>12</td>\n",
       "      <td>penguin provid first look full stadium seri un...</td>\n",
       "      <td>SPORTS</td>\n",
       "    </tr>\n",
       "    <tr>\n",
       "      <th>150225</th>\n",
       "      <td>827232629002891264</td>\n",
       "      <td>FOX Sports</td>\n",
       "      <td>2017-02-02 19:10:02</td>\n",
       "      <td>14</td>\n",
       "      <td>face atl twice season amp twice put 30 point d...</td>\n",
       "      <td>SPORTS</td>\n",
       "    </tr>\n",
       "    <tr>\n",
       "      <th>150226</th>\n",
       "      <td>827230476649668608</td>\n",
       "      <td>FOX Sports</td>\n",
       "      <td>2017-02-02 19:01:29</td>\n",
       "      <td>13</td>\n",
       "      <td>shannonsharp explain fan will never understand...</td>\n",
       "      <td>SPORTS</td>\n",
       "    </tr>\n",
       "    <tr>\n",
       "      <th>150227</th>\n",
       "      <td>827211752043450368</td>\n",
       "      <td>FOX Sports</td>\n",
       "      <td>2017-02-02 17:47:05</td>\n",
       "      <td>18</td>\n",
       "      <td>rio olymp superbowl patriots' nate ebner live ...</td>\n",
       "      <td>SPORTS</td>\n",
       "    </tr>\n",
       "    <tr>\n",
       "      <th>150228</th>\n",
       "      <td>827208962453827584</td>\n",
       "      <td>FOX Sports</td>\n",
       "      <td>2017-02-02 17:36:00</td>\n",
       "      <td>10</td>\n",
       "      <td>10 nfl player sold merchandis season</td>\n",
       "      <td>SPORTS</td>\n",
       "    </tr>\n",
       "    <tr>\n",
       "      <th>150229</th>\n",
       "      <td>827186231230468096</td>\n",
       "      <td>FOX Sports</td>\n",
       "      <td>2017-02-02 16:05:40</td>\n",
       "      <td>7</td>\n",
       "      <td>realskipbayless shannonsharp react roger goode...</td>\n",
       "      <td>SPORTS</td>\n",
       "    </tr>\n",
       "    <tr>\n",
       "      <th>150230</th>\n",
       "      <td>827184397866659840</td>\n",
       "      <td>FOX Sports</td>\n",
       "      <td>2017-02-02 15:58:23</td>\n",
       "      <td>5</td>\n",
       "      <td>superbowl expert pick will atlantafalcon patri...</td>\n",
       "      <td>SPORTS</td>\n",
       "    </tr>\n",
       "    <tr>\n",
       "      <th>150231</th>\n",
       "      <td>827176042498502656</td>\n",
       "      <td>FOX Sports</td>\n",
       "      <td>2017-02-02 15:25:11</td>\n",
       "      <td>21</td>\n",
       "      <td>realskipbayless discuss uncommon trait drove t...</td>\n",
       "      <td>SPORTS</td>\n",
       "    </tr>\n",
       "    <tr>\n",
       "      <th>150232</th>\n",
       "      <td>827168354519625728</td>\n",
       "      <td>FOX Sports</td>\n",
       "      <td>2017-02-02 14:54:38</td>\n",
       "      <td>9</td>\n",
       "      <td>5 way atlantafalcon can stop tom bradi superbo...</td>\n",
       "      <td>SPORTS</td>\n",
       "    </tr>\n",
       "    <tr>\n",
       "      <th>150233</th>\n",
       "      <td>827162156772777984</td>\n",
       "      <td>FOX Sports</td>\n",
       "      <td>2017-02-02 14:30:00</td>\n",
       "      <td>13</td>\n",
       "      <td>nhl focus promot star player</td>\n",
       "      <td>SPORTS</td>\n",
       "    </tr>\n",
       "    <tr>\n",
       "      <th>150234</th>\n",
       "      <td>827158385183166464</td>\n",
       "      <td>FOX Sports</td>\n",
       "      <td>2017-02-02 14:15:01</td>\n",
       "      <td>14</td>\n",
       "      <td>10 eye pop superbowl trend will help pick sund...</td>\n",
       "      <td>SPORTS</td>\n",
       "    </tr>\n",
       "    <tr>\n",
       "      <th>150235</th>\n",
       "      <td>827155655366701057</td>\n",
       "      <td>FOX Sports</td>\n",
       "      <td>2017-02-02 14:04:10</td>\n",
       "      <td>20</td>\n",
       "      <td>criscarter80 getnickwright' 6 unsung player wa...</td>\n",
       "      <td>SPORTS</td>\n",
       "    </tr>\n",
       "    <tr>\n",
       "      <th>150236</th>\n",
       "      <td>827026577028288513</td>\n",
       "      <td>FOX Sports</td>\n",
       "      <td>2017-02-02 05:31:16</td>\n",
       "      <td>27</td>\n",
       "      <td>steph curri cross marvin william hit 8 three p...</td>\n",
       "      <td>SPORTS</td>\n",
       "    </tr>\n",
       "    <tr>\n",
       "      <th>150237</th>\n",
       "      <td>827019798588448769</td>\n",
       "      <td>FOX Sports</td>\n",
       "      <td>2017-02-02 05:04:19</td>\n",
       "      <td>14</td>\n",
       "      <td>5 thing patriot drive oppon crazi sb51</td>\n",
       "      <td>SPORTS</td>\n",
       "    </tr>\n",
       "    <tr>\n",
       "      <th>150238</th>\n",
       "      <td>827016779050291200</td>\n",
       "      <td>FOX Sports</td>\n",
       "      <td>2017-02-02 04:52:20</td>\n",
       "      <td>25</td>\n",
       "      <td>watch dell curri show steph knock serious deep 3</td>\n",
       "      <td>SPORTS</td>\n",
       "    </tr>\n",
       "    <tr>\n",
       "      <th>150239</th>\n",
       "      <td>827014279211556864</td>\n",
       "      <td>FOX Sports</td>\n",
       "      <td>2017-02-02 04:42:24</td>\n",
       "      <td>39</td>\n",
       "      <td>lebron jame receiv naacp jacki robinson sport ...</td>\n",
       "      <td>SPORTS</td>\n",
       "    </tr>\n",
       "    <tr>\n",
       "      <th>150240</th>\n",
       "      <td>827011617858523137</td>\n",
       "      <td>FOX Sports</td>\n",
       "      <td>2017-02-02 04:31:49</td>\n",
       "      <td>44</td>\n",
       "      <td>50 pictur 50 super bowl ring diamond encrust g...</td>\n",
       "      <td>SPORTS</td>\n",
       "    </tr>\n",
       "    <tr>\n",
       "      <th>150241</th>\n",
       "      <td>827007943111372800</td>\n",
       "      <td>FOX Sports</td>\n",
       "      <td>2017-02-02 04:17:13</td>\n",
       "      <td>24</td>\n",
       "      <td>close good final xaviermbb defeat seton hall 7...</td>\n",
       "      <td>SPORTS</td>\n",
       "    </tr>\n",
       "    <tr>\n",
       "      <th>150242</th>\n",
       "      <td>827007374292447234</td>\n",
       "      <td>FOX Sports</td>\n",
       "      <td>2017-02-02 04:14:57</td>\n",
       "      <td>144</td>\n",
       "      <td>trevon bluiett tough bucket xaviermbb lead 4 4...</td>\n",
       "      <td>SPORTS</td>\n",
       "    </tr>\n",
       "    <tr>\n",
       "      <th>150243</th>\n",
       "      <td>827004766672691200</td>\n",
       "      <td>FOX Sports</td>\n",
       "      <td>2017-02-02 04:04:36</td>\n",
       "      <td>37</td>\n",
       "      <td>rock chalk jayhawk final 3 kansa defeat 2 bayl...</td>\n",
       "      <td>SPORTS</td>\n",
       "    </tr>\n",
       "    <tr>\n",
       "      <th>150244</th>\n",
       "      <td>827003723708669953</td>\n",
       "      <td>FOX Sports</td>\n",
       "      <td>2017-02-02 04:00:27</td>\n",
       "      <td>8</td>\n",
       "      <td>histori super bowl s seven 1 defens vs 1 offen...</td>\n",
       "      <td>SPORTS</td>\n",
       "    </tr>\n",
       "    <tr>\n",
       "      <th>150245</th>\n",
       "      <td>826996864335564801</td>\n",
       "      <td>FOX Sports</td>\n",
       "      <td>2017-02-02 03:33:11</td>\n",
       "      <td>36</td>\n",
       "      <td>larri fitzgerald say s return 2017 put end ret...</td>\n",
       "      <td>SPORTS</td>\n",
       "    </tr>\n",
       "    <tr>\n",
       "      <th>150246</th>\n",
       "      <td>826989973618372608</td>\n",
       "      <td>FOX Sports</td>\n",
       "      <td>2017-02-02 03:05:49</td>\n",
       "      <td>40</td>\n",
       "      <td>falcon de dwight freeney say tri hate tom brad...</td>\n",
       "      <td>SPORTS</td>\n",
       "    </tr>\n",
       "    <tr>\n",
       "      <th>150247</th>\n",
       "      <td>826986974841970688</td>\n",
       "      <td>FOX Sports</td>\n",
       "      <td>2017-02-02 02:53:54</td>\n",
       "      <td>17</td>\n",
       "      <td>need see amaz high school yearbook photo patri...</td>\n",
       "      <td>SPORTS</td>\n",
       "    </tr>\n",
       "    <tr>\n",
       "      <th>150248</th>\n",
       "      <td>826984833108684800</td>\n",
       "      <td>FOX Sports</td>\n",
       "      <td>2017-02-02 02:45:23</td>\n",
       "      <td>14</td>\n",
       "      <td>carlo martinez make progress new long term dea...</td>\n",
       "      <td>SPORTS</td>\n",
       "    </tr>\n",
       "  </tbody>\n",
       "</table>\n",
       "<p>150249 rows × 6 columns</p>\n",
       "</div>"
      ],
      "text/plain": [
       "                         0            1                    2    3  \\\n",
       "0       853594038699778048  Saatchi Art  2017-04-16 13:00:52   12   \n",
       "1       853504508604940291  Saatchi Art  2017-04-16 07:05:06    8   \n",
       "2       853412730883239936  Saatchi Art  2017-04-16 01:00:25   15   \n",
       "3       853322176795209730  Saatchi Art  2017-04-15 19:00:35    9   \n",
       "4       853232733363073024  Saatchi Art  2017-04-15 13:05:10   29   \n",
       "5       853143383254196224  Saatchi Art  2017-04-15 07:10:07   11   \n",
       "6       853050319735066626  Saatchi Art  2017-04-15 01:00:19   14   \n",
       "7       852991125128445953  Saatchi Art  2017-04-14 21:05:06   30   \n",
       "8       852959753361817600  Saatchi Art  2017-04-14 19:00:27   25   \n",
       "9       852694634350481410  Saatchi Art  2017-04-14 01:26:57   17   \n",
       "10      852586310112092162  Saatchi Art  2017-04-13 18:16:31   38   \n",
       "11      852418598505259009  Saatchi Art  2017-04-13 07:10:05   17   \n",
       "12      852325513720987648  Saatchi Art  2017-04-13 01:00:12   17   \n",
       "13      852250072859410433  Saatchi Art  2017-04-12 20:00:26   10   \n",
       "14      852213598264860672  Saatchi Art  2017-04-12 17:35:29    8   \n",
       "15      852058732892737536  Saatchi Art  2017-04-12 07:20:07   20   \n",
       "16      851937382878265346  Saatchi Art  2017-04-11 23:17:54   24   \n",
       "17      851879851891933184  Saatchi Art  2017-04-11 19:29:18   20   \n",
       "18      851692570115702785  Saatchi Art  2017-04-11 07:05:07   32   \n",
       "19      851566929076568064  Saatchi Art  2017-04-10 22:45:51   23   \n",
       "20      851527138771689473  Saatchi Art  2017-04-10 20:07:45   35   \n",
       "21      851330187014922240  Saatchi Art  2017-04-10 07:05:08   49   \n",
       "22      851156545954095104  Saatchi Art  2017-04-09 19:35:08   52   \n",
       "23      851042200905535490  Saatchi Art  2017-04-09 12:00:46   54   \n",
       "24      850967785882648576  Saatchi Art  2017-04-09 07:05:05   15   \n",
       "25      850878477473644544  Saatchi Art  2017-04-09 01:10:12   27   \n",
       "26      850694922487427073  Saatchi Art  2017-04-08 13:00:49   12   \n",
       "27      850610962075975680  Saatchi Art  2017-04-08 07:27:11   42   \n",
       "28      850469523593584640  Saatchi Art  2017-04-07 22:05:10   26   \n",
       "29      850401791665557504  Saatchi Art  2017-04-07 17:36:01   20   \n",
       "...                    ...          ...                  ...  ...   \n",
       "150219  827270925066211329   FOX Sports  2017-02-02 21:42:13   13   \n",
       "150220  827268741406732292   FOX Sports  2017-02-02 21:33:32   13   \n",
       "150221  827245716493852672   FOX Sports  2017-02-02 20:02:02   32   \n",
       "150222  827237787891929088   FOX Sports  2017-02-02 19:30:32    9   \n",
       "150223  827235749598683137   FOX Sports  2017-02-02 19:22:26   13   \n",
       "150224  827234248432029696   FOX Sports  2017-02-02 19:16:28   12   \n",
       "150225  827232629002891264   FOX Sports  2017-02-02 19:10:02   14   \n",
       "150226  827230476649668608   FOX Sports  2017-02-02 19:01:29   13   \n",
       "150227  827211752043450368   FOX Sports  2017-02-02 17:47:05   18   \n",
       "150228  827208962453827584   FOX Sports  2017-02-02 17:36:00   10   \n",
       "150229  827186231230468096   FOX Sports  2017-02-02 16:05:40    7   \n",
       "150230  827184397866659840   FOX Sports  2017-02-02 15:58:23    5   \n",
       "150231  827176042498502656   FOX Sports  2017-02-02 15:25:11   21   \n",
       "150232  827168354519625728   FOX Sports  2017-02-02 14:54:38    9   \n",
       "150233  827162156772777984   FOX Sports  2017-02-02 14:30:00   13   \n",
       "150234  827158385183166464   FOX Sports  2017-02-02 14:15:01   14   \n",
       "150235  827155655366701057   FOX Sports  2017-02-02 14:04:10   20   \n",
       "150236  827026577028288513   FOX Sports  2017-02-02 05:31:16   27   \n",
       "150237  827019798588448769   FOX Sports  2017-02-02 05:04:19   14   \n",
       "150238  827016779050291200   FOX Sports  2017-02-02 04:52:20   25   \n",
       "150239  827014279211556864   FOX Sports  2017-02-02 04:42:24   39   \n",
       "150240  827011617858523137   FOX Sports  2017-02-02 04:31:49   44   \n",
       "150241  827007943111372800   FOX Sports  2017-02-02 04:17:13   24   \n",
       "150242  827007374292447234   FOX Sports  2017-02-02 04:14:57  144   \n",
       "150243  827004766672691200   FOX Sports  2017-02-02 04:04:36   37   \n",
       "150244  827003723708669953   FOX Sports  2017-02-02 04:00:27    8   \n",
       "150245  826996864335564801   FOX Sports  2017-02-02 03:33:11   36   \n",
       "150246  826989973618372608   FOX Sports  2017-02-02 03:05:49   40   \n",
       "150247  826986974841970688   FOX Sports  2017-02-02 02:53:54   17   \n",
       "150248  826984833108684800   FOX Sports  2017-02-02 02:45:23   14   \n",
       "\n",
       "                                                        4 CATEGORY  \n",
       "0                             learn chang game arthistori      ART  \n",
       "1        natalia ryabova see natalia' work artistoftheday      ART  \n",
       "2                                      littl goe long way      ART  \n",
       "3       meet theotherartfair' robin clare whose work e...      ART  \n",
       "4        revisit sacr piec honor da vinci' 565th birthday      ART  \n",
       "5             leah saulnier see leah' work artistoftheday      ART  \n",
       "6                   familiar one oldest medium arthistori      ART  \n",
       "7       nadia attura build layer creat dynam imag peek...      ART  \n",
       "8                everyth alway want know frame afraid ask      ART  \n",
       "9                           know women help shape pop art      ART  \n",
       "10       see 64 new figur paint emerg artist around world      ART  \n",
       "11      guglielmo alfaron see guglielmo' work artistof...      ART  \n",
       "12      congrat former fair guest artist martin parr g...      ART  \n",
       "13       attn artist toaf_bristol now accept applic appli      ART  \n",
       "14          escap se rin park' dreami landscap onetowatch      ART  \n",
       "15      jann gill johannesen see janne' work artistoft...      ART  \n",
       "16                                  use littl luxuri life      ART  \n",
       "17                                        set mood spring      ART  \n",
       "18                  ali king see ali' work artistoftheday      ART  \n",
       "19            grad season come right catch us esquir list      ART  \n",
       "20               portrait abstract week' collect new work      ART  \n",
       "21      zaza tuschmalischvili see zara' work artistoft...      ART  \n",
       "22      charlott evan use vivid color echo way detail ...      ART  \n",
       "23      everi form base color everi color attribut for...      ART  \n",
       "24       benjamin bridg see benjamin' work artistoftheday      ART  \n",
       "25                                          fresh outlook      ART  \n",
       "26                  see exhibit next month' toaf_melbourn      ART  \n",
       "27             angi wright see angie' work artistoftheday      ART  \n",
       "28      bit piec come togeth portrait abstract collect...      ART  \n",
       "29                                   see world nadia' eye      ART  \n",
       "...                                                   ...      ...  \n",
       "150219  seahawk de michael bennett will procast corres...   SPORTS  \n",
       "150220             foxsportsl fs1 foxsportsgo now sb51 gt   SPORTS  \n",
       "150221  believ magic magicjohnson return laker special...   SPORTS  \n",
       "150222  shannonsharp bill belichick can t consid great...   SPORTS  \n",
       "150223  realskipbayless l_bell26 'doesn t gut come und...   SPORTS  \n",
       "150224  penguin provid first look full stadium seri un...   SPORTS  \n",
       "150225  face atl twice season amp twice put 30 point d...   SPORTS  \n",
       "150226  shannonsharp explain fan will never understand...   SPORTS  \n",
       "150227  rio olymp superbowl patriots' nate ebner live ...   SPORTS  \n",
       "150228               10 nfl player sold merchandis season   SPORTS  \n",
       "150229  realskipbayless shannonsharp react roger goode...   SPORTS  \n",
       "150230  superbowl expert pick will atlantafalcon patri...   SPORTS  \n",
       "150231  realskipbayless discuss uncommon trait drove t...   SPORTS  \n",
       "150232  5 way atlantafalcon can stop tom bradi superbo...   SPORTS  \n",
       "150233                       nhl focus promot star player   SPORTS  \n",
       "150234  10 eye pop superbowl trend will help pick sund...   SPORTS  \n",
       "150235  criscarter80 getnickwright' 6 unsung player wa...   SPORTS  \n",
       "150236  steph curri cross marvin william hit 8 three p...   SPORTS  \n",
       "150237             5 thing patriot drive oppon crazi sb51   SPORTS  \n",
       "150238   watch dell curri show steph knock serious deep 3   SPORTS  \n",
       "150239  lebron jame receiv naacp jacki robinson sport ...   SPORTS  \n",
       "150240  50 pictur 50 super bowl ring diamond encrust g...   SPORTS  \n",
       "150241  close good final xaviermbb defeat seton hall 7...   SPORTS  \n",
       "150242  trevon bluiett tough bucket xaviermbb lead 4 4...   SPORTS  \n",
       "150243  rock chalk jayhawk final 3 kansa defeat 2 bayl...   SPORTS  \n",
       "150244  histori super bowl s seven 1 defens vs 1 offen...   SPORTS  \n",
       "150245  larri fitzgerald say s return 2017 put end ret...   SPORTS  \n",
       "150246  falcon de dwight freeney say tri hate tom brad...   SPORTS  \n",
       "150247  need see amaz high school yearbook photo patri...   SPORTS  \n",
       "150248  carlo martinez make progress new long term dea...   SPORTS  \n",
       "\n",
       "[150249 rows x 6 columns]"
      ]
     },
     "execution_count": 10,
     "metadata": {},
     "output_type": "execute_result"
    }
   ],
   "source": [
    "tweets"
   ]
  },
  {
   "cell_type": "code",
   "execution_count": 11,
   "metadata": {
    "collapsed": true
   },
   "outputs": [],
   "source": [
    "def tweets_to_words(tweet):\n",
    "    tweet = re.sub(r\"http\\S+\", \" \", tweet)\n",
    "\n",
    "    text = BeautifulSoup(tweet).get_text() \n",
    "    \n",
    "    letters_only = re.sub(\"[^a-zA-Z]\", \" \", text) \n",
    "   \n",
    "    words = letters_only.lower().split()                             \n",
    "\n",
    "    stops = set(stopwords.words(\"english\"))                  \n",
    "    \n",
    "    meaningful_words = [w for w in words if not w in stops]   \n",
    "\n",
    "    return( \" \".join( meaningful_words ))"
   ]
  },
  {
   "cell_type": "code",
   "execution_count": 14,
   "metadata": {
    "collapsed": false,
    "scrolled": true
   },
   "outputs": [
    {
     "name": "stderr",
     "output_type": "stream",
     "text": [
      "/Users/ltang/anaconda2/lib/python2.7/site-packages/bs4/__init__.py:181: UserWarning: No parser was explicitly specified, so I'm using the best available HTML parser for this system (\"lxml\"). This usually isn't a problem, but if you run this code on another system, or in a different virtual environment, it may use a different parser and behave differently.\n",
      "\n",
      "The code that caused this warning is on line 174 of the file /Users/ltang/anaconda2/lib/python2.7/runpy.py. To get rid of this warning, change code that looks like this:\n",
      "\n",
      " BeautifulSoup([your markup])\n",
      "\n",
      "to this:\n",
      "\n",
      " BeautifulSoup([your markup], \"lxml\")\n",
      "\n",
      "  markup_type=markup_type))\n"
     ]
    },
    {
     "name": "stdout",
     "output_type": "stream",
     "text": [
      "PROCESSSING\n",
      "PROCESSSING\n",
      "PROCESSSING\n",
      "PROCESSSING\n",
      "PROCESSSING\n",
      "PROCESSSING\n",
      "PROCESSSING\n",
      "PROCESSSING\n",
      "PROCESSSING\n",
      "PROCESSSING\n",
      "PROCESSSING\n",
      "PROCESSSING\n",
      "PROCESSSING\n",
      "PROCESSSING\n",
      "PROCESSSING\n",
      "PROCESSSING\n"
     ]
    }
   ],
   "source": [
    "num_tweets = tweets[4].size\n",
    "clean_tweets = []\n",
    "for i in xrange( 0, num_tweets ):\n",
    "    clean_tweets.append(tweets_to_words(tweets[4][i]))\n",
    "    if i %10000 == 0:\n",
    "        print(\"PROCESSSING\")"
   ]
  },
  {
   "cell_type": "code",
   "execution_count": 16,
   "metadata": {
    "collapsed": false
   },
   "outputs": [],
   "source": [
    "vectorizer = CountVectorizer(analyzer = \"word\", tokenizer = None, preprocessor = None, stop_words = None, max_features = 6000)\n",
    "tfidf_transformer = TfidfTransformer()\n",
    "X_train, X_test, y_train, y_test = train_test_split(clean_tweets, tweets['CATEGORY'], test_size=0.05, random_state=777)"
   ]
  },
  {
   "cell_type": "code",
   "execution_count": 17,
   "metadata": {
    "collapsed": false
   },
   "outputs": [],
   "source": [
    "X_train_features = vectorizer.fit_transform(X_train)\n",
    "X_test_features = vectorizer.fit_transform(X_test)\n",
    "\n",
    "X_train_tfidf = tfidf_transformer.fit_transform(X_train_features)\n",
    "X_test_tfidf = tfidf_transformer.transform(X_test_features)"
   ]
  },
  {
   "cell_type": "code",
   "execution_count": 27,
   "metadata": {
    "collapsed": false
   },
   "outputs": [
    {
     "data": {
      "text/plain": [
       "SGDClassifier(alpha=0.001, average=False, class_weight=None, epsilon=0.1,\n",
       "       eta0=0.0, fit_intercept=True, l1_ratio=0.15,\n",
       "       learning_rate='optimal', loss='hinge', n_iter=100, n_jobs=1,\n",
       "       penalty='l2', power_t=0.5, random_state=42, shuffle=True, verbose=0,\n",
       "       warm_start=False)"
      ]
     },
     "execution_count": 27,
     "metadata": {},
     "output_type": "execute_result"
    }
   ],
   "source": [
    "from sklearn.linear_model import SGDClassifier\n",
    "svm = SGDClassifier(loss='hinge', penalty='l2', alpha=1e-3, n_iter=100, random_state=42)\n",
    "svm.fit(X_train_tfidf, y_train)"
   ]
  },
  {
   "cell_type": "code",
   "execution_count": 29,
   "metadata": {
    "collapsed": false
   },
   "outputs": [
    {
     "data": {
      "text/plain": [
       "array(['LIBERAL', 'GAMER', 'MUSIC', ..., 'LIBERAL', 'RELIGIOUS', 'GAMER'], dtype=object)"
      ]
     },
     "execution_count": 29,
     "metadata": {},
     "output_type": "execute_result"
    }
   ],
   "source": [
    "obs = np.array(y_test)\n",
    "obs"
   ]
  },
  {
   "cell_type": "code",
   "execution_count": 31,
   "metadata": {
    "collapsed": false,
    "scrolled": true
   },
   "outputs": [
    {
     "data": {
      "text/plain": [
       "0.14977062738256769"
      ]
     },
     "execution_count": 31,
     "metadata": {},
     "output_type": "execute_result"
    }
   ],
   "source": [
    "np.mean( pred == obs )"
   ]
  },
  {
   "cell_type": "code",
   "execution_count": 19,
   "metadata": {
    "collapsed": true
   },
   "outputs": [],
   "source": [
    "def tweet_features(tweets):\n",
    "    contains = []\n",
    "    for tweet in tweets:\n",
    "        features = {}\n",
    "        for bigrams in nltk.bigrams(tweet.split(' ')):\n",
    "            features['contains(%s)' % ','.join(bigrams)] = True\n",
    "        contains.append(features)\n",
    "\n",
    "    return contains"
   ]
  },
  {
   "cell_type": "code",
   "execution_count": 79,
   "metadata": {
    "collapsed": false
   },
   "outputs": [],
   "source": [
    "import nltk\n",
    "clf = nltk.NaiveBayesClassifier\n",
    "train = zip(tweet_features(clean_tweets), tweets['CATEGORY'])\n",
    "test = zip(tweet_features(X_test), y_test)"
   ]
  },
  {
   "cell_type": "code",
   "execution_count": 82,
   "metadata": {
    "collapsed": false
   },
   "outputs": [],
   "source": [
    "clf = nltk.NaiveBayesClassifier.train(train)"
   ]
  },
  {
   "cell_type": "code",
   "execution_count": 83,
   "metadata": {
    "collapsed": false
   },
   "outputs": [
    {
     "name": "stdout",
     "output_type": "stream",
     "text": [
      "Most Informative Features\n",
      "contains(thursday,night) = True           SPORTS : MUSIC  =   4277.6 : 1.0\n",
      "contains(streaming,live) = True           SPORTS : SCIENC =   3279.2 : 1.0\n",
      "contains(president,obama) = True           LIBERA : MUSIC  =   1891.1 : 1.0\n",
      "contains(night,football) = True           SPORTS : RELIGI =   1814.3 : 1.0\n",
      "  contains(live,twitter) = True           SPORTS : MUSIC  =   1463.2 : 1.0\n",
      "  contains(donald,trump) = True           LIBERA : GAMER  =   1068.5 : 1.0\n",
      "    contains(watch,game) = True           SPORTS : GAMER  =    903.4 : 1.0\n",
      "      contains(see,work) = True              ART : GAMER  =    858.5 : 1.0\n",
      "   contains(health,care) = True           LIBERA : MUSIC  =    528.6 : 1.0\n",
      "contains(hillary,clinton) = True           CONSER : GAMER  =    464.8 : 1.0\n",
      "      contains(born,day) = True              ART : MUSIC  =    350.4 : 1.0\n",
      "contains(happy,birthday) = True              ART : SCIENC =    277.3 : 1.0\n",
      "     contains(art,world) = True              ART : GAMER  =    269.0 : 1.0\n",
      "contains(climate,change) = True           LIBERA : FASHIO =    264.1 : 1.0\n",
      " contains(supreme,court) = True           LIBERA : GAMER  =    258.3 : 1.0\n",
      "  contains(street,style) = True           FASHIO : MUSIC  =    238.1 : 1.0\n",
      "     contains(tom,brady) = True           SPORTS : GAMER  =    225.1 : 1.0\n",
      "contains(russell,westbrook) = True           SPORTS : MUSIC  =    212.9 : 1.0\n",
      "contains(american,people) = True           CONSER : MUSIC  =    208.8 : 1.0\n",
      " contains(space,station) = True           SCIENC : FOOD   =    208.3 : 1.0\n"
     ]
    }
   ],
   "source": [
    "clf.show_most_informative_features(20)"
   ]
  },
  {
   "cell_type": "code",
   "execution_count": 84,
   "metadata": {
    "collapsed": false
   },
   "outputs": [
    {
     "name": "stdout",
     "output_type": "stream",
     "text": [
      "0.968921625638\n"
     ]
    }
   ],
   "source": [
    "print(nltk.classify.accuracy(clf, test))"
   ]
  },
  {
   "cell_type": "code",
   "execution_count": 88,
   "metadata": {
    "collapsed": true
   },
   "outputs": [],
   "source": [
    "clf2 = nltk.NaiveBayesClassifier\n",
    "train = zip(tweet_features(X_train), y_train)\n",
    "test = zip(tweet_features(X_test), y_test)\n",
    "clf2 = nltk.NaiveBayesClassifier.train(train)"
   ]
  },
  {
   "cell_type": "code",
   "execution_count": 89,
   "metadata": {
    "collapsed": false,
    "scrolled": true
   },
   "outputs": [
    {
     "name": "stdout",
     "output_type": "stream",
     "text": [
      "0.775681612611\n"
     ]
    }
   ],
   "source": [
    "print(nltk.classify.accuracy(clf2, test))"
   ]
  },
  {
   "cell_type": "code",
   "execution_count": 20,
   "metadata": {
    "collapsed": false
   },
   "outputs": [],
   "source": [
    "X_train, X_test, y_train, y_test = train_test_split(clean_tweets, tweets['CATEGORY'], test_size=0.01, random_state=330)\n",
    "clf3 = nltk.NaiveBayesClassifier\n",
    "train = zip(tweet_features(X_train), y_train)\n",
    "test = zip(tweet_features(X_test), y_test)\n",
    "clf3 = nltk.NaiveBayesClassifier.train(train)"
   ]
  },
  {
   "cell_type": "code",
   "execution_count": 21,
   "metadata": {
    "collapsed": false
   },
   "outputs": [
    {
     "name": "stdout",
     "output_type": "stream",
     "text": [
      "0.797737857618\n"
     ]
    }
   ],
   "source": [
    "print(nltk.classify.accuracy(clf3, test))"
   ]
  },
  {
   "cell_type": "code",
   "execution_count": 103,
   "metadata": {
    "collapsed": false
   },
   "outputs": [
    {
     "data": {
      "text/plain": [
       "[u'learn changed game arthistory',\n",
       " u'natalia ryabova see natalia work artistoftheday',\n",
       " u'little goes long way',\n",
       " u'meet theotherartfair robin clare whose work explores jamaican pop culture']"
      ]
     },
     "execution_count": 103,
     "metadata": {},
     "output_type": "execute_result"
    }
   ],
   "source": [
    "clean_tweets[0:4]"
   ]
  },
  {
   "cell_type": "code",
   "execution_count": 105,
   "metadata": {
    "collapsed": true
   },
   "outputs": [],
   "source": [
    "X_train, X_test, y_train, y_test = train_test_split(tweets['text'], tweets['CATEGORY'], test_size=0.01, random_state=330)\n",
    "clf4 = nltk.NaiveBayesClassifier\n",
    "train = zip(tweet_features(X_train), y_train)\n",
    "test = zip(tweet_features(X_test), y_test)\n",
    "clf4 = nltk.NaiveBayesClassifier.train(train)"
   ]
  },
  {
   "cell_type": "code",
   "execution_count": 106,
   "metadata": {
    "collapsed": false
   },
   "outputs": [
    {
     "name": "stdout",
     "output_type": "stream",
     "text": [
      "0.762919896641\n"
     ]
    }
   ],
   "source": [
    "print(nltk.classify.accuracy(clf4, test))"
   ]
  },
  {
   "cell_type": "code",
   "execution_count": null,
   "metadata": {
    "collapsed": false
   },
   "outputs": [],
   "source": [
    "import pickle\n",
    "f = open('nb_clean_0.01.pickle', 'wb')\n",
    "pickle.dump(clf3, f)\n",
    "f.close()"
   ]
  },
  {
   "cell_type": "code",
   "execution_count": 22,
   "metadata": {
    "collapsed": false
   },
   "outputs": [
    {
     "ename": "NameError",
     "evalue": "name 'mean' is not defined",
     "output_type": "error",
     "traceback": [
      "\u001b[0;31m---------------------------------------------------------------------------\u001b[0m",
      "\u001b[0;31mNameError\u001b[0m                                 Traceback (most recent call last)",
      "\u001b[0;32m<ipython-input-22-464604a22fcf>\u001b[0m in \u001b[0;36m<module>\u001b[0;34m()\u001b[0m\n\u001b[0;32m----> 1\u001b[0;31m \u001b[0mmean\u001b[0m\u001b[0;34m(\u001b[0m\u001b[0;34m[\u001b[0m\u001b[0;36m1\u001b[0m\u001b[0;34m,\u001b[0m\u001b[0;36m2\u001b[0m\u001b[0;34m,\u001b[0m\u001b[0;36m3\u001b[0m\u001b[0;34m]\u001b[0m\u001b[0;34m)\u001b[0m\u001b[0;34m\u001b[0m\u001b[0m\n\u001b[0m",
      "\u001b[0;31mNameError\u001b[0m: name 'mean' is not defined"
     ]
    }
   ],
   "source": [
    "mean([1,2,3])"
   ]
  },
  {
   "cell_type": "code",
   "execution_count": null,
   "metadata": {
    "collapsed": true
   },
   "outputs": [],
   "source": []
  }
 ],
 "metadata": {
  "anaconda-cloud": {},
  "kernelspec": {
   "display_name": "Python [default]",
   "language": "python",
   "name": "python2"
  },
  "language_info": {
   "codemirror_mode": {
    "name": "ipython",
    "version": 2
   },
   "file_extension": ".py",
   "mimetype": "text/x-python",
   "name": "python",
   "nbconvert_exporter": "python",
   "pygments_lexer": "ipython2",
   "version": "2.7.12"
  }
 },
 "nbformat": 4,
 "nbformat_minor": 1
}
