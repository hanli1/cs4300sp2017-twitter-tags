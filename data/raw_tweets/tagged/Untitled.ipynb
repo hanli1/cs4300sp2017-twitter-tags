{
 "cells": [
  {
   "cell_type": "code",
   "execution_count": 35,
   "metadata": {
    "collapsed": true
   },
   "outputs": [],
   "source": [
    "import pandas as pd\n",
    "import numpy as np\n",
    "from bs4 import BeautifulSoup  \n",
    "import re\n",
    "import nltk\n",
    "from nltk.corpus import stopwords\n",
    "from sklearn.feature_extraction.text import CountVectorizer\n",
    "from sklearn.ensemble import RandomForestClassifier\n",
    "from sklearn.cross_validation import train_test_split\n",
    "from sklearn.naive_bayes import MultinomialNB\n",
    "from sklearn import svm\n",
    "from sklearn.feature_extraction.text import TfidfTransformer"
   ]
  },
  {
   "cell_type": "code",
   "execution_count": 36,
   "metadata": {
    "collapsed": true
   },
   "outputs": [],
   "source": [
    "t1 = pd.read_csv('art_lover.csv', header=0)\n",
    "t2 = pd.read_csv('conservative.csv', header=0)\n",
    "t3 = pd.read_csv('fashion_lover.csv', header=0)\n",
    "t4 = pd.read_csv('food_lover.csv', header=0)\n",
    "t5 = pd.read_csv('gamer.csv', header=0)\n",
    "t6 = pd.read_csv('liberal.csv', header=0)\n",
    "t7 = pd.read_csv('music_lover.csv', header=0)\n",
    "t8 = pd.read_csv('religious.csv',header=0)\n",
    "t9 = pd.read_csv('science_lover.csv', header=0)\n",
    "t10 = pd.read_csv('sports_fan.csv', header=0)"
   ]
  },
  {
   "cell_type": "code",
   "execution_count": 37,
   "metadata": {
    "collapsed": true
   },
   "outputs": [],
   "source": [
    "t1['CATEGORY'] = \"ART\"\n",
    "t2['CATEGORY'] = \"CONSERVATIVE\"\n",
    "t3['CATEGORY'] = \"FASHION\"\n",
    "t4['CATEGORY'] = \"FOOD\"\n",
    "t5['CATEGORY'] = \"GAMER\"\n",
    "t6['CATEGORY'] = \"LIBERAL\"\n",
    "t7['CATEGORY'] = \"MUSIC\"\n",
    "t8['CATEGORY'] = \"RELIGIOUS\"\n",
    "t9['CATEGORY'] = \"SCIENCE\"\n",
    "t10['CATEGORY'] = \"SPORTS\""
   ]
  },
  {
   "cell_type": "code",
   "execution_count": 38,
   "metadata": {
    "collapsed": true
   },
   "outputs": [],
   "source": [
    "frames = [t1, t2, t3, t4, t5, t6, t7, t8, t9, t10]\n",
    "tweets = pd.concat(frames, ignore_index = True)"
   ]
  },
  {
   "cell_type": "code",
   "execution_count": 39,
   "metadata": {
    "collapsed": true
   },
   "outputs": [],
   "source": [
    "def tweets_to_words(tweet):\n",
    "    tweet = re.sub(r\"http\\S+\", \" \", tweet)\n",
    "\n",
    "    text = BeautifulSoup(tweet).get_text() \n",
    "    \n",
    "    letters_only = re.sub(\"[^a-zA-Z]\", \" \", text) \n",
    "   \n",
    "    words = letters_only.lower().split()                             \n",
    "\n",
    "    stops = set(stopwords.words(\"english\"))                  \n",
    "    \n",
    "    meaningful_words = [w for w in words if not w in stops]   \n",
    "\n",
    "    return( \" \".join( meaningful_words ))"
   ]
  },
  {
   "cell_type": "code",
   "execution_count": 90,
   "metadata": {
    "collapsed": false
   },
   "outputs": [
    {
     "name": "stdout",
     "output_type": "stream",
     "text": [
      "PROCESSSING\n",
      "PROCESSSING\n",
      "PROCESSSING\n",
      "PROCESSSING\n",
      "PROCESSSING\n",
      "PROCESSSING\n",
      "PROCESSSING\n",
      "PROCESSSING\n",
      "PROCESSSING\n",
      "PROCESSSING\n",
      "PROCESSSING\n",
      "PROCESSSING\n",
      "PROCESSSING\n",
      "PROCESSSING\n",
      "PROCESSSING\n",
      "PROCESSSING\n"
     ]
    }
   ],
   "source": [
    "num_tweets = tweets[\"text\"].size\n",
    "clean_tweets = []\n",
    "for i in xrange( 0, num_tweets ):\n",
    "    clean_tweets.append(tweets_to_words(tweets[\"text\"][i]))\n",
    "    if i %10000 == 0:\n",
    "        print(\"PROCESSSING\")"
   ]
  },
  {
   "cell_type": "code",
   "execution_count": 87,
   "metadata": {
    "collapsed": false
   },
   "outputs": [],
   "source": [
    "vectorizer = CountVectorizer(analyzer = \"word\", tokenizer = None, preprocessor = None, stop_words = None, max_features = 10000)\n",
    "tfidf_transformer = TfidfTransformer()\n",
    "X_train, X_test, y_train, y_test = train_test_split(clean_tweets, tweets['CATEGORY'], test_size=0.05, random_state=777)"
   ]
  },
  {
   "cell_type": "code",
   "execution_count": 26,
   "metadata": {
    "collapsed": false
   },
   "outputs": [],
   "source": [
    "X_train_features = vectorizer.fit_transform(X_train)\n",
    "X_test_features = vectorizer.fit_transform(X_test)\n",
    "\n",
    "X_train_tfidf = tfidf_transformer.fit_transform(X_train_features)\n",
    "X_test_tfidf = tfidf_transformer.transform(X_test_features)"
   ]
  },
  {
   "cell_type": "code",
   "execution_count": 27,
   "metadata": {
    "collapsed": false
   },
   "outputs": [
    {
     "data": {
      "text/plain": [
       "SGDClassifier(alpha=0.001, average=False, class_weight=None, epsilon=0.1,\n",
       "       eta0=0.0, fit_intercept=True, l1_ratio=0.15,\n",
       "       learning_rate='optimal', loss='hinge', n_iter=100, n_jobs=1,\n",
       "       penalty='l2', power_t=0.5, random_state=42, shuffle=True, verbose=0,\n",
       "       warm_start=False)"
      ]
     },
     "execution_count": 27,
     "metadata": {},
     "output_type": "execute_result"
    }
   ],
   "source": [
    "from sklearn.linear_model import SGDClassifier\n",
    "svm = SGDClassifier(loss='hinge', penalty='l2', alpha=1e-3, n_iter=100, random_state=42)\n",
    "svm.fit(X_train_tfidf, y_train)"
   ]
  },
  {
   "cell_type": "code",
   "execution_count": 29,
   "metadata": {
    "collapsed": false
   },
   "outputs": [
    {
     "data": {
      "text/plain": [
       "array(['LIBERAL', 'GAMER', 'MUSIC', ..., 'LIBERAL', 'RELIGIOUS', 'GAMER'], dtype=object)"
      ]
     },
     "execution_count": 29,
     "metadata": {},
     "output_type": "execute_result"
    }
   ],
   "source": [
    "obs = np.array(y_test)\n",
    "obs"
   ]
  },
  {
   "cell_type": "code",
   "execution_count": 31,
   "metadata": {
    "collapsed": false,
    "scrolled": true
   },
   "outputs": [
    {
     "data": {
      "text/plain": [
       "0.14977062738256769"
      ]
     },
     "execution_count": 31,
     "metadata": {},
     "output_type": "execute_result"
    }
   ],
   "source": [
    "np.mean( pred == obs )"
   ]
  },
  {
   "cell_type": "code",
   "execution_count": 74,
   "metadata": {
    "collapsed": true
   },
   "outputs": [],
   "source": [
    "def tweet_features(tweets):\n",
    "    contains = []\n",
    "    for tweet in tweets:\n",
    "        features = {}\n",
    "        for bigrams in nltk.bigrams(tweet.split(' ')):\n",
    "            features['contains(%s)' % ','.join(bigrams)] = True\n",
    "        contains.append(features)\n",
    "\n",
    "    return contains"
   ]
  },
  {
   "cell_type": "code",
   "execution_count": 79,
   "metadata": {
    "collapsed": false
   },
   "outputs": [],
   "source": [
    "import nltk\n",
    "clf = nltk.NaiveBayesClassifier\n",
    "train = zip(tweet_features(clean_tweets), tweets['CATEGORY'])\n",
    "test = zip(tweet_features(X_test), y_test)"
   ]
  },
  {
   "cell_type": "code",
   "execution_count": 82,
   "metadata": {
    "collapsed": false
   },
   "outputs": [],
   "source": [
    "clf = nltk.NaiveBayesClassifier.train(train)"
   ]
  },
  {
   "cell_type": "code",
   "execution_count": 83,
   "metadata": {
    "collapsed": false
   },
   "outputs": [
    {
     "name": "stdout",
     "output_type": "stream",
     "text": [
      "Most Informative Features\n",
      "contains(thursday,night) = True           SPORTS : MUSIC  =   4277.6 : 1.0\n",
      "contains(streaming,live) = True           SPORTS : SCIENC =   3279.2 : 1.0\n",
      "contains(president,obama) = True           LIBERA : MUSIC  =   1891.1 : 1.0\n",
      "contains(night,football) = True           SPORTS : RELIGI =   1814.3 : 1.0\n",
      "  contains(live,twitter) = True           SPORTS : MUSIC  =   1463.2 : 1.0\n",
      "  contains(donald,trump) = True           LIBERA : GAMER  =   1068.5 : 1.0\n",
      "    contains(watch,game) = True           SPORTS : GAMER  =    903.4 : 1.0\n",
      "      contains(see,work) = True              ART : GAMER  =    858.5 : 1.0\n",
      "   contains(health,care) = True           LIBERA : MUSIC  =    528.6 : 1.0\n",
      "contains(hillary,clinton) = True           CONSER : GAMER  =    464.8 : 1.0\n",
      "      contains(born,day) = True              ART : MUSIC  =    350.4 : 1.0\n",
      "contains(happy,birthday) = True              ART : SCIENC =    277.3 : 1.0\n",
      "     contains(art,world) = True              ART : GAMER  =    269.0 : 1.0\n",
      "contains(climate,change) = True           LIBERA : FASHIO =    264.1 : 1.0\n",
      " contains(supreme,court) = True           LIBERA : GAMER  =    258.3 : 1.0\n",
      "  contains(street,style) = True           FASHIO : MUSIC  =    238.1 : 1.0\n",
      "     contains(tom,brady) = True           SPORTS : GAMER  =    225.1 : 1.0\n",
      "contains(russell,westbrook) = True           SPORTS : MUSIC  =    212.9 : 1.0\n",
      "contains(american,people) = True           CONSER : MUSIC  =    208.8 : 1.0\n",
      " contains(space,station) = True           SCIENC : FOOD   =    208.3 : 1.0\n"
     ]
    }
   ],
   "source": [
    "clf.show_most_informative_features(20)"
   ]
  },
  {
   "cell_type": "code",
   "execution_count": 84,
   "metadata": {
    "collapsed": false
   },
   "outputs": [
    {
     "name": "stdout",
     "output_type": "stream",
     "text": [
      "0.968921625638\n"
     ]
    }
   ],
   "source": [
    "print(nltk.classify.accuracy(clf, test))"
   ]
  },
  {
   "cell_type": "code",
   "execution_count": 88,
   "metadata": {
    "collapsed": true
   },
   "outputs": [],
   "source": [
    "clf2 = nltk.NaiveBayesClassifier\n",
    "train = zip(tweet_features(X_train), y_train)\n",
    "test = zip(tweet_features(X_test), y_test)\n",
    "clf2 = nltk.NaiveBayesClassifier.train(train)"
   ]
  },
  {
   "cell_type": "code",
   "execution_count": 89,
   "metadata": {
    "collapsed": false,
    "scrolled": true
   },
   "outputs": [
    {
     "name": "stdout",
     "output_type": "stream",
     "text": [
      "0.775681612611\n"
     ]
    }
   ],
   "source": [
    "print(nltk.classify.accuracy(clf2, test))"
   ]
  },
  {
   "cell_type": "code",
   "execution_count": 101,
   "metadata": {
    "collapsed": true
   },
   "outputs": [],
   "source": [
    "X_train, X_test, y_train, y_test = train_test_split(clean_tweets, tweets['CATEGORY'], test_size=0.01, random_state=330)\n",
    "clf3 = nltk.NaiveBayesClassifier\n",
    "train = zip(tweet_features(X_train), y_train)\n",
    "test = zip(tweet_features(X_test), y_test)\n",
    "clf3 = nltk.NaiveBayesClassifier.train(train)"
   ]
  },
  {
   "cell_type": "code",
   "execution_count": 102,
   "metadata": {
    "collapsed": false
   },
   "outputs": [
    {
     "name": "stdout",
     "output_type": "stream",
     "text": [
      "0.790697674419\n"
     ]
    }
   ],
   "source": [
    "print(nltk.classify.accuracy(clf3, test))"
   ]
  },
  {
   "cell_type": "code",
   "execution_count": 103,
   "metadata": {
    "collapsed": false
   },
   "outputs": [
    {
     "data": {
      "text/plain": [
       "[u'learn changed game arthistory',\n",
       " u'natalia ryabova see natalia work artistoftheday',\n",
       " u'little goes long way',\n",
       " u'meet theotherartfair robin clare whose work explores jamaican pop culture']"
      ]
     },
     "execution_count": 103,
     "metadata": {},
     "output_type": "execute_result"
    }
   ],
   "source": [
    "clean_tweets[0:4]"
   ]
  },
  {
   "cell_type": "code",
   "execution_count": 105,
   "metadata": {
    "collapsed": true
   },
   "outputs": [],
   "source": [
    "X_train, X_test, y_train, y_test = train_test_split(tweets['text'], tweets['CATEGORY'], test_size=0.01, random_state=330)\n",
    "clf4 = nltk.NaiveBayesClassifier\n",
    "train = zip(tweet_features(X_train), y_train)\n",
    "test = zip(tweet_features(X_test), y_test)\n",
    "clf4 = nltk.NaiveBayesClassifier.train(train)"
   ]
  },
  {
   "cell_type": "code",
   "execution_count": 106,
   "metadata": {
    "collapsed": false
   },
   "outputs": [
    {
     "name": "stdout",
     "output_type": "stream",
     "text": [
      "0.762919896641\n"
     ]
    }
   ],
   "source": [
    "print(nltk.classify.accuracy(clf4, test))"
   ]
  },
  {
   "cell_type": "code",
   "execution_count": null,
   "metadata": {
    "collapsed": false
   },
   "outputs": [],
   "source": [
    "import pickle\n",
    "f = open('nb_clean_0.01.pickle', 'wb')\n",
    "pickle.dump(clf3, f)\n",
    "f.close()"
   ]
  },
  {
   "cell_type": "code",
   "execution_count": null,
   "metadata": {
    "collapsed": true
   },
   "outputs": [],
   "source": []
  }
 ],
 "metadata": {
  "anaconda-cloud": {},
  "kernelspec": {
   "display_name": "Python [default]",
   "language": "python",
   "name": "python2"
  },
  "language_info": {
   "codemirror_mode": {
    "name": "ipython",
    "version": 2
   },
   "file_extension": ".py",
   "mimetype": "text/x-python",
   "name": "python",
   "nbconvert_exporter": "python",
   "pygments_lexer": "ipython2",
   "version": "2.7.12"
  }
 },
 "nbformat": 4,
 "nbformat_minor": 1
}
